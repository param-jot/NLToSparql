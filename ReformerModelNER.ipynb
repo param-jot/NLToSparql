{
  "nbformat": 4,
  "nbformat_minor": 0,
  "metadata": {
    "accelerator": "GPU",
    "colab": {
      "name": "ReformerModelTC-100 epochs.ipynb",
      "provenance": [],
      "machine_shape": "hm"
    },
    "kernelspec": {
      "display_name": "Keras",
      "language": "python",
      "name": "keras"
    },
    "language_info": {
      "codemirror_mode": {
        "name": "ipython",
        "version": 3
      },
      "file_extension": ".py",
      "mimetype": "text/x-python",
      "name": "python",
      "nbconvert_exporter": "python",
      "pygments_lexer": "ipython3",
      "version": "3.6.9"
    }
  },
  "cells": [
    {
      "cell_type": "code",
      "metadata": {
        "id": "evnax1Fhury5",
        "scrolled": true
      },
      "source": [
        "!pip install transformers\n",
        "!pip install sentencepiece\n",
        "!pip install matplotlib\n",
        "!pip install seqeval\n",
        "\n",
        "import torch\n",
        "from seqeval.metrics import f1_score, accuracy_score\n",
        "import matplotlib.pyplot as plt\n",
        "import seaborn as sns\n",
        "import numpy as np\n",
        "import pandas as pd\n",
        "import sentencepiece\n",
        "import transformers\n",
        "from torch.utils.data import Dataset, TensorDataset ,DataLoader, RandomSampler, SequentialSampler\n",
        "import sentencepiece as spm\n",
        "from transformers import BertForTokenClassification, BertTokenizer, BertConfig, BertModel, AdamW\n",
        "from transformers import ReformerPreTrainedModel, ReformerModel, ReformerConfig\n",
        "from transformers.file_utils import add_start_docstrings_to_model_forward, add_code_sample_docstrings\n",
        "from keras.preprocessing.sequence import pad_sequences\n",
        "from sklearn.model_selection import train_test_split"
      ],
      "execution_count": null,
      "outputs": []
    },
    {
      "cell_type": "code",
      "metadata": {
        "id": "Axpmf7YAury9"
      },
      "source": [
        "from torch.nn import CrossEntropyLoss, MSELoss\n",
        "import torch.nn as nn\n",
        "from transformers.modeling_outputs import TokenClassifierOutput, SequenceClassifierOutput\n",
        "_CONFIG_FOR_DOC = \"ReformerConfig\"\n",
        "_TOKENIZER_FOR_DOC = \"ReformerTokenizer\"\n",
        "_CHECKPOINT_FOR_DOC = \"reformer-base-uncased\"\n",
        "REFORMER_INPUTS_DOCSTRING = r\"\"\"\n",
        "\n",
        "    Args:\n",
        "        input_ids (:obj:`torch.LongTensor` of shape :obj:`(batch_size, sequence_length)`):\n",
        "            Indices of input sequence tokens in the vocabulary. During training the input_ids sequence_length has to be\n",
        "            a multiple of the relevant model's chunk lengths (lsh's, local's or both). During evaluation, the indices\n",
        "            are automatically padded to be a multiple of the chunk length.\n",
        "\n",
        "            Indices can be obtained using :class:`~transformers.ReformerTokenizer`. See\n",
        "            :meth:`transformers.PreTrainedTokenizer.encode` and :meth:`transformers.PreTrainedTokenizer.__call__` for\n",
        "            details.\n",
        "\n",
        "            `What are input IDs? <../glossary.html#input-ids>`__\n",
        "        attention_mask (:obj:`torch.FloatTensor` of shape :obj:`(batch_size, sequence_length)`, `optional`):\n",
        "            Mask to avoid performing attention on padding token indices. Mask values selected in ``[0, 1]``:\n",
        "\n",
        "            - 1 for tokens that are **not masked**,\n",
        "            - 0 for tokens that are **masked**.\n",
        "\n",
        "            `What are attention masks? <../glossary.html#attention-mask>`__\n",
        "        position_ids (:obj:`torch.LongTensor` of shape :obj:`(batch_size, sequence_length)`, `optional`):\n",
        "            Indices of positions of each input sequence tokens in the position embeddings. Selected in the range ``[0,\n",
        "            config.max_position_embeddings - 1]``.\n",
        "\n",
        "            `What are position IDs? <../glossary.html#position-ids>`__\n",
        "        head_mask (:obj:`torch.FloatTensor` of shape :obj:`(num_heads,)` or :obj:`(num_layers, num_heads)`, `optional`):\n",
        "            Mask to nullify selected heads of the self-attention modules. Mask values selected in ``[0, 1]``:\n",
        "\n",
        "            - 1 indicates the head is **not masked**,\n",
        "            - 0 indicates the head is **masked**.\n",
        "\n",
        "        inputs_embeds (:obj:`torch.FloatTensor` of shape :obj:`(batch_size, sequence_length, hidden_size)`, `optional`):\n",
        "            Optionally, instead of passing :obj:`input_ids` you can choose to directly pass an embedded representation.\n",
        "            This is useful if you want more control over how to convert :obj:`input_ids` indices into associated\n",
        "            vectors than the model's internal embedding lookup matrix.\n",
        "        num_hashes (:obj:`int`, `optional`):\n",
        "            The number of hashing rounds that should be performed during bucketing. Setting this argument overwrites\n",
        "            the default defined in :obj:`config.num_hashes`.\n",
        "\n",
        "            For more information, see :obj:`num_hashes` in :class:`~transformers.ReformerConfig`.\n",
        "        past_buckets_states (:obj:`List[Tuple(torch.LongTensor, torch.FloatTensor)]`, `optional`):\n",
        "            List of :obj:`Tuple(torch.LongTensor, torch.FloatTensor` of length :obj:`config.n_layers`, with the first\n",
        "            element being the previous `buckets` of shape :obj:`(batch_size, num_heads, num_hashes, sequence_length)`)\n",
        "            and the second being the previous `hidden_states` of shape :obj:`(batch_size, sequence_length,\n",
        "            hidden_size)`).\n",
        "\n",
        "            Contains precomputed hidden-states and buckets (only relevant for LSH Self-Attention). Can be used to speed\n",
        "            up sequential decoding.\n",
        "        use_cache (:obj:`bool`, `optional`):\n",
        "            If set to :obj:`True`, :obj:`past_key_values` key value states are returned and can be used to speed up\n",
        "            decoding (see :obj:`past_key_values`).\n",
        "        output_attentions (:obj:`bool`, `optional`):\n",
        "            Whether or not to return the attentions tensors of all attention layers. See ``attentions`` under returned\n",
        "            tensors for more detail.\n",
        "        output_hidden_states (:obj:`bool`, `optional`):\n",
        "            Whether or not to return the hidden states of all layers. See ``hidden_states`` under returned tensors for\n",
        "            more detail.\n",
        "        return_dict (:obj:`bool`, `optional`):\n",
        "            Whether or not to return a :class:`~transformers.file_utils.ModelOutput` instead of a plain tuple.\n",
        "\"\"\"\n",
        "\n",
        "class ReformerTokenClassification(ReformerPreTrainedModel):\n",
        "\n",
        "    _keys_to_ignore_on_load_unexpected = [r\"pooler\"]\n",
        "\n",
        "    def __init__(self, config):\n",
        "        super().__init__(config)\n",
        "        self.num_labels = config.num_labels\n",
        "        self.reformer = ReformerModel(config)\n",
        "        self.classifier = torch.nn.Linear(2*config.hidden_size, config.num_labels)\n",
        "\n",
        "        self.init_weights()\n",
        "\n",
        "    @add_start_docstrings_to_model_forward(REFORMER_INPUTS_DOCSTRING.format(\"batch_size, sequence_length\"))\n",
        "    @add_code_sample_docstrings(\n",
        "        tokenizer_class=_TOKENIZER_FOR_DOC,\n",
        "        checkpoint=_CHECKPOINT_FOR_DOC,\n",
        "        output_type=TokenClassifierOutput,\n",
        "        config_class=_CONFIG_FOR_DOC,\n",
        "    )\n",
        "    def forward(\n",
        "        self,\n",
        "        input_ids=None,\n",
        "        attention_mask=None,\n",
        "        #token_type_ids=None,\n",
        "        position_ids=None,\n",
        "        head_mask=None,\n",
        "        inputs_embeds=None,\n",
        "        labels=None,\n",
        "        output_attentions=None,\n",
        "        output_hidden_states=None,\n",
        "        return_dict=None,\n",
        "    ):\n",
        "        r\"\"\"\n",
        "        labels (:obj:`torch.LongTensor` of shape :obj:`(batch_size, sequence_length)`, `optional`):\n",
        "            Labels for computing the token classification loss. Indices should be in ``[0, ..., config.num_labels -\n",
        "            1]``.\n",
        "        \"\"\"\n",
        "        return_dict = return_dict if return_dict is not None else self.config.use_return_dict\n",
        "\n",
        "        outputs = self.reformer(\n",
        "            input_ids,\n",
        "            attention_mask=attention_mask,\n",
        "            #token_type_ids=token_type_ids,\n",
        "            position_ids=position_ids,\n",
        "            head_mask=head_mask,\n",
        "            inputs_embeds=inputs_embeds,\n",
        "            output_attentions=output_attentions,\n",
        "            output_hidden_states=output_hidden_states,\n",
        "            return_dict=return_dict,\n",
        "        )\n",
        "\n",
        "        sequence_output = outputs[0]\n",
        "        #print(\"------------\",\"sequence_output: \", sequence_output,sequence_output.size(), \"-------------------\")\n",
        "        logits = self.classifier(sequence_output)\n",
        "        #print(\"------------\",\"logits: \", logits,logits.size(),\"-------------------\")\n",
        "        loss = None\n",
        "        if labels is not None:\n",
        "            loss_fct = CrossEntropyLoss()\n",
        "            # Only keep active parts of the loss\n",
        "            if attention_mask is not None:\n",
        "                active_loss = attention_mask.view(-1) == 1\n",
        "                #print(\"------------\",\"active_loss: \", active_loss,active_loss.size(),\"-------------------\")\n",
        "                active_logits = logits.view(-1, self.num_labels)\n",
        "                #print(\"------------\",\"active_logits: \", active_logits,active_logits.size(), \"-------------------\")\n",
        "                active_labels = torch.where(\n",
        "                    active_loss, labels.view(-1), torch.tensor(loss_fct.ignore_index).type_as(labels)\n",
        "                )\n",
        "                #print(\"------------\",\"active_labels: \", active_labels,active_labels.size(),\"-------------------\")\n",
        "                loss = loss_fct(active_logits, active_labels)\n",
        "                #print(\"------------\",\"loss: \", loss,loss.size(), \"-------------------\")\n",
        "            else:\n",
        "                loss = loss_fct(logits.view(-1, self.num_labels), labels.view(-1))\n",
        "\n",
        "        if not return_dict:\n",
        "            output = (logits,) + outputs[2:]\n",
        "            print(\"------------\",\"output: \", output,\"-------------------\")\n",
        "            return ((loss,) + output) if loss is not None else output\n",
        "\n",
        "        return TokenClassifierOutput(\n",
        "            loss=loss,\n",
        "            logits=logits,\n",
        "            hidden_states=outputs.hidden_states,\n",
        "            attentions=outputs.attentions,\n",
        "        )\n",
        "\n"
      ],
      "execution_count": null,
      "outputs": []
    },
    {
      "cell_type": "code",
      "metadata": {
        "id": "bfShfzAKurzA"
      },
      "source": [
        "config = transformers.ReformerConfig(num_buckets=128, num_labels=18, vocab_size=30522,axial_pos_shape=[16,8], \n",
        "                                     dropout=0.5,\n",
        "                                     attn_layers=['local', 'lsh', 'local', 'lsh', 'local', 'lsh','local', 'lsh', 'local', 'lsh', 'local', 'lsh'])\n",
        "nermodel = ReformerTokenClassification(config)\n",
        "config = nermodel.config"
      ],
      "execution_count": null,
      "outputs": []
    },
    {
      "cell_type": "code",
      "metadata": {
        "id": "JxxtMxxHurzB"
      },
      "source": [
        "nermodel = ReformerTokenClassification(config = config)"
      ],
      "execution_count": null,
      "outputs": []
    },
    {
      "cell_type": "code",
      "metadata": {
        "id": "FTJXza7kurzB"
      },
      "source": [
        "#model = REFORMER()\n",
        "nermodel"
      ],
      "execution_count": null,
      "outputs": []
    },
    {
      "cell_type": "code",
      "metadata": {
        "colab": {
          "base_uri": "https://localhost:8080/",
          "height": 203
        },
        "id": "le7ka4kzurzC",
        "scrolled": true,
        "outputId": "91c5dc5d-b725-476c-c3bc-73b217849664"
      },
      "source": [
        "from tqdm import tqdm, trange\n",
        "\n",
        "data = pd.read_csv(\"ner_dataset.csv\", encoding=\"latin1\").fillna(method=\"ffill\")\n",
        "data.tail(5)"
      ],
      "execution_count": null,
      "outputs": [
        {
          "data": {
            "text/html": [
              "<div>\n",
              "<style scoped>\n",
              "    .dataframe tbody tr th:only-of-type {\n",
              "        vertical-align: middle;\n",
              "    }\n",
              "\n",
              "    .dataframe tbody tr th {\n",
              "        vertical-align: top;\n",
              "    }\n",
              "\n",
              "    .dataframe thead th {\n",
              "        text-align: right;\n",
              "    }\n",
              "</style>\n",
              "<table border=\"1\" class=\"dataframe\">\n",
              "  <thead>\n",
              "    <tr style=\"text-align: right;\">\n",
              "      <th></th>\n",
              "      <th>Sentence #</th>\n",
              "      <th>Word</th>\n",
              "      <th>POS</th>\n",
              "      <th>Tag</th>\n",
              "    </tr>\n",
              "  </thead>\n",
              "  <tbody>\n",
              "    <tr>\n",
              "      <th>1048570</th>\n",
              "      <td>Sentence: 47959</td>\n",
              "      <td>they</td>\n",
              "      <td>PRP</td>\n",
              "      <td>O</td>\n",
              "    </tr>\n",
              "    <tr>\n",
              "      <th>1048571</th>\n",
              "      <td>Sentence: 47959</td>\n",
              "      <td>responded</td>\n",
              "      <td>VBD</td>\n",
              "      <td>O</td>\n",
              "    </tr>\n",
              "    <tr>\n",
              "      <th>1048572</th>\n",
              "      <td>Sentence: 47959</td>\n",
              "      <td>to</td>\n",
              "      <td>TO</td>\n",
              "      <td>O</td>\n",
              "    </tr>\n",
              "    <tr>\n",
              "      <th>1048573</th>\n",
              "      <td>Sentence: 47959</td>\n",
              "      <td>the</td>\n",
              "      <td>DT</td>\n",
              "      <td>O</td>\n",
              "    </tr>\n",
              "    <tr>\n",
              "      <th>1048574</th>\n",
              "      <td>Sentence: 47959</td>\n",
              "      <td>attack</td>\n",
              "      <td>NN</td>\n",
              "      <td>O</td>\n",
              "    </tr>\n",
              "  </tbody>\n",
              "</table>\n",
              "</div>"
            ],
            "text/plain": [
              "              Sentence #       Word  POS Tag\n",
              "1048570  Sentence: 47959       they  PRP   O\n",
              "1048571  Sentence: 47959  responded  VBD   O\n",
              "1048572  Sentence: 47959         to   TO   O\n",
              "1048573  Sentence: 47959        the   DT   O\n",
              "1048574  Sentence: 47959     attack   NN   O"
            ]
          },
          "execution_count": 6,
          "metadata": {},
          "output_type": "execute_result"
        }
      ]
    },
    {
      "cell_type": "code",
      "metadata": {
        "id": "ddxoEZd2urzD"
      },
      "source": [
        "class SentenceGetter(object):\n",
        "\n",
        "    def __init__(self, data):\n",
        "        self.n_sent = 1\n",
        "        self.data = data\n",
        "        self.empty = False\n",
        "        agg_func = lambda s: [(w, p, t) for w, p, t in zip(s[\"Word\"].values.tolist(),\n",
        "                                                           s[\"POS\"].values.tolist(),\n",
        "                                                           s[\"Tag\"].values.tolist())]\n",
        "        self.grouped = self.data.groupby(\"Sentence #\").apply(agg_func)\n",
        "        self.sentences = [s for s in self.grouped]\n",
        "\n",
        "    def get_next(self):\n",
        "        try:\n",
        "            s = self.grouped[\"Sentence: {}\".format(self.n_sent)]\n",
        "            self.n_sent += 1\n",
        "            return s\n",
        "        except:\n",
        "            return None\n"
      ],
      "execution_count": null,
      "outputs": []
    },
    {
      "cell_type": "code",
      "metadata": {
        "id": "rMWMAEw-urzD"
      },
      "source": [
        "getter = SentenceGetter(data)"
      ],
      "execution_count": null,
      "outputs": []
    },
    {
      "cell_type": "code",
      "metadata": {
        "id": "uBgyH22SurzD"
      },
      "source": [
        "sentences = [[word[0] for word in sentence] for sentence in getter.sentences]\n",
        "sentences[0]"
      ],
      "execution_count": null,
      "outputs": []
    },
    {
      "cell_type": "code",
      "metadata": {
        "id": "5ZobA8nDurzD"
      },
      "source": [
        "labels = [[s[2] for s in sentence] for sentence in getter.sentences]\n",
        "print(labels[0])"
      ],
      "execution_count": null,
      "outputs": []
    },
    {
      "cell_type": "code",
      "metadata": {
        "id": "BBPd5grEurzD"
      },
      "source": [
        "tag_values = list(set(data[\"Tag\"].values))\n",
        "tag_values.append(\"PAD\")\n",
        "tag2idx = {t: i for i, t in enumerate(tag_values)}\n",
        "tag2idx #ReformerModelWithBertTokenizer-100 epochs"
      ],
      "execution_count": null,
      "outputs": []
    },
    {
      "cell_type": "code",
      "metadata": {
        "id": "mYZx4NmhurzD"
      },
      "source": [
        "MAX_LEN = 128\n",
        "bs = 32"
      ],
      "execution_count": null,
      "outputs": []
    },
    {
      "cell_type": "code",
      "metadata": {
        "id": "oBUHLE0mxFLu"
      },
      "source": [
        "device = torch.device(\"cuda\" if torch.cuda.is_available() else \"cpu\")\n",
        "n_gpu = torch.cuda.device_count()"
      ],
      "execution_count": null,
      "outputs": []
    },
    {
      "cell_type": "code",
      "metadata": {
        "colab": {
          "base_uri": "https://localhost:8080/",
          "height": 35
        },
        "id": "rnft_3-JxFIL",
        "outputId": "2d42c11b-cbcf-412c-8814-8a2d69c01ef9"
      },
      "source": [
        "torch.cuda.get_device_name(0)"
      ],
      "execution_count": null,
      "outputs": [
        {
          "data": {
            "text/plain": [
              "'GeForce GTX 1080 Ti'"
            ]
          },
          "execution_count": 14,
          "metadata": {},
          "output_type": "execute_result"
        }
      ]
    },
    {
      "cell_type": "code",
      "metadata": {
        "id": "MDc7qsykurzE"
      },
      "source": [
        "tokenizer = BertTokenizer.from_pretrained('bert-base-cased', do_lower_case=False)\n",
        "tokens = tokenizer(\"They marched from the Houses of Parliament to a rally in Hyde Park .\")\n",
        "tokens"
      ],
      "execution_count": null,
      "outputs": []
    },
    {
      "cell_type": "code",
      "metadata": {
        "id": "iyiBVA_surzE"
      },
      "source": [
        "def tokenize_and_preserve_labels(sentence, text_labels):\n",
        "    tokenized_sentence = []\n",
        "    labels = []\n",
        "\n",
        "    for word, label in zip(sentence, text_labels):\n",
        "\n",
        "        # Tokenize the word and count # of subwords the word is broken into\n",
        "        tokenized_word = tokenizer.tokenize(word)\n",
        "        n_subwords = len(tokenized_word)\n",
        "\n",
        "        # Add the tokenized word to the final tokenized word list\n",
        "        tokenized_sentence.extend(tokenized_word)\n",
        "\n",
        "        # Add the same label to the new list of labels `n_subwords` times\n",
        "        labels.extend([label] * n_subwords)\n",
        "\n",
        "    return tokenized_sentence, labels\n"
      ],
      "execution_count": null,
      "outputs": []
    },
    {
      "cell_type": "code",
      "metadata": {
        "id": "COl5Ro94urzE"
      },
      "source": [
        "tokenized_texts_and_labels = [\n",
        "    tokenize_and_preserve_labels(sent, labs)\n",
        "    for sent, labs in zip(sentences, labels)\n",
        "]"
      ],
      "execution_count": null,
      "outputs": []
    },
    {
      "cell_type": "code",
      "metadata": {
        "id": "NLtMD2F4XmFD"
      },
      "source": [
        "#tokenized_texts_and_labels[38377]"
      ],
      "execution_count": null,
      "outputs": []
    },
    {
      "cell_type": "code",
      "metadata": {
        "id": "R8X737y3urzF"
      },
      "source": [
        "tokenized_texts = [token_label_pair[0] for token_label_pair in tokenized_texts_and_labels]\n",
        "labels = [token_label_pair[1] for token_label_pair in tokenized_texts_and_labels]"
      ],
      "execution_count": null,
      "outputs": []
    },
    {
      "cell_type": "code",
      "metadata": {
        "id": "oroX5tXcurzF"
      },
      "source": [
        "input_ids = pad_sequences([tokenizer.convert_tokens_to_ids(txt) for txt in tokenized_texts],\n",
        "                          maxlen=MAX_LEN, dtype=\"long\", value=0.0,\n",
        "                          truncating=\"post\", padding=\"post\")"
      ],
      "execution_count": null,
      "outputs": []
    },
    {
      "cell_type": "code",
      "metadata": {
        "id": "xyhpEZlhurzF"
      },
      "source": [
        "tags = pad_sequences([[tag2idx.get(l) for l in lab] for lab in labels],\n",
        "                     maxlen=MAX_LEN, value=tag2idx[\"PAD\"], padding=\"post\",\n",
        "                     dtype=\"long\", truncating=\"post\")"
      ],
      "execution_count": null,
      "outputs": []
    },
    {
      "cell_type": "code",
      "metadata": {
        "id": "DpndL8pZurzG"
      },
      "source": [
        "attention_masks = [[float(i != 0.0) for i in ii] for ii in input_ids]"
      ],
      "execution_count": null,
      "outputs": []
    },
    {
      "cell_type": "code",
      "metadata": {
        "id": "Wo0lvuIGurzG"
      },
      "source": [
        "tr_inputs, val_inputs, tr_tags, val_tags = train_test_split(input_ids, tags,\n",
        "                                                            random_state=2018, test_size=0.2)\n",
        "tr_masks, val_masks, _, _ = train_test_split(attention_masks, input_ids,\n",
        "                                             random_state=2018, test_size=0.2)"
      ],
      "execution_count": null,
      "outputs": []
    },
    {
      "cell_type": "code",
      "metadata": {
        "id": "6en4ZGV2XmFF"
      },
      "source": [
        "#val_inputs[0]"
      ],
      "execution_count": null,
      "outputs": []
    },
    {
      "cell_type": "code",
      "metadata": {
        "id": "f40_djbiXmFG"
      },
      "source": [
        "#val_tags[0]"
      ],
      "execution_count": null,
      "outputs": []
    },
    {
      "cell_type": "code",
      "metadata": {
        "id": "6y_5VSzhurzG"
      },
      "source": [
        "tr_inputs = torch.tensor(tr_inputs)\n",
        "val_inputs = torch.tensor(val_inputs)\n",
        "tr_tags = torch.tensor(tr_tags)\n",
        "val_tags = torch.tensor(val_tags)\n",
        "tr_masks = torch.tensor(tr_masks)\n",
        "val_masks = torch.tensor(val_masks)"
      ],
      "execution_count": null,
      "outputs": []
    },
    {
      "cell_type": "code",
      "metadata": {
        "colab": {
          "base_uri": "https://localhost:8080/"
        },
        "id": "NLHM5YQmurzG",
        "outputId": "0953a82f-9c06-4cc1-e30a-84b6d2235794"
      },
      "source": [
        "train_data = TensorDataset(tr_inputs, tr_masks, tr_tags)\n",
        "print(len(train_data))\n",
        "train_sampler = RandomSampler(train_data)\n",
        "train_dataloader = DataLoader(train_data, sampler=train_sampler, batch_size=bs)\n",
        "\n",
        "valid_data = TensorDataset(val_inputs, val_masks, val_tags)\n",
        "print(len(valid_data))\n",
        "valid_sampler = SequentialSampler(valid_data)\n",
        "valid_dataloader = DataLoader(valid_data, sampler=valid_sampler, batch_size=bs)"
      ],
      "execution_count": null,
      "outputs": [
        {
          "name": "stdout",
          "output_type": "stream",
          "text": [
            "38367\n",
            "9592\n"
          ]
        }
      ]
    },
    {
      "cell_type": "code",
      "metadata": {
        "id": "MrpOVRKTurzG"
      },
      "source": [
        "nermodel.cuda();"
      ],
      "execution_count": null,
      "outputs": []
    },
    {
      "cell_type": "code",
      "metadata": {
        "colab": {
          "base_uri": "https://localhost:8080/"
        },
        "id": "jNE8qVNLurzH",
        "outputId": "af6fb938-6b35-4a72-e79e-6c58eb24e845"
      },
      "source": [
        "FULL_FINETUNING = True\n",
        "if FULL_FINETUNING:\n",
        "    param_optimizer = list(nermodel.named_parameters())\n",
        "    no_decay = ['bias', 'gamma', 'beta']\n",
        "    optimizer_grouped_parameters = [\n",
        "        {'params': [p for n, p in param_optimizer if not any(nd in n for nd in no_decay)],\n",
        "         'weight_decay_rate': 0.01},\n",
        "        {'params': [p for n, p in param_optimizer if any(nd in n for nd in no_decay)],\n",
        "         'weight_decay_rate': 0.0}\n",
        "    ]\n",
        "else:\n",
        "    param_optimizer = list(model.classifier.named_parameters())\n",
        "    optimizer_grouped_parameters = [{\"params\": [p for n, p in param_optimizer]}]\n",
        "\n",
        "optimizer = AdamW(\n",
        "    optimizer_grouped_parameters, lr=0.00001,\n",
        "    eps=1e-12\n",
        ")\n",
        "print(optimizer)"
      ],
      "execution_count": null,
      "outputs": [
        {
          "name": "stdout",
          "output_type": "stream",
          "text": [
            "AdamW (\n",
            "Parameter Group 0\n",
            "    betas: (0.9, 0.999)\n",
            "    correct_bias: True\n",
            "    eps: 1e-12\n",
            "    lr: 1e-05\n",
            "    weight_decay: 0.0\n",
            "    weight_decay_rate: 0.01\n",
            "\n",
            "Parameter Group 1\n",
            "    betas: (0.9, 0.999)\n",
            "    correct_bias: True\n",
            "    eps: 1e-12\n",
            "    lr: 1e-05\n",
            "    weight_decay: 0.0\n",
            "    weight_decay_rate: 0.0\n",
            ")\n"
          ]
        }
      ]
    },
    {
      "cell_type": "code",
      "metadata": {
        "id": "h-Mo-_DkurzI"
      },
      "source": [
        "from transformers import get_linear_schedule_with_warmup\n",
        "\n",
        "epochs = 100\n",
        "max_grad_norm = 1.0\n",
        "\n",
        "# Total number of training steps is number of batches * number of epochs.\n",
        "total_steps = len(train_dataloader) * epochs\n",
        "\n",
        "# Create the learning rate scheduler.\n",
        "scheduler = get_linear_schedule_with_warmup(\n",
        "    optimizer,\n",
        "    num_warmup_steps=0,\n",
        "    num_training_steps=total_steps\n",
        ")\n"
      ],
      "execution_count": null,
      "outputs": []
    },
    {
      "cell_type": "code",
      "metadata": {
        "colab": {
          "base_uri": "https://localhost:8080/"
        },
        "id": "6-YJjvOXurzJ",
        "scrolled": true,
        "outputId": "fbd81476-af94-4fa9-bc74-923ee3b0b474"
      },
      "source": [
        "## Store the average loss after each epoch so we can plot them.\n",
        "loss_values, validation_loss_values, f1_scores = [], [], []\n",
        "for _ in trange(epochs, desc=\"Epoch\"):\n",
        "    # ========================================\n",
        "    #               Training\n",
        "    # ========================================\n",
        "    # Perform one full pass over the training set.\n",
        "\n",
        "    # Put the model into training mode.\n",
        "    nermodel.train()\n",
        "    # Reset the total loss for this epoch.\n",
        "    total_loss = 0\n",
        "\n",
        "    # Training loop\n",
        "    for step, batch in enumerate(train_dataloader):\n",
        "        # add batch to gpu\n",
        "        batch = tuple(t.to(device) for t in batch)\n",
        "        b_input_ids, b_input_mask, b_labels = batch\n",
        "        # Always clear any previously calculated gradients before performing a backward pass.\n",
        "        nermodel.zero_grad()\n",
        "        # forward pass\n",
        "        # This will return the loss (rather than the model output)\n",
        "        # because we have provided the `labels`.\n",
        "        outputs = nermodel(b_input_ids,\n",
        "                        attention_mask=b_input_mask, labels=b_labels)\n",
        "        # get the loss\n",
        "        loss = outputs[0]\n",
        "        # Perform a backward pass to calculate the gradients.\n",
        "        loss.backward()\n",
        "        # track train loss\n",
        "        total_loss += loss.item()\n",
        "        # Clip the norm of the gradient\n",
        "        # This is to help prevent the \"exploding gradients\" problem.\n",
        "        torch.nn.utils.clip_grad_norm_(parameters=nermodel.parameters(), max_norm=max_grad_norm)\n",
        "        # update parameters\n",
        "        optimizer.step()\n",
        "        # Update the learning rate.\n",
        "        scheduler.step()\n",
        "\n",
        "    # Calculate the average loss over the training data.\n",
        "    avg_train_loss = total_loss / len(train_dataloader)\n",
        "    print(\"Average train loss: {}\".format(avg_train_loss))\n",
        "\n",
        "    # Store the loss value for plotting the learning curve.\n",
        "    loss_values.append(avg_train_loss)\n",
        "\n",
        "\n",
        "    # ========================================\n",
        "    #               Validation\n",
        "    # ========================================\n",
        "    # After the completion of each training epoch, measure our performance on\n",
        "    # our validation set.\n",
        "\n",
        "    # Put the model into evaluation mode\n",
        "    nermodel.eval()\n",
        "    # Reset the validation loss for this epoch.\n",
        "    eval_loss, eval_accuracy = 0, 0\n",
        "    nb_eval_steps, nb_eval_examples = 0, 0\n",
        "    predictions , true_labels = [], []\n",
        "    for batch in valid_dataloader:\n",
        "        batch = tuple(t.to(device) for t in batch)\n",
        "        b_input_ids, b_input_mask, b_labels = batch\n",
        "\n",
        "        # Telling the model not to compute or store gradients,\n",
        "        # saving memory and speeding up validation\n",
        "        with torch.no_grad():\n",
        "            # Forward pass, calculate logit predictions.\n",
        "            # This will return the logits rather than the loss because we have not provided labels.\n",
        "            outputs = nermodel(b_input_ids,\n",
        "                            attention_mask=b_input_mask, labels=b_labels)\n",
        "        # Move logits and labels to CPU\n",
        "        logits = outputs[1].detach().cpu().numpy()\n",
        "        label_ids = b_labels.to('cpu').numpy()\n",
        "\n",
        "        # Calculate the accuracy for this batch of test sentences.\n",
        "        eval_loss += outputs[0].mean().item()\n",
        "        predictions.extend([list(p) for p in np.argmax(logits, axis=2)])\n",
        "        true_labels.extend(label_ids)\n",
        "\n",
        "    eval_loss = eval_loss / len(valid_dataloader)\n",
        "    validation_loss_values.append(eval_loss)\n",
        "    print(\"Validation loss: {}\".format(eval_loss))\n",
        "    pred_tags = [tag_values[p_i] for p, l in zip(predictions, true_labels)\n",
        "                                 for p_i, l_i in zip(p, l) if tag_values[l_i] != \"PAD\"]\n",
        "    valid_tags = [tag_values[l_i] for l in true_labels\n",
        "                                  for l_i in l if tag_values[l_i] != \"PAD\"]\n",
        "    print(\"Validation Accuracy: {}\".format(accuracy_score(pred_tags, valid_tags)))\n",
        "    print(\"Validation F1-Score: {}\".format(f1_score([pred_tags], [valid_tags])))\n",
        "    f1 = f1_score([pred_tags], [valid_tags])\n",
        "    f1_scores.append(f1)\n",
        "    print(f1_scores)\n",
        "    print()\n"
      ],
      "execution_count": null,
      "outputs": [
        {
          "name": "stderr",
          "output_type": "stream",
          "text": [
            "Epoch:   0%|          | 0/100 [00:00<?, ?it/s]/usr/local/lib/python3.6/dist-packages/transformers/models/reformer/modeling_reformer.py:1164: UserWarning: where received a uint8 condition tensor. This behavior is deprecated and will be removed in a future version of PyTorch. Use a boolean condition instead. (Triggered internally at  /pytorch/aten/src/ATen/native/TensorCompare.cpp:255.)\n",
            "  query_key_dots = torch.where(mask, query_key_dots, mask_value)\n"
          ]
        },
        {
          "name": "stdout",
          "output_type": "stream",
          "text": [
            "Average train loss: 0.9257989505413078\n",
            "Validation loss: 0.9004161155223847\n",
            "Validation Accuracy: 0.7981489825190868\n",
            "Validation F1-Score: 0.0\n"
          ]
        },
        {
          "name": "stderr",
          "output_type": "stream",
          "text": [
            "\r",
            "Epoch:   1%|          | 1/100 [11:41<19:17:11, 701.33s/it]"
          ]
        },
        {
          "name": "stdout",
          "output_type": "stream",
          "text": [
            "[0.0]\n",
            "\n",
            "Average train loss: 0.8152376579383297\n",
            "Validation loss: 0.6075892328222593\n",
            "Validation Accuracy: 0.8233514246386217\n",
            "Validation F1-Score: 0.19232221522970422\n"
          ]
        },
        {
          "name": "stderr",
          "output_type": "stream",
          "text": [
            "\r",
            "Epoch:   2%|▏         | 2/100 [26:10<21:46:59, 800.19s/it]"
          ]
        },
        {
          "name": "stdout",
          "output_type": "stream",
          "text": [
            "[0.0, 0.19232221522970422]\n",
            "\n",
            "Average train loss: 0.5934967309161958\n",
            "Validation loss: 0.5318343054254849\n",
            "Validation Accuracy: 0.8407248647285684\n",
            "Validation F1-Score: 0.25009648784253186\n"
          ]
        },
        {
          "name": "stderr",
          "output_type": "stream",
          "text": [
            "\r",
            "Epoch:   3%|▎         | 3/100 [40:50<22:32:17, 836.47s/it]"
          ]
        },
        {
          "name": "stdout",
          "output_type": "stream",
          "text": [
            "[0.0, 0.19232221522970422, 0.25009648784253186]\n",
            "\n",
            "Average train loss: 0.5242856452125028\n",
            "Validation loss: 0.48744851728280386\n",
            "Validation Accuracy: 0.8485414660157655\n",
            "Validation F1-Score: 0.26283526041589356\n"
          ]
        },
        {
          "name": "stderr",
          "output_type": "stream",
          "text": [
            "\r",
            "Epoch:   4%|▍         | 4/100 [55:21<22:40:16, 850.17s/it]"
          ]
        },
        {
          "name": "stdout",
          "output_type": "stream",
          "text": [
            "[0.0, 0.19232221522970422, 0.25009648784253186, 0.26283526041589356]\n",
            "\n",
            "Average train loss: 0.4912026621482092\n",
            "Validation loss: 0.47310721943775813\n",
            "Validation Accuracy: 0.8527039818783818\n",
            "Validation F1-Score: 0.28138496233951915\n"
          ]
        },
        {
          "name": "stderr",
          "output_type": "stream",
          "text": [
            "\r",
            "Epoch:   5%|▌         | 5/100 [1:10:00<22:42:45, 860.69s/it]"
          ]
        },
        {
          "name": "stdout",
          "output_type": "stream",
          "text": [
            "[0.0, 0.19232221522970422, 0.25009648784253186, 0.26283526041589356, 0.28138496233951915]\n",
            "\n",
            "Average train loss: 0.463294413757881\n",
            "Validation loss: 0.4527953587969144\n",
            "Validation Accuracy: 0.8594169170927699\n",
            "Validation F1-Score: 0.3204017216642755\n"
          ]
        },
        {
          "name": "stderr",
          "output_type": "stream",
          "text": [
            "\r",
            "Epoch:   6%|▌         | 6/100 [1:24:38<22:37:11, 866.29s/it]"
          ]
        },
        {
          "name": "stdout",
          "output_type": "stream",
          "text": [
            "[0.0, 0.19232221522970422, 0.25009648784253186, 0.26283526041589356, 0.28138496233951915, 0.3204017216642755]\n",
            "\n",
            "Average train loss: 0.4363240113200696\n",
            "Validation loss: 0.41501789490381874\n",
            "Validation Accuracy: 0.8709454739357063\n",
            "Validation F1-Score: 0.36238789641124564\n"
          ]
        },
        {
          "name": "stderr",
          "output_type": "stream",
          "text": [
            "\r",
            "Epoch:   7%|▋         | 7/100 [1:39:15<22:28:30, 870.00s/it]"
          ]
        },
        {
          "name": "stdout",
          "output_type": "stream",
          "text": [
            "[0.0, 0.19232221522970422, 0.25009648784253186, 0.26283526041589356, 0.28138496233951915, 0.3204017216642755, 0.36238789641124564]\n",
            "\n",
            "Average train loss: 0.4106103095340172\n",
            "Validation loss: 0.42713599840799965\n",
            "Validation Accuracy: 0.8677998189491611\n",
            "Validation F1-Score: 0.3710964148973198\n"
          ]
        },
        {
          "name": "stderr",
          "output_type": "stream",
          "text": [
            "\r",
            "Epoch:   8%|▊         | 8/100 [1:53:55<22:18:59, 873.26s/it]"
          ]
        },
        {
          "name": "stdout",
          "output_type": "stream",
          "text": [
            "[0.0, 0.19232221522970422, 0.25009648784253186, 0.26283526041589356, 0.28138496233951915, 0.3204017216642755, 0.36238789641124564, 0.3710964148973198]\n",
            "\n",
            "Average train loss: 0.38849992712057063\n",
            "Validation loss: 0.3724401468038559\n",
            "Validation Accuracy: 0.8875087321894337\n",
            "Validation F1-Score: 0.4468603392277156\n"
          ]
        },
        {
          "name": "stderr",
          "output_type": "stream",
          "text": [
            "\r",
            "Epoch:   9%|▉         | 9/100 [2:08:36<22:07:46, 875.45s/it]"
          ]
        },
        {
          "name": "stdout",
          "output_type": "stream",
          "text": [
            "[0.0, 0.19232221522970422, 0.25009648784253186, 0.26283526041589356, 0.28138496233951915, 0.3204017216642755, 0.36238789641124564, 0.3710964148973198, 0.4468603392277156]\n",
            "\n",
            "Average train loss: 0.3686196656153538\n",
            "Validation loss: 0.39789929245909056\n",
            "Validation Accuracy: 0.8792167691105774\n",
            "Validation F1-Score: 0.4277652861391165\n"
          ]
        },
        {
          "name": "stderr",
          "output_type": "stream",
          "text": [
            "\r",
            "Epoch:  10%|█         | 10/100 [2:23:17<21:56:02, 877.36s/it]"
          ]
        },
        {
          "name": "stdout",
          "output_type": "stream",
          "text": [
            "[0.0, 0.19232221522970422, 0.25009648784253186, 0.26283526041589356, 0.28138496233951915, 0.3204017216642755, 0.36238789641124564, 0.3710964148973198, 0.4468603392277156, 0.4277652861391165]\n",
            "\n",
            "Average train loss: 0.3523061056252417\n",
            "Validation loss: 0.36556692510843275\n",
            "Validation Accuracy: 0.8893068398361449\n",
            "Validation F1-Score: 0.4661930185955915\n"
          ]
        },
        {
          "name": "stderr",
          "output_type": "stream",
          "text": [
            "\r",
            "Epoch:  11%|█         | 11/100 [2:37:54<21:41:01, 877.10s/it]"
          ]
        },
        {
          "name": "stdout",
          "output_type": "stream",
          "text": [
            "[0.0, 0.19232221522970422, 0.25009648784253186, 0.26283526041589356, 0.28138496233951915, 0.3204017216642755, 0.36238789641124564, 0.3710964148973198, 0.4468603392277156, 0.4277652861391165, 0.4661930185955915]\n",
            "\n",
            "Average train loss: 0.33918728842846646\n",
            "Validation loss: 0.3309423160056273\n",
            "Validation Accuracy: 0.9022904171196382\n",
            "Validation F1-Score: 0.5263950398582815\n"
          ]
        },
        {
          "name": "stderr",
          "output_type": "stream",
          "text": [
            "\r",
            "Epoch:  12%|█▏        | 12/100 [2:52:31<21:26:18, 877.03s/it]"
          ]
        },
        {
          "name": "stdout",
          "output_type": "stream",
          "text": [
            "[0.0, 0.19232221522970422, 0.25009648784253186, 0.26283526041589356, 0.28138496233951915, 0.3204017216642755, 0.36238789641124564, 0.3710964148973198, 0.4468603392277156, 0.4277652861391165, 0.4661930185955915, 0.5263950398582815]\n",
            "\n",
            "Average train loss: 0.3271126021585234\n",
            "Validation loss: 0.3299829466144244\n",
            "Validation Accuracy: 0.9027740460728916\n",
            "Validation F1-Score: 0.5339153595738384\n"
          ]
        },
        {
          "name": "stderr",
          "output_type": "stream",
          "text": [
            "\r",
            "Epoch:  13%|█▎        | 13/100 [3:07:05<21:10:23, 876.13s/it]"
          ]
        },
        {
          "name": "stdout",
          "output_type": "stream",
          "text": [
            "[0.0, 0.19232221522970422, 0.25009648784253186, 0.26283526041589356, 0.28138496233951915, 0.3204017216642755, 0.36238789641124564, 0.3710964148973198, 0.4468603392277156, 0.4277652861391165, 0.4661930185955915, 0.5263950398582815, 0.5339153595738384]\n",
            "\n",
            "Average train loss: 0.317586844965654\n",
            "Validation loss: 0.3281962386270364\n",
            "Validation Accuracy: 0.902261482054059\n",
            "Validation F1-Score: 0.5394614802870963\n"
          ]
        },
        {
          "name": "stderr",
          "output_type": "stream",
          "text": [
            "\r",
            "Epoch:  14%|█▍        | 14/100 [3:21:39<20:55:04, 875.64s/it]"
          ]
        },
        {
          "name": "stdout",
          "output_type": "stream",
          "text": [
            "[0.0, 0.19232221522970422, 0.25009648784253186, 0.26283526041589356, 0.28138496233951915, 0.3204017216642755, 0.36238789641124564, 0.3710964148973198, 0.4468603392277156, 0.4277652861391165, 0.4661930185955915, 0.5263950398582815, 0.5339153595738384, 0.5394614802870963]\n",
            "\n",
            "Average train loss: 0.30842363930076633\n",
            "Validation loss: 0.3292956876258055\n",
            "Validation Accuracy: 0.9028029811384708\n",
            "Validation F1-Score: 0.546889095725639\n"
          ]
        },
        {
          "name": "stderr",
          "output_type": "stream",
          "text": [
            "\r",
            "Epoch:  15%|█▌        | 15/100 [3:36:14<20:40:03, 875.34s/it]"
          ]
        },
        {
          "name": "stdout",
          "output_type": "stream",
          "text": [
            "[0.0, 0.19232221522970422, 0.25009648784253186, 0.26283526041589356, 0.28138496233951915, 0.3204017216642755, 0.36238789641124564, 0.3710964148973198, 0.4468603392277156, 0.4277652861391165, 0.4661930185955915, 0.5263950398582815, 0.5339153595738384, 0.5394614802870963, 0.546889095725639]\n",
            "\n",
            "Average train loss: 0.29989772885913546\n",
            "Validation loss: 0.31407158096631366\n",
            "Validation Accuracy: 0.907176309621736\n",
            "Validation F1-Score: 0.5648223896663079\n"
          ]
        },
        {
          "name": "stderr",
          "output_type": "stream",
          "text": [
            "\r",
            "Epoch:  16%|█▌        | 16/100 [3:50:51<20:26:04, 875.77s/it]"
          ]
        },
        {
          "name": "stdout",
          "output_type": "stream",
          "text": [
            "[0.0, 0.19232221522970422, 0.25009648784253186, 0.26283526041589356, 0.28138496233951915, 0.3204017216642755, 0.36238789641124564, 0.3710964148973198, 0.4468603392277156, 0.4277652861391165, 0.4661930185955915, 0.5263950398582815, 0.5339153595738384, 0.5394614802870963, 0.546889095725639, 0.5648223896663079]\n",
            "\n",
            "Average train loss: 0.292403805954343\n",
            "Validation loss: 0.3272080678741137\n",
            "Validation Accuracy: 0.9028319162040501\n",
            "Validation F1-Score: 0.5491479171307642\n"
          ]
        },
        {
          "name": "stderr",
          "output_type": "stream",
          "text": [
            "\r",
            "Epoch:  17%|█▋        | 17/100 [4:05:26<20:11:22, 875.70s/it]"
          ]
        },
        {
          "name": "stdout",
          "output_type": "stream",
          "text": [
            "[0.0, 0.19232221522970422, 0.25009648784253186, 0.26283526041589356, 0.28138496233951915, 0.3204017216642755, 0.36238789641124564, 0.3710964148973198, 0.4468603392277156, 0.4277652861391165, 0.4661930185955915, 0.5263950398582815, 0.5339153595738384, 0.5394614802870963, 0.546889095725639, 0.5648223896663079, 0.5491479171307642]\n",
            "\n",
            "Average train loss: 0.28664682414056464\n",
            "Validation loss: 0.31335929994781814\n",
            "Validation Accuracy: 0.9084577196688175\n",
            "Validation F1-Score: 0.5654933310411026\n"
          ]
        },
        {
          "name": "stderr",
          "output_type": "stream",
          "text": [
            "\r",
            "Epoch:  18%|█▊        | 18/100 [4:20:03<19:57:06, 875.93s/it]"
          ]
        },
        {
          "name": "stdout",
          "output_type": "stream",
          "text": [
            "[0.0, 0.19232221522970422, 0.25009648784253186, 0.26283526041589356, 0.28138496233951915, 0.3204017216642755, 0.36238789641124564, 0.3710964148973198, 0.4468603392277156, 0.4277652861391165, 0.4661930185955915, 0.5263950398582815, 0.5339153595738384, 0.5394614802870963, 0.546889095725639, 0.5648223896663079, 0.5491479171307642, 0.5654933310411026]\n",
            "\n",
            "Average train loss: 0.28088697509605554\n",
            "Validation loss: 0.29088531305392584\n",
            "Validation Accuracy: 0.915092116848062\n",
            "Validation F1-Score: 0.5954727418298275\n"
          ]
        },
        {
          "name": "stderr",
          "output_type": "stream",
          "text": [
            "\r",
            "Epoch:  19%|█▉        | 19/100 [4:34:40<19:42:54, 876.23s/it]"
          ]
        },
        {
          "name": "stdout",
          "output_type": "stream",
          "text": [
            "[0.0, 0.19232221522970422, 0.25009648784253186, 0.26283526041589356, 0.28138496233951915, 0.3204017216642755, 0.36238789641124564, 0.3710964148973198, 0.4468603392277156, 0.4277652861391165, 0.4661930185955915, 0.5263950398582815, 0.5339153595738384, 0.5394614802870963, 0.546889095725639, 0.5648223896663079, 0.5491479171307642, 0.5654933310411026, 0.5954727418298275]\n",
            "\n",
            "Average train loss: 0.2750527738306898\n",
            "Validation loss: 0.2755946698784828\n",
            "Validation Accuracy: 0.920006944415739\n",
            "Validation F1-Score: 0.6217919658394631\n"
          ]
        },
        {
          "name": "stderr",
          "output_type": "stream",
          "text": [
            "\r",
            "Epoch:  20%|██        | 20/100 [4:49:16<19:28:30, 876.38s/it]"
          ]
        },
        {
          "name": "stdout",
          "output_type": "stream",
          "text": [
            "[0.0, 0.19232221522970422, 0.25009648784253186, 0.26283526041589356, 0.28138496233951915, 0.3204017216642755, 0.36238789641124564, 0.3710964148973198, 0.4468603392277156, 0.4277652861391165, 0.4661930185955915, 0.5263950398582815, 0.5339153595738384, 0.5394614802870963, 0.546889095725639, 0.5648223896663079, 0.5491479171307642, 0.5654933310411026, 0.5954727418298275, 0.6217919658394631]\n",
            "\n",
            "Average train loss: 0.269275531725798\n",
            "Validation loss: 0.27493052517374356\n",
            "Validation Accuracy: 0.9194117087809657\n",
            "Validation F1-Score: 0.6187856710959044\n"
          ]
        },
        {
          "name": "stderr",
          "output_type": "stream",
          "text": [
            "\r",
            "Epoch:  21%|██        | 21/100 [5:03:54<19:14:21, 876.73s/it]"
          ]
        },
        {
          "name": "stdout",
          "output_type": "stream",
          "text": [
            "[0.0, 0.19232221522970422, 0.25009648784253186, 0.26283526041589356, 0.28138496233951915, 0.3204017216642755, 0.36238789641124564, 0.3710964148973198, 0.4468603392277156, 0.4277652861391165, 0.4661930185955915, 0.5263950398582815, 0.5339153595738384, 0.5394614802870963, 0.546889095725639, 0.5648223896663079, 0.5491479171307642, 0.5654933310411026, 0.5954727418298275, 0.6217919658394631, 0.6187856710959044]\n",
            "\n",
            "Average train loss: 0.26385704746735505\n",
            "Validation loss: 0.27994369526704155\n",
            "Validation Accuracy: 0.918890877600539\n",
            "Validation F1-Score: 0.6203914626891659\n"
          ]
        },
        {
          "name": "stderr",
          "output_type": "stream",
          "text": [
            "\r",
            "Epoch:  22%|██▏       | 22/100 [5:18:31<18:59:57, 876.89s/it]"
          ]
        },
        {
          "name": "stdout",
          "output_type": "stream",
          "text": [
            "[0.0, 0.19232221522970422, 0.25009648784253186, 0.26283526041589356, 0.28138496233951915, 0.3204017216642755, 0.36238789641124564, 0.3710964148973198, 0.4468603392277156, 0.4277652861391165, 0.4661930185955915, 0.5263950398582815, 0.5339153595738384, 0.5394614802870963, 0.546889095725639, 0.5648223896663079, 0.5491479171307642, 0.5654933310411026, 0.5954727418298275, 0.6217919658394631, 0.6187856710959044, 0.6203914626891659]\n",
            "\n",
            "Average train loss: 0.2607085595499286\n",
            "Validation loss: 0.26851672555009526\n",
            "Validation Accuracy: 0.9222762802733123\n",
            "Validation F1-Score: 0.6331974750967437\n"
          ]
        },
        {
          "name": "stderr",
          "output_type": "stream",
          "text": [
            "\r",
            "Epoch:  23%|██▎       | 23/100 [5:33:08<18:45:10, 876.76s/it]"
          ]
        },
        {
          "name": "stdout",
          "output_type": "stream",
          "text": [
            "[0.0, 0.19232221522970422, 0.25009648784253186, 0.26283526041589356, 0.28138496233951915, 0.3204017216642755, 0.36238789641124564, 0.3710964148973198, 0.4468603392277156, 0.4277652861391165, 0.4661930185955915, 0.5263950398582815, 0.5339153595738384, 0.5394614802870963, 0.546889095725639, 0.5648223896663079, 0.5491479171307642, 0.5654933310411026, 0.5954727418298275, 0.6217919658394631, 0.6187856710959044, 0.6203914626891659, 0.6331974750967437]\n",
            "\n",
            "Average train loss: 0.2553709639085642\n",
            "Validation loss: 0.2666697942217191\n",
            "Validation Accuracy: 0.923351011280542\n",
            "Validation F1-Score: 0.641559908450495\n"
          ]
        },
        {
          "name": "stderr",
          "output_type": "stream",
          "text": [
            "\r",
            "Epoch:  24%|██▍       | 24/100 [5:47:47<18:31:25, 877.44s/it]"
          ]
        },
        {
          "name": "stdout",
          "output_type": "stream",
          "text": [
            "[0.0, 0.19232221522970422, 0.25009648784253186, 0.26283526041589356, 0.28138496233951915, 0.3204017216642755, 0.36238789641124564, 0.3710964148973198, 0.4468603392277156, 0.4277652861391165, 0.4661930185955915, 0.5263950398582815, 0.5339153595738384, 0.5394614802870963, 0.546889095725639, 0.5648223896663079, 0.5491479171307642, 0.5654933310411026, 0.5954727418298275, 0.6217919658394631, 0.6187856710959044, 0.6203914626891659, 0.6331974750967437, 0.641559908450495]\n",
            "\n",
            "Average train loss: 0.250817581731593\n",
            "Validation loss: 0.25834298682709533\n",
            "Validation Accuracy: 0.9238966439457509\n",
            "Validation F1-Score: 0.6412894678737028\n"
          ]
        },
        {
          "name": "stderr",
          "output_type": "stream",
          "text": [
            "\r",
            "Epoch:  25%|██▌       | 25/100 [6:02:25<18:17:01, 877.62s/it]"
          ]
        },
        {
          "name": "stdout",
          "output_type": "stream",
          "text": [
            "[0.0, 0.19232221522970422, 0.25009648784253186, 0.26283526041589356, 0.28138496233951915, 0.3204017216642755, 0.36238789641124564, 0.3710964148973198, 0.4468603392277156, 0.4277652861391165, 0.4661930185955915, 0.5263950398582815, 0.5339153595738384, 0.5394614802870963, 0.546889095725639, 0.5648223896663079, 0.5491479171307642, 0.5654933310411026, 0.5954727418298275, 0.6217919658394631, 0.6187856710959044, 0.6203914626891659, 0.6331974750967437, 0.641559908450495, 0.6412894678737028]\n",
            "\n",
            "Average train loss: 0.24709901554794286\n",
            "Validation loss: 0.27391658251484235\n",
            "Validation Accuracy: 0.9202508256827642\n",
            "Validation F1-Score: 0.6268082397870617\n"
          ]
        },
        {
          "name": "stderr",
          "output_type": "stream",
          "text": [
            "\r",
            "Epoch:  26%|██▌       | 26/100 [6:17:02<18:02:18, 877.55s/it]"
          ]
        },
        {
          "name": "stdout",
          "output_type": "stream",
          "text": [
            "[0.0, 0.19232221522970422, 0.25009648784253186, 0.26283526041589356, 0.28138496233951915, 0.3204017216642755, 0.36238789641124564, 0.3710964148973198, 0.4468603392277156, 0.4277652861391165, 0.4661930185955915, 0.5263950398582815, 0.5339153595738384, 0.5394614802870963, 0.546889095725639, 0.5648223896663079, 0.5491479171307642, 0.5654933310411026, 0.5954727418298275, 0.6217919658394631, 0.6187856710959044, 0.6203914626891659, 0.6331974750967437, 0.641559908450495, 0.6412894678737028, 0.6268082397870617]\n",
            "\n",
            "Average train loss: 0.24363599129773061\n",
            "Validation loss: 0.24529274811347326\n",
            "Validation Accuracy: 0.9281749000706843\n",
            "Validation F1-Score: 0.6645934218905032\n"
          ]
        },
        {
          "name": "stderr",
          "output_type": "stream",
          "text": [
            "\r",
            "Epoch:  27%|██▋       | 27/100 [6:31:39<17:47:23, 877.31s/it]"
          ]
        },
        {
          "name": "stdout",
          "output_type": "stream",
          "text": [
            "[0.0, 0.19232221522970422, 0.25009648784253186, 0.26283526041589356, 0.28138496233951915, 0.3204017216642755, 0.36238789641124564, 0.3710964148973198, 0.4468603392277156, 0.4277652861391165, 0.4661930185955915, 0.5263950398582815, 0.5339153595738384, 0.5394614802870963, 0.546889095725639, 0.5648223896663079, 0.5491479171307642, 0.5654933310411026, 0.5954727418298275, 0.6217919658394631, 0.6187856710959044, 0.6203914626891659, 0.6331974750967437, 0.641559908450495, 0.6412894678737028, 0.6268082397870617, 0.6645934218905032]\n",
            "\n",
            "Average train loss: 0.24040731615553904\n",
            "Validation loss: 0.2535147488117218\n",
            "Validation Accuracy: 0.9264511968783198\n",
            "Validation F1-Score: 0.6545060290390167\n"
          ]
        },
        {
          "name": "stderr",
          "output_type": "stream",
          "text": [
            "\r",
            "Epoch:  28%|██▊       | 28/100 [6:46:14<17:32:03, 876.71s/it]"
          ]
        },
        {
          "name": "stdout",
          "output_type": "stream",
          "text": [
            "[0.0, 0.19232221522970422, 0.25009648784253186, 0.26283526041589356, 0.28138496233951915, 0.3204017216642755, 0.36238789641124564, 0.3710964148973198, 0.4468603392277156, 0.4277652861391165, 0.4661930185955915, 0.5263950398582815, 0.5339153595738384, 0.5394614802870963, 0.546889095725639, 0.5648223896663079, 0.5491479171307642, 0.5654933310411026, 0.5954727418298275, 0.6217919658394631, 0.6187856710959044, 0.6203914626891659, 0.6331974750967437, 0.641559908450495, 0.6412894678737028, 0.6268082397870617, 0.6645934218905032, 0.6545060290390167]\n",
            "\n",
            "Average train loss: 0.23597555121622849\n",
            "Validation loss: 0.25074218357602757\n",
            "Validation Accuracy: 0.9272200429065687\n",
            "Validation F1-Score: 0.6601158250722092\n"
          ]
        },
        {
          "name": "stderr",
          "output_type": "stream",
          "text": [
            "\r",
            "Epoch:  29%|██▉       | 29/100 [7:00:50<17:17:19, 876.61s/it]"
          ]
        },
        {
          "name": "stdout",
          "output_type": "stream",
          "text": [
            "[0.0, 0.19232221522970422, 0.25009648784253186, 0.26283526041589356, 0.28138496233951915, 0.3204017216642755, 0.36238789641124564, 0.3710964148973198, 0.4468603392277156, 0.4277652861391165, 0.4661930185955915, 0.5263950398582815, 0.5339153595738384, 0.5394614802870963, 0.546889095725639, 0.5648223896663079, 0.5491479171307642, 0.5654933310411026, 0.5954727418298275, 0.6217919658394631, 0.6187856710959044, 0.6203914626891659, 0.6331974750967437, 0.641559908450495, 0.6412894678737028, 0.6268082397870617, 0.6645934218905032, 0.6545060290390167, 0.6601158250722092]\n",
            "\n",
            "Average train loss: 0.23260845841717184\n",
            "Validation loss: 0.26374675810337067\n",
            "Validation Accuracy: 0.9253020614167435\n",
            "Validation F1-Score: 0.6487068012674083\n"
          ]
        },
        {
          "name": "stderr",
          "output_type": "stream",
          "text": [
            "\r",
            "Epoch:  30%|███       | 30/100 [7:15:27<17:02:38, 876.55s/it]"
          ]
        },
        {
          "name": "stdout",
          "output_type": "stream",
          "text": [
            "[0.0, 0.19232221522970422, 0.25009648784253186, 0.26283526041589356, 0.28138496233951915, 0.3204017216642755, 0.36238789641124564, 0.3710964148973198, 0.4468603392277156, 0.4277652861391165, 0.4661930185955915, 0.5263950398582815, 0.5339153595738384, 0.5394614802870963, 0.546889095725639, 0.5648223896663079, 0.5491479171307642, 0.5654933310411026, 0.5954727418298275, 0.6217919658394631, 0.6187856710959044, 0.6203914626891659, 0.6331974750967437, 0.641559908450495, 0.6412894678737028, 0.6268082397870617, 0.6645934218905032, 0.6545060290390167, 0.6601158250722092, 0.6487068012674083]\n",
            "\n",
            "Average train loss: 0.22978860283390098\n",
            "Validation loss: 0.2548852625240882\n",
            "Validation Accuracy: 0.9251036495384857\n",
            "Validation F1-Score: 0.6459005996309963\n"
          ]
        },
        {
          "name": "stderr",
          "output_type": "stream",
          "text": [
            "\r",
            "Epoch:  31%|███       | 31/100 [7:30:03<16:47:44, 876.29s/it]"
          ]
        },
        {
          "name": "stdout",
          "output_type": "stream",
          "text": [
            "[0.0, 0.19232221522970422, 0.25009648784253186, 0.26283526041589356, 0.28138496233951915, 0.3204017216642755, 0.36238789641124564, 0.3710964148973198, 0.4468603392277156, 0.4277652861391165, 0.4661930185955915, 0.5263950398582815, 0.5339153595738384, 0.5394614802870963, 0.546889095725639, 0.5648223896663079, 0.5491479171307642, 0.5654933310411026, 0.5954727418298275, 0.6217919658394631, 0.6187856710959044, 0.6203914626891659, 0.6331974750967437, 0.641559908450495, 0.6412894678737028, 0.6268082397870617, 0.6645934218905032, 0.6545060290390167, 0.6601158250722092, 0.6487068012674083, 0.6459005996309963]\n",
            "\n",
            "Average train loss: 0.22667337062335988\n",
            "Validation loss: 0.2408185732613007\n",
            "Validation Accuracy: 0.9296671227384146\n",
            "Validation F1-Score: 0.6712358859452572\n"
          ]
        },
        {
          "name": "stderr",
          "output_type": "stream",
          "text": [
            "\r",
            "Epoch:  32%|███▏      | 32/100 [7:44:38<16:32:43, 875.94s/it]"
          ]
        },
        {
          "name": "stdout",
          "output_type": "stream",
          "text": [
            "[0.0, 0.19232221522970422, 0.25009648784253186, 0.26283526041589356, 0.28138496233951915, 0.3204017216642755, 0.36238789641124564, 0.3710964148973198, 0.4468603392277156, 0.4277652861391165, 0.4661930185955915, 0.5263950398582815, 0.5339153595738384, 0.5394614802870963, 0.546889095725639, 0.5648223896663079, 0.5491479171307642, 0.5654933310411026, 0.5954727418298275, 0.6217919658394631, 0.6187856710959044, 0.6203914626891659, 0.6331974750967437, 0.641559908450495, 0.6412894678737028, 0.6268082397870617, 0.6645934218905032, 0.6545060290390167, 0.6601158250722092, 0.6487068012674083, 0.6459005996309963, 0.6712358859452572]\n",
            "\n",
            "Average train loss: 0.22386818743303877\n",
            "Validation loss: 0.2666997532794873\n",
            "Validation Accuracy: 0.9233386105381509\n",
            "Validation F1-Score: 0.6405333257198327\n"
          ]
        },
        {
          "name": "stderr",
          "output_type": "stream",
          "text": [
            "\r",
            "Epoch:  33%|███▎      | 33/100 [7:59:14<16:18:23, 876.17s/it]"
          ]
        },
        {
          "name": "stdout",
          "output_type": "stream",
          "text": [
            "[0.0, 0.19232221522970422, 0.25009648784253186, 0.26283526041589356, 0.28138496233951915, 0.3204017216642755, 0.36238789641124564, 0.3710964148973198, 0.4468603392277156, 0.4277652861391165, 0.4661930185955915, 0.5263950398582815, 0.5339153595738384, 0.5394614802870963, 0.546889095725639, 0.5648223896663079, 0.5491479171307642, 0.5654933310411026, 0.5954727418298275, 0.6217919658394631, 0.6187856710959044, 0.6203914626891659, 0.6331974750967437, 0.641559908450495, 0.6412894678737028, 0.6268082397870617, 0.6645934218905032, 0.6545060290390167, 0.6601158250722092, 0.6487068012674083, 0.6459005996309963, 0.6712358859452572, 0.6405333257198327]\n",
            "\n",
            "Average train loss: 0.22195425085891177\n",
            "Validation loss: 0.24065764452020327\n",
            "Validation Accuracy: 0.9306385142257183\n",
            "Validation F1-Score: 0.6785186917937397\n"
          ]
        },
        {
          "name": "stderr",
          "output_type": "stream",
          "text": [
            "\r",
            "Epoch:  34%|███▍      | 34/100 [8:13:50<16:03:43, 876.12s/it]"
          ]
        },
        {
          "name": "stdout",
          "output_type": "stream",
          "text": [
            "[0.0, 0.19232221522970422, 0.25009648784253186, 0.26283526041589356, 0.28138496233951915, 0.3204017216642755, 0.36238789641124564, 0.3710964148973198, 0.4468603392277156, 0.4277652861391165, 0.4661930185955915, 0.5263950398582815, 0.5339153595738384, 0.5394614802870963, 0.546889095725639, 0.5648223896663079, 0.5491479171307642, 0.5654933310411026, 0.5954727418298275, 0.6217919658394631, 0.6187856710959044, 0.6203914626891659, 0.6331974750967437, 0.641559908450495, 0.6412894678737028, 0.6268082397870617, 0.6645934218905032, 0.6545060290390167, 0.6601158250722092, 0.6487068012674083, 0.6459005996309963, 0.6712358859452572, 0.6405333257198327, 0.6785186917937397]\n",
            "\n",
            "Average train loss: 0.21934090385693525\n",
            "Validation loss: 0.24429295289019742\n",
            "Validation Accuracy: 0.9286626626047346\n",
            "Validation F1-Score: 0.6663426071540903\n"
          ]
        },
        {
          "name": "stderr",
          "output_type": "stream",
          "text": [
            "\r",
            "Epoch:  35%|███▌      | 35/100 [8:28:27<15:49:19, 876.30s/it]"
          ]
        },
        {
          "name": "stdout",
          "output_type": "stream",
          "text": [
            "[0.0, 0.19232221522970422, 0.25009648784253186, 0.26283526041589356, 0.28138496233951915, 0.3204017216642755, 0.36238789641124564, 0.3710964148973198, 0.4468603392277156, 0.4277652861391165, 0.4661930185955915, 0.5263950398582815, 0.5339153595738384, 0.5394614802870963, 0.546889095725639, 0.5648223896663079, 0.5491479171307642, 0.5654933310411026, 0.5954727418298275, 0.6217919658394631, 0.6187856710959044, 0.6203914626891659, 0.6331974750967437, 0.641559908450495, 0.6412894678737028, 0.6268082397870617, 0.6645934218905032, 0.6545060290390167, 0.6601158250722092, 0.6487068012674083, 0.6459005996309963, 0.6712358859452572, 0.6405333257198327, 0.6785186917937397, 0.6663426071540903]\n",
            "\n",
            "Average train loss: 0.2170069923405353\n",
            "Validation loss: 0.24279415855805078\n",
            "Validation Accuracy: 0.9303119613427524\n",
            "Validation F1-Score: 0.6727622290385545\n"
          ]
        },
        {
          "name": "stderr",
          "output_type": "stream",
          "text": [
            "\r",
            "Epoch:  36%|███▌      | 36/100 [8:43:04<15:34:49, 876.40s/it]"
          ]
        },
        {
          "name": "stdout",
          "output_type": "stream",
          "text": [
            "[0.0, 0.19232221522970422, 0.25009648784253186, 0.26283526041589356, 0.28138496233951915, 0.3204017216642755, 0.36238789641124564, 0.3710964148973198, 0.4468603392277156, 0.4277652861391165, 0.4661930185955915, 0.5263950398582815, 0.5339153595738384, 0.5394614802870963, 0.546889095725639, 0.5648223896663079, 0.5491479171307642, 0.5654933310411026, 0.5954727418298275, 0.6217919658394631, 0.6187856710959044, 0.6203914626891659, 0.6331974750967437, 0.641559908450495, 0.6412894678737028, 0.6268082397870617, 0.6645934218905032, 0.6545060290390167, 0.6601158250722092, 0.6487068012674083, 0.6459005996309963, 0.6712358859452572, 0.6405333257198327, 0.6785186917937397, 0.6663426071540903, 0.6727622290385545]\n",
            "\n",
            "Average train loss: 0.21472853357539365\n",
            "Validation loss: 0.23625130526721477\n",
            "Validation Accuracy: 0.9313494901228087\n",
            "Validation F1-Score: 0.6802322172051839\n"
          ]
        },
        {
          "name": "stderr",
          "output_type": "stream",
          "text": [
            "\r",
            "Epoch:  37%|███▋      | 37/100 [8:57:41<15:20:23, 876.57s/it]"
          ]
        },
        {
          "name": "stdout",
          "output_type": "stream",
          "text": [
            "[0.0, 0.19232221522970422, 0.25009648784253186, 0.26283526041589356, 0.28138496233951915, 0.3204017216642755, 0.36238789641124564, 0.3710964148973198, 0.4468603392277156, 0.4277652861391165, 0.4661930185955915, 0.5263950398582815, 0.5339153595738384, 0.5394614802870963, 0.546889095725639, 0.5648223896663079, 0.5491479171307642, 0.5654933310411026, 0.5954727418298275, 0.6217919658394631, 0.6187856710959044, 0.6203914626891659, 0.6331974750967437, 0.641559908450495, 0.6412894678737028, 0.6268082397870617, 0.6645934218905032, 0.6545060290390167, 0.6601158250722092, 0.6487068012674083, 0.6459005996309963, 0.6712358859452572, 0.6405333257198327, 0.6785186917937397, 0.6663426071540903, 0.6727622290385545, 0.6802322172051839]\n",
            "\n",
            "Average train loss: 0.21243938218314415\n",
            "Validation loss: 0.2327213713278373\n",
            "Validation Accuracy: 0.9320025958887406\n",
            "Validation F1-Score: 0.6822904437661422\n"
          ]
        },
        {
          "name": "stderr",
          "output_type": "stream",
          "text": [
            "\r",
            "Epoch:  38%|███▊      | 38/100 [9:12:18<15:05:51, 876.63s/it]"
          ]
        },
        {
          "name": "stdout",
          "output_type": "stream",
          "text": [
            "[0.0, 0.19232221522970422, 0.25009648784253186, 0.26283526041589356, 0.28138496233951915, 0.3204017216642755, 0.36238789641124564, 0.3710964148973198, 0.4468603392277156, 0.4277652861391165, 0.4661930185955915, 0.5263950398582815, 0.5339153595738384, 0.5394614802870963, 0.546889095725639, 0.5648223896663079, 0.5491479171307642, 0.5654933310411026, 0.5954727418298275, 0.6217919658394631, 0.6187856710959044, 0.6203914626891659, 0.6331974750967437, 0.641559908450495, 0.6412894678737028, 0.6268082397870617, 0.6645934218905032, 0.6545060290390167, 0.6601158250722092, 0.6487068012674083, 0.6459005996309963, 0.6712358859452572, 0.6405333257198327, 0.6785186917937397, 0.6663426071540903, 0.6727622290385545, 0.6802322172051839, 0.6822904437661422]\n",
            "\n",
            "Average train loss: 0.21059587528871634\n",
            "Validation loss: 0.22982838628192742\n",
            "Validation Accuracy: 0.9325812972003257\n",
            "Validation F1-Score: 0.6848425455981513\n"
          ]
        },
        {
          "name": "stderr",
          "output_type": "stream",
          "text": [
            "\r",
            "Epoch:  39%|███▉      | 39/100 [9:23:36<13:50:43, 817.11s/it]"
          ]
        },
        {
          "name": "stdout",
          "output_type": "stream",
          "text": [
            "[0.0, 0.19232221522970422, 0.25009648784253186, 0.26283526041589356, 0.28138496233951915, 0.3204017216642755, 0.36238789641124564, 0.3710964148973198, 0.4468603392277156, 0.4277652861391165, 0.4661930185955915, 0.5263950398582815, 0.5339153595738384, 0.5394614802870963, 0.546889095725639, 0.5648223896663079, 0.5491479171307642, 0.5654933310411026, 0.5954727418298275, 0.6217919658394631, 0.6187856710959044, 0.6203914626891659, 0.6331974750967437, 0.641559908450495, 0.6412894678737028, 0.6268082397870617, 0.6645934218905032, 0.6545060290390167, 0.6601158250722092, 0.6487068012674083, 0.6459005996309963, 0.6712358859452572, 0.6405333257198327, 0.6785186917937397, 0.6663426071540903, 0.6727622290385545, 0.6802322172051839, 0.6822904437661422, 0.6848425455981513]\n",
            "\n",
            "Average train loss: 0.20848480417541507\n",
            "Validation loss: 0.22789880710343519\n",
            "Validation Accuracy: 0.9336684289499465\n",
            "Validation F1-Score: 0.6917097688553812\n"
          ]
        },
        {
          "name": "stderr",
          "output_type": "stream",
          "text": [
            "\r",
            "Epoch:  40%|████      | 40/100 [9:33:20<12:27:08, 747.14s/it]"
          ]
        },
        {
          "name": "stdout",
          "output_type": "stream",
          "text": [
            "[0.0, 0.19232221522970422, 0.25009648784253186, 0.26283526041589356, 0.28138496233951915, 0.3204017216642755, 0.36238789641124564, 0.3710964148973198, 0.4468603392277156, 0.4277652861391165, 0.4661930185955915, 0.5263950398582815, 0.5339153595738384, 0.5394614802870963, 0.546889095725639, 0.5648223896663079, 0.5491479171307642, 0.5654933310411026, 0.5954727418298275, 0.6217919658394631, 0.6187856710959044, 0.6203914626891659, 0.6331974750967437, 0.641559908450495, 0.6412894678737028, 0.6268082397870617, 0.6645934218905032, 0.6545060290390167, 0.6601158250722092, 0.6487068012674083, 0.6459005996309963, 0.6712358859452572, 0.6405333257198327, 0.6785186917937397, 0.6663426071540903, 0.6727622290385545, 0.6802322172051839, 0.6822904437661422, 0.6848425455981513, 0.6917097688553812]\n",
            "\n",
            "Average train loss: 0.20620227575898667\n",
            "Validation loss: 0.23630336053669454\n",
            "Validation Accuracy: 0.9324366218724295\n",
            "Validation F1-Score: 0.6837279804565054\n"
          ]
        },
        {
          "name": "stderr",
          "output_type": "stream",
          "text": [
            "\r",
            "Epoch:  41%|████      | 41/100 [9:43:26<11:33:11, 704.95s/it]"
          ]
        },
        {
          "name": "stdout",
          "output_type": "stream",
          "text": [
            "[0.0, 0.19232221522970422, 0.25009648784253186, 0.26283526041589356, 0.28138496233951915, 0.3204017216642755, 0.36238789641124564, 0.3710964148973198, 0.4468603392277156, 0.4277652861391165, 0.4661930185955915, 0.5263950398582815, 0.5339153595738384, 0.5394614802870963, 0.546889095725639, 0.5648223896663079, 0.5491479171307642, 0.5654933310411026, 0.5954727418298275, 0.6217919658394631, 0.6187856710959044, 0.6203914626891659, 0.6331974750967437, 0.641559908450495, 0.6412894678737028, 0.6268082397870617, 0.6645934218905032, 0.6545060290390167, 0.6601158250722092, 0.6487068012674083, 0.6459005996309963, 0.6712358859452572, 0.6405333257198327, 0.6785186917937397, 0.6663426071540903, 0.6727622290385545, 0.6802322172051839, 0.6822904437661422, 0.6848425455981513, 0.6917097688553812, 0.6837279804565054]\n",
            "\n",
            "Average train loss: 0.20464160994279373\n",
            "Validation loss: 0.23455364388724168\n",
            "Validation Accuracy: 0.9335278872028472\n",
            "Validation F1-Score: 0.6882636775295079\n"
          ]
        },
        {
          "name": "stderr",
          "output_type": "stream",
          "text": [
            "\r",
            "Epoch:  42%|████▏     | 42/100 [9:53:36<10:53:59, 676.54s/it]"
          ]
        },
        {
          "name": "stdout",
          "output_type": "stream",
          "text": [
            "[0.0, 0.19232221522970422, 0.25009648784253186, 0.26283526041589356, 0.28138496233951915, 0.3204017216642755, 0.36238789641124564, 0.3710964148973198, 0.4468603392277156, 0.4277652861391165, 0.4661930185955915, 0.5263950398582815, 0.5339153595738384, 0.5394614802870963, 0.546889095725639, 0.5648223896663079, 0.5491479171307642, 0.5654933310411026, 0.5954727418298275, 0.6217919658394631, 0.6187856710959044, 0.6203914626891659, 0.6331974750967437, 0.641559908450495, 0.6412894678737028, 0.6268082397870617, 0.6645934218905032, 0.6545060290390167, 0.6601158250722092, 0.6487068012674083, 0.6459005996309963, 0.6712358859452572, 0.6405333257198327, 0.6785186917937397, 0.6663426071540903, 0.6727622290385545, 0.6802322172051839, 0.6822904437661422, 0.6848425455981513, 0.6917097688553812, 0.6837279804565054, 0.6882636775295079]\n",
            "\n",
            "Average train loss: 0.2030858526424232\n",
            "Validation loss: 0.23227516122162342\n",
            "Validation Accuracy: 0.9330235903456087\n",
            "Validation F1-Score: 0.6917956178635982\n"
          ]
        },
        {
          "name": "stderr",
          "output_type": "stream",
          "text": [
            "\r",
            "Epoch:  43%|████▎     | 43/100 [10:02:26<10:00:54, 632.53s/it]"
          ]
        },
        {
          "name": "stdout",
          "output_type": "stream",
          "text": [
            "[0.0, 0.19232221522970422, 0.25009648784253186, 0.26283526041589356, 0.28138496233951915, 0.3204017216642755, 0.36238789641124564, 0.3710964148973198, 0.4468603392277156, 0.4277652861391165, 0.4661930185955915, 0.5263950398582815, 0.5339153595738384, 0.5394614802870963, 0.546889095725639, 0.5648223896663079, 0.5491479171307642, 0.5654933310411026, 0.5954727418298275, 0.6217919658394631, 0.6187856710959044, 0.6203914626891659, 0.6331974750967437, 0.641559908450495, 0.6412894678737028, 0.6268082397870617, 0.6645934218905032, 0.6545060290390167, 0.6601158250722092, 0.6487068012674083, 0.6459005996309963, 0.6712358859452572, 0.6405333257198327, 0.6785186917937397, 0.6663426071540903, 0.6727622290385545, 0.6802322172051839, 0.6822904437661422, 0.6848425455981513, 0.6917097688553812, 0.6837279804565054, 0.6882636775295079, 0.6917956178635982]\n",
            "\n",
            "Average train loss: 0.20166302230628558\n",
            "Validation loss: 0.2239619151999553\n",
            "Validation Accuracy: 0.9345736831444976\n",
            "Validation F1-Score: 0.6964638570206741\n"
          ]
        },
        {
          "name": "stderr",
          "output_type": "stream",
          "text": [
            "\r",
            "Epoch:  44%|████▍     | 44/100 [10:08:31<8:35:17, 552.10s/it] "
          ]
        },
        {
          "name": "stdout",
          "output_type": "stream",
          "text": [
            "[0.0, 0.19232221522970422, 0.25009648784253186, 0.26283526041589356, 0.28138496233951915, 0.3204017216642755, 0.36238789641124564, 0.3710964148973198, 0.4468603392277156, 0.4277652861391165, 0.4661930185955915, 0.5263950398582815, 0.5339153595738384, 0.5394614802870963, 0.546889095725639, 0.5648223896663079, 0.5491479171307642, 0.5654933310411026, 0.5954727418298275, 0.6217919658394631, 0.6187856710959044, 0.6203914626891659, 0.6331974750967437, 0.641559908450495, 0.6412894678737028, 0.6268082397870617, 0.6645934218905032, 0.6545060290390167, 0.6601158250722092, 0.6487068012674083, 0.6459005996309963, 0.6712358859452572, 0.6405333257198327, 0.6785186917937397, 0.6663426071540903, 0.6727622290385545, 0.6802322172051839, 0.6822904437661422, 0.6848425455981513, 0.6917097688553812, 0.6837279804565054, 0.6882636775295079, 0.6917956178635982, 0.6964638570206741]\n",
            "\n",
            "Average train loss: 0.1994486952680563\n",
            "Validation loss: 0.22759670071303845\n",
            "Validation Accuracy: 0.9339743139289272\n",
            "Validation F1-Score: 0.6937111345770268\n"
          ]
        },
        {
          "name": "stderr",
          "output_type": "stream",
          "text": [
            "\r",
            "Epoch:  45%|████▌     | 45/100 [10:14:36<7:34:50, 496.19s/it]"
          ]
        },
        {
          "name": "stdout",
          "output_type": "stream",
          "text": [
            "[0.0, 0.19232221522970422, 0.25009648784253186, 0.26283526041589356, 0.28138496233951915, 0.3204017216642755, 0.36238789641124564, 0.3710964148973198, 0.4468603392277156, 0.4277652861391165, 0.4661930185955915, 0.5263950398582815, 0.5339153595738384, 0.5394614802870963, 0.546889095725639, 0.5648223896663079, 0.5491479171307642, 0.5654933310411026, 0.5954727418298275, 0.6217919658394631, 0.6187856710959044, 0.6203914626891659, 0.6331974750967437, 0.641559908450495, 0.6412894678737028, 0.6268082397870617, 0.6645934218905032, 0.6545060290390167, 0.6601158250722092, 0.6487068012674083, 0.6459005996309963, 0.6712358859452572, 0.6405333257198327, 0.6785186917937397, 0.6663426071540903, 0.6727622290385545, 0.6802322172051839, 0.6822904437661422, 0.6848425455981513, 0.6917097688553812, 0.6837279804565054, 0.6882636775295079, 0.6917956178635982, 0.6964638570206741, 0.6937111345770268]\n",
            "\n",
            "Average train loss: 0.19780671508909764\n",
            "Validation loss: 0.22141838853557905\n",
            "Validation Accuracy: 0.9361568445897628\n",
            "Validation F1-Score: 0.702957742325499\n"
          ]
        },
        {
          "name": "stderr",
          "output_type": "stream",
          "text": [
            "\r",
            "Epoch:  46%|████▌     | 46/100 [10:20:42<6:51:15, 456.95s/it]"
          ]
        },
        {
          "name": "stdout",
          "output_type": "stream",
          "text": [
            "[0.0, 0.19232221522970422, 0.25009648784253186, 0.26283526041589356, 0.28138496233951915, 0.3204017216642755, 0.36238789641124564, 0.3710964148973198, 0.4468603392277156, 0.4277652861391165, 0.4661930185955915, 0.5263950398582815, 0.5339153595738384, 0.5394614802870963, 0.546889095725639, 0.5648223896663079, 0.5491479171307642, 0.5654933310411026, 0.5954727418298275, 0.6217919658394631, 0.6187856710959044, 0.6203914626891659, 0.6331974750967437, 0.641559908450495, 0.6412894678737028, 0.6268082397870617, 0.6645934218905032, 0.6545060290390167, 0.6601158250722092, 0.6487068012674083, 0.6459005996309963, 0.6712358859452572, 0.6405333257198327, 0.6785186917937397, 0.6663426071540903, 0.6727622290385545, 0.6802322172051839, 0.6822904437661422, 0.6848425455981513, 0.6917097688553812, 0.6837279804565054, 0.6882636775295079, 0.6917956178635982, 0.6964638570206741, 0.6937111345770268, 0.702957742325499]\n",
            "\n",
            "Average train loss: 0.19673032961705011\n",
            "Validation loss: 0.2327143548677365\n",
            "Validation Accuracy: 0.9332178686430694\n",
            "Validation F1-Score: 0.6905972883840236\n"
          ]
        },
        {
          "name": "stderr",
          "output_type": "stream",
          "text": [
            "\r",
            "Epoch:  47%|████▋     | 47/100 [10:26:48<6:19:28, 429.60s/it]"
          ]
        },
        {
          "name": "stdout",
          "output_type": "stream",
          "text": [
            "[0.0, 0.19232221522970422, 0.25009648784253186, 0.26283526041589356, 0.28138496233951915, 0.3204017216642755, 0.36238789641124564, 0.3710964148973198, 0.4468603392277156, 0.4277652861391165, 0.4661930185955915, 0.5263950398582815, 0.5339153595738384, 0.5394614802870963, 0.546889095725639, 0.5648223896663079, 0.5491479171307642, 0.5654933310411026, 0.5954727418298275, 0.6217919658394631, 0.6187856710959044, 0.6203914626891659, 0.6331974750967437, 0.641559908450495, 0.6412894678737028, 0.6268082397870617, 0.6645934218905032, 0.6545060290390167, 0.6601158250722092, 0.6487068012674083, 0.6459005996309963, 0.6712358859452572, 0.6405333257198327, 0.6785186917937397, 0.6663426071540903, 0.6727622290385545, 0.6802322172051839, 0.6822904437661422, 0.6848425455981513, 0.6917097688553812, 0.6837279804565054, 0.6882636775295079, 0.6917956178635982, 0.6964638570206741, 0.6937111345770268, 0.702957742325499, 0.6905972883840236]\n",
            "\n",
            "Average train loss: 0.19463270293662108\n",
            "Validation loss: 0.2173332523802916\n",
            "Validation Accuracy: 0.9369215570372146\n",
            "Validation F1-Score: 0.7072620790629576\n"
          ]
        },
        {
          "name": "stderr",
          "output_type": "stream",
          "text": [
            "\r",
            "Epoch:  48%|████▊     | 48/100 [10:32:54<5:55:50, 410.58s/it]"
          ]
        },
        {
          "name": "stdout",
          "output_type": "stream",
          "text": [
            "[0.0, 0.19232221522970422, 0.25009648784253186, 0.26283526041589356, 0.28138496233951915, 0.3204017216642755, 0.36238789641124564, 0.3710964148973198, 0.4468603392277156, 0.4277652861391165, 0.4661930185955915, 0.5263950398582815, 0.5339153595738384, 0.5394614802870963, 0.546889095725639, 0.5648223896663079, 0.5491479171307642, 0.5654933310411026, 0.5954727418298275, 0.6217919658394631, 0.6187856710959044, 0.6203914626891659, 0.6331974750967437, 0.641559908450495, 0.6412894678737028, 0.6268082397870617, 0.6645934218905032, 0.6545060290390167, 0.6601158250722092, 0.6487068012674083, 0.6459005996309963, 0.6712358859452572, 0.6405333257198327, 0.6785186917937397, 0.6663426071540903, 0.6727622290385545, 0.6802322172051839, 0.6822904437661422, 0.6848425455981513, 0.6917097688553812, 0.6837279804565054, 0.6882636775295079, 0.6917956178635982, 0.6964638570206741, 0.6937111345770268, 0.702957742325499, 0.6905972883840236, 0.7072620790629576]\n",
            "\n",
            "Average train loss: 0.19345992811651802\n",
            "Validation loss: 0.2159582933038473\n",
            "Validation Accuracy: 0.9370042286531554\n",
            "Validation F1-Score: 0.7059730707633904\n"
          ]
        },
        {
          "name": "stderr",
          "output_type": "stream",
          "text": [
            "\r",
            "Epoch:  49%|████▉     | 49/100 [10:39:01<5:37:57, 397.59s/it]"
          ]
        },
        {
          "name": "stdout",
          "output_type": "stream",
          "text": [
            "[0.0, 0.19232221522970422, 0.25009648784253186, 0.26283526041589356, 0.28138496233951915, 0.3204017216642755, 0.36238789641124564, 0.3710964148973198, 0.4468603392277156, 0.4277652861391165, 0.4661930185955915, 0.5263950398582815, 0.5339153595738384, 0.5394614802870963, 0.546889095725639, 0.5648223896663079, 0.5491479171307642, 0.5654933310411026, 0.5954727418298275, 0.6217919658394631, 0.6187856710959044, 0.6203914626891659, 0.6331974750967437, 0.641559908450495, 0.6412894678737028, 0.6268082397870617, 0.6645934218905032, 0.6545060290390167, 0.6601158250722092, 0.6487068012674083, 0.6459005996309963, 0.6712358859452572, 0.6405333257198327, 0.6785186917937397, 0.6663426071540903, 0.6727622290385545, 0.6802322172051839, 0.6822904437661422, 0.6848425455981513, 0.6917097688553812, 0.6837279804565054, 0.6882636775295079, 0.6917956178635982, 0.6964638570206741, 0.6937111345770268, 0.702957742325499, 0.6905972883840236, 0.7072620790629576, 0.7059730707633904]\n",
            "\n",
            "Average train loss: 0.19185701351274143\n",
            "Validation loss: 0.22273587584495544\n",
            "Validation Accuracy: 0.9360328371658516\n",
            "Validation F1-Score: 0.7004743651877635\n"
          ]
        },
        {
          "name": "stderr",
          "output_type": "stream",
          "text": [
            "\r",
            "Epoch:  50%|█████     | 50/100 [10:45:05<5:23:00, 387.61s/it]"
          ]
        },
        {
          "name": "stdout",
          "output_type": "stream",
          "text": [
            "[0.0, 0.19232221522970422, 0.25009648784253186, 0.26283526041589356, 0.28138496233951915, 0.3204017216642755, 0.36238789641124564, 0.3710964148973198, 0.4468603392277156, 0.4277652861391165, 0.4661930185955915, 0.5263950398582815, 0.5339153595738384, 0.5394614802870963, 0.546889095725639, 0.5648223896663079, 0.5491479171307642, 0.5654933310411026, 0.5954727418298275, 0.6217919658394631, 0.6187856710959044, 0.6203914626891659, 0.6331974750967437, 0.641559908450495, 0.6412894678737028, 0.6268082397870617, 0.6645934218905032, 0.6545060290390167, 0.6601158250722092, 0.6487068012674083, 0.6459005996309963, 0.6712358859452572, 0.6405333257198327, 0.6785186917937397, 0.6663426071540903, 0.6727622290385545, 0.6802322172051839, 0.6822904437661422, 0.6848425455981513, 0.6917097688553812, 0.6837279804565054, 0.6882636775295079, 0.6917956178635982, 0.6964638570206741, 0.6937111345770268, 0.702957742325499, 0.6905972883840236, 0.7072620790629576, 0.7059730707633904, 0.7004743651877635]\n",
            "\n",
            "Average train loss: 0.19118331094350888\n",
            "Validation loss: 0.22467005297541617\n",
            "Validation Accuracy: 0.9354293343694843\n",
            "Validation F1-Score: 0.6985999386834459\n"
          ]
        },
        {
          "name": "stderr",
          "output_type": "stream",
          "text": [
            "\r",
            "Epoch:  51%|█████     | 51/100 [10:51:12<5:11:22, 381.27s/it]"
          ]
        },
        {
          "name": "stdout",
          "output_type": "stream",
          "text": [
            "[0.0, 0.19232221522970422, 0.25009648784253186, 0.26283526041589356, 0.28138496233951915, 0.3204017216642755, 0.36238789641124564, 0.3710964148973198, 0.4468603392277156, 0.4277652861391165, 0.4661930185955915, 0.5263950398582815, 0.5339153595738384, 0.5394614802870963, 0.546889095725639, 0.5648223896663079, 0.5491479171307642, 0.5654933310411026, 0.5954727418298275, 0.6217919658394631, 0.6187856710959044, 0.6203914626891659, 0.6331974750967437, 0.641559908450495, 0.6412894678737028, 0.6268082397870617, 0.6645934218905032, 0.6545060290390167, 0.6601158250722092, 0.6487068012674083, 0.6459005996309963, 0.6712358859452572, 0.6405333257198327, 0.6785186917937397, 0.6663426071540903, 0.6727622290385545, 0.6802322172051839, 0.6822904437661422, 0.6848425455981513, 0.6917097688553812, 0.6837279804565054, 0.6882636775295079, 0.6917956178635982, 0.6964638570206741, 0.6937111345770268, 0.702957742325499, 0.6905972883840236, 0.7072620790629576, 0.7059730707633904, 0.7004743651877635, 0.6985999386834459]\n",
            "\n",
            "Average train loss: 0.18955382108812635\n",
            "Validation loss: 0.21833624623715878\n",
            "Validation Accuracy: 0.936847152582868\n",
            "Validation F1-Score: 0.7055892611155075\n"
          ]
        },
        {
          "name": "stderr",
          "output_type": "stream",
          "text": [
            "\r",
            "Epoch:  52%|█████▏    | 52/100 [10:57:20<5:01:50, 377.30s/it]"
          ]
        },
        {
          "name": "stdout",
          "output_type": "stream",
          "text": [
            "[0.0, 0.19232221522970422, 0.25009648784253186, 0.26283526041589356, 0.28138496233951915, 0.3204017216642755, 0.36238789641124564, 0.3710964148973198, 0.4468603392277156, 0.4277652861391165, 0.4661930185955915, 0.5263950398582815, 0.5339153595738384, 0.5394614802870963, 0.546889095725639, 0.5648223896663079, 0.5491479171307642, 0.5654933310411026, 0.5954727418298275, 0.6217919658394631, 0.6187856710959044, 0.6203914626891659, 0.6331974750967437, 0.641559908450495, 0.6412894678737028, 0.6268082397870617, 0.6645934218905032, 0.6545060290390167, 0.6601158250722092, 0.6487068012674083, 0.6459005996309963, 0.6712358859452572, 0.6405333257198327, 0.6785186917937397, 0.6663426071540903, 0.6727622290385545, 0.6802322172051839, 0.6822904437661422, 0.6848425455981513, 0.6917097688553812, 0.6837279804565054, 0.6882636775295079, 0.6917956178635982, 0.6964638570206741, 0.6937111345770268, 0.702957742325499, 0.6905972883840236, 0.7072620790629576, 0.7059730707633904, 0.7004743651877635, 0.6985999386834459, 0.7055892611155075]\n",
            "\n",
            "Average train loss: 0.18768573300703253\n",
            "Validation loss: 0.21340899003048738\n",
            "Validation Accuracy: 0.9381202954683554\n",
            "Validation F1-Score: 0.7115299005787209\n"
          ]
        },
        {
          "name": "stderr",
          "output_type": "stream",
          "text": [
            "\r",
            "Epoch:  53%|█████▎    | 53/100 [11:03:26<4:52:56, 373.96s/it]"
          ]
        },
        {
          "name": "stdout",
          "output_type": "stream",
          "text": [
            "[0.0, 0.19232221522970422, 0.25009648784253186, 0.26283526041589356, 0.28138496233951915, 0.3204017216642755, 0.36238789641124564, 0.3710964148973198, 0.4468603392277156, 0.4277652861391165, 0.4661930185955915, 0.5263950398582815, 0.5339153595738384, 0.5394614802870963, 0.546889095725639, 0.5648223896663079, 0.5491479171307642, 0.5654933310411026, 0.5954727418298275, 0.6217919658394631, 0.6187856710959044, 0.6203914626891659, 0.6331974750967437, 0.641559908450495, 0.6412894678737028, 0.6268082397870617, 0.6645934218905032, 0.6545060290390167, 0.6601158250722092, 0.6487068012674083, 0.6459005996309963, 0.6712358859452572, 0.6405333257198327, 0.6785186917937397, 0.6663426071540903, 0.6727622290385545, 0.6802322172051839, 0.6822904437661422, 0.6848425455981513, 0.6917097688553812, 0.6837279804565054, 0.6882636775295079, 0.6917956178635982, 0.6964638570206741, 0.6937111345770268, 0.702957742325499, 0.6905972883840236, 0.7072620790629576, 0.7059730707633904, 0.7004743651877635, 0.6985999386834459, 0.7055892611155075, 0.7115299005787209]\n",
            "\n",
            "Average train loss: 0.1875424812220851\n",
            "Validation loss: 0.21621689217785994\n",
            "Validation Accuracy: 0.9366652750277983\n",
            "Validation F1-Score: 0.7087669989606663\n"
          ]
        },
        {
          "name": "stderr",
          "output_type": "stream",
          "text": [
            "\r",
            "Epoch:  54%|█████▍    | 54/100 [11:09:32<4:44:51, 371.55s/it]"
          ]
        },
        {
          "name": "stdout",
          "output_type": "stream",
          "text": [
            "[0.0, 0.19232221522970422, 0.25009648784253186, 0.26283526041589356, 0.28138496233951915, 0.3204017216642755, 0.36238789641124564, 0.3710964148973198, 0.4468603392277156, 0.4277652861391165, 0.4661930185955915, 0.5263950398582815, 0.5339153595738384, 0.5394614802870963, 0.546889095725639, 0.5648223896663079, 0.5491479171307642, 0.5654933310411026, 0.5954727418298275, 0.6217919658394631, 0.6187856710959044, 0.6203914626891659, 0.6331974750967437, 0.641559908450495, 0.6412894678737028, 0.6268082397870617, 0.6645934218905032, 0.6545060290390167, 0.6601158250722092, 0.6487068012674083, 0.6459005996309963, 0.6712358859452572, 0.6405333257198327, 0.6785186917937397, 0.6663426071540903, 0.6727622290385545, 0.6802322172051839, 0.6822904437661422, 0.6848425455981513, 0.6917097688553812, 0.6837279804565054, 0.6882636775295079, 0.6917956178635982, 0.6964638570206741, 0.6937111345770268, 0.702957742325499, 0.6905972883840236, 0.7072620790629576, 0.7059730707633904, 0.7004743651877635, 0.6985999386834459, 0.7055892611155075, 0.7115299005787209, 0.7087669989606663]\n",
            "\n",
            "Average train loss: 0.18545927265169623\n",
            "Validation loss: 0.21280900925397872\n",
            "Validation Accuracy: 0.9383559095737865\n",
            "Validation F1-Score: 0.7158316279206726\n"
          ]
        },
        {
          "name": "stderr",
          "output_type": "stream",
          "text": [
            "\r",
            "Epoch:  55%|█████▌    | 55/100 [11:15:37<4:37:18, 369.75s/it]"
          ]
        },
        {
          "name": "stdout",
          "output_type": "stream",
          "text": [
            "[0.0, 0.19232221522970422, 0.25009648784253186, 0.26283526041589356, 0.28138496233951915, 0.3204017216642755, 0.36238789641124564, 0.3710964148973198, 0.4468603392277156, 0.4277652861391165, 0.4661930185955915, 0.5263950398582815, 0.5339153595738384, 0.5394614802870963, 0.546889095725639, 0.5648223896663079, 0.5491479171307642, 0.5654933310411026, 0.5954727418298275, 0.6217919658394631, 0.6187856710959044, 0.6203914626891659, 0.6331974750967437, 0.641559908450495, 0.6412894678737028, 0.6268082397870617, 0.6645934218905032, 0.6545060290390167, 0.6601158250722092, 0.6487068012674083, 0.6459005996309963, 0.6712358859452572, 0.6405333257198327, 0.6785186917937397, 0.6663426071540903, 0.6727622290385545, 0.6802322172051839, 0.6822904437661422, 0.6848425455981513, 0.6917097688553812, 0.6837279804565054, 0.6882636775295079, 0.6917956178635982, 0.6964638570206741, 0.6937111345770268, 0.702957742325499, 0.6905972883840236, 0.7072620790629576, 0.7059730707633904, 0.7004743651877635, 0.6985999386834459, 0.7055892611155075, 0.7115299005787209, 0.7087669989606663, 0.7158316279206726]\n",
            "\n",
            "Average train loss: 0.18465844039075865\n",
            "Validation loss: 0.21791520076493423\n",
            "Validation Accuracy: 0.937744139615825\n",
            "Validation F1-Score: 0.7110184633710541\n"
          ]
        },
        {
          "name": "stderr",
          "output_type": "stream",
          "text": [
            "\r",
            "Epoch:  56%|█████▌    | 56/100 [11:21:43<4:30:16, 368.56s/it]"
          ]
        },
        {
          "name": "stdout",
          "output_type": "stream",
          "text": [
            "[0.0, 0.19232221522970422, 0.25009648784253186, 0.26283526041589356, 0.28138496233951915, 0.3204017216642755, 0.36238789641124564, 0.3710964148973198, 0.4468603392277156, 0.4277652861391165, 0.4661930185955915, 0.5263950398582815, 0.5339153595738384, 0.5394614802870963, 0.546889095725639, 0.5648223896663079, 0.5491479171307642, 0.5654933310411026, 0.5954727418298275, 0.6217919658394631, 0.6187856710959044, 0.6203914626891659, 0.6331974750967437, 0.641559908450495, 0.6412894678737028, 0.6268082397870617, 0.6645934218905032, 0.6545060290390167, 0.6601158250722092, 0.6487068012674083, 0.6459005996309963, 0.6712358859452572, 0.6405333257198327, 0.6785186917937397, 0.6663426071540903, 0.6727622290385545, 0.6802322172051839, 0.6822904437661422, 0.6848425455981513, 0.6917097688553812, 0.6837279804565054, 0.6882636775295079, 0.6917956178635982, 0.6964638570206741, 0.6937111345770268, 0.702957742325499, 0.6905972883840236, 0.7072620790629576, 0.7059730707633904, 0.7004743651877635, 0.6985999386834459, 0.7055892611155075, 0.7115299005787209, 0.7087669989606663, 0.7158316279206726, 0.7110184633710541]\n",
            "\n",
            "Average train loss: 0.18288310407796832\n",
            "Validation loss: 0.22040067868928115\n",
            "Validation Accuracy: 0.9362849855944709\n",
            "Validation F1-Score: 0.7043307261248208\n"
          ]
        },
        {
          "name": "stderr",
          "output_type": "stream",
          "text": [
            "\r",
            "Epoch:  57%|█████▋    | 57/100 [11:27:49<4:23:31, 367.70s/it]"
          ]
        },
        {
          "name": "stdout",
          "output_type": "stream",
          "text": [
            "[0.0, 0.19232221522970422, 0.25009648784253186, 0.26283526041589356, 0.28138496233951915, 0.3204017216642755, 0.36238789641124564, 0.3710964148973198, 0.4468603392277156, 0.4277652861391165, 0.4661930185955915, 0.5263950398582815, 0.5339153595738384, 0.5394614802870963, 0.546889095725639, 0.5648223896663079, 0.5491479171307642, 0.5654933310411026, 0.5954727418298275, 0.6217919658394631, 0.6187856710959044, 0.6203914626891659, 0.6331974750967437, 0.641559908450495, 0.6412894678737028, 0.6268082397870617, 0.6645934218905032, 0.6545060290390167, 0.6601158250722092, 0.6487068012674083, 0.6459005996309963, 0.6712358859452572, 0.6405333257198327, 0.6785186917937397, 0.6663426071540903, 0.6727622290385545, 0.6802322172051839, 0.6822904437661422, 0.6848425455981513, 0.6917097688553812, 0.6837279804565054, 0.6882636775295079, 0.6917956178635982, 0.6964638570206741, 0.6937111345770268, 0.702957742325499, 0.6905972883840236, 0.7072620790629576, 0.7059730707633904, 0.7004743651877635, 0.6985999386834459, 0.7055892611155075, 0.7115299005787209, 0.7087669989606663, 0.7158316279206726, 0.7110184633710541, 0.7043307261248208]\n",
            "\n",
            "Average train loss: 0.1816688343397869\n",
            "Validation loss: 0.21376315891742706\n",
            "Validation Accuracy: 0.9380582917563998\n",
            "Validation F1-Score: 0.7113947879287017\n"
          ]
        },
        {
          "name": "stderr",
          "output_type": "stream",
          "text": [
            "\r",
            "Epoch:  58%|█████▊    | 58/100 [11:33:55<4:16:58, 367.11s/it]"
          ]
        },
        {
          "name": "stdout",
          "output_type": "stream",
          "text": [
            "[0.0, 0.19232221522970422, 0.25009648784253186, 0.26283526041589356, 0.28138496233951915, 0.3204017216642755, 0.36238789641124564, 0.3710964148973198, 0.4468603392277156, 0.4277652861391165, 0.4661930185955915, 0.5263950398582815, 0.5339153595738384, 0.5394614802870963, 0.546889095725639, 0.5648223896663079, 0.5491479171307642, 0.5654933310411026, 0.5954727418298275, 0.6217919658394631, 0.6187856710959044, 0.6203914626891659, 0.6331974750967437, 0.641559908450495, 0.6412894678737028, 0.6268082397870617, 0.6645934218905032, 0.6545060290390167, 0.6601158250722092, 0.6487068012674083, 0.6459005996309963, 0.6712358859452572, 0.6405333257198327, 0.6785186917937397, 0.6663426071540903, 0.6727622290385545, 0.6802322172051839, 0.6822904437661422, 0.6848425455981513, 0.6917097688553812, 0.6837279804565054, 0.6882636775295079, 0.6917956178635982, 0.6964638570206741, 0.6937111345770268, 0.702957742325499, 0.6905972883840236, 0.7072620790629576, 0.7059730707633904, 0.7004743651877635, 0.6985999386834459, 0.7055892611155075, 0.7115299005787209, 0.7087669989606663, 0.7158316279206726, 0.7110184633710541, 0.7043307261248208, 0.7113947879287017]\n",
            "\n",
            "Average train loss: 0.18126872705421515\n",
            "Validation loss: 0.21997423902153967\n",
            "Validation Accuracy: 0.9368182175172887\n",
            "Validation F1-Score: 0.7049869759455174\n"
          ]
        },
        {
          "name": "stderr",
          "output_type": "stream",
          "text": [
            "\r",
            "Epoch:  59%|█████▉    | 59/100 [11:40:00<4:10:33, 366.66s/it]"
          ]
        },
        {
          "name": "stdout",
          "output_type": "stream",
          "text": [
            "[0.0, 0.19232221522970422, 0.25009648784253186, 0.26283526041589356, 0.28138496233951915, 0.3204017216642755, 0.36238789641124564, 0.3710964148973198, 0.4468603392277156, 0.4277652861391165, 0.4661930185955915, 0.5263950398582815, 0.5339153595738384, 0.5394614802870963, 0.546889095725639, 0.5648223896663079, 0.5491479171307642, 0.5654933310411026, 0.5954727418298275, 0.6217919658394631, 0.6187856710959044, 0.6203914626891659, 0.6331974750967437, 0.641559908450495, 0.6412894678737028, 0.6268082397870617, 0.6645934218905032, 0.6545060290390167, 0.6601158250722092, 0.6487068012674083, 0.6459005996309963, 0.6712358859452572, 0.6405333257198327, 0.6785186917937397, 0.6663426071540903, 0.6727622290385545, 0.6802322172051839, 0.6822904437661422, 0.6848425455981513, 0.6917097688553812, 0.6837279804565054, 0.6882636775295079, 0.6917956178635982, 0.6964638570206741, 0.6937111345770268, 0.702957742325499, 0.6905972883840236, 0.7072620790629576, 0.7059730707633904, 0.7004743651877635, 0.6985999386834459, 0.7055892611155075, 0.7115299005787209, 0.7087669989606663, 0.7158316279206726, 0.7110184633710541, 0.7043307261248208, 0.7113947879287017, 0.7049869759455174]\n",
            "\n",
            "Average train loss: 0.18019349797255205\n",
            "Validation loss: 0.2106691235800584\n",
            "Validation Accuracy: 0.9389924810165302\n",
            "Validation F1-Score: 0.7160791816910735\n"
          ]
        },
        {
          "name": "stderr",
          "output_type": "stream",
          "text": [
            "\r",
            "Epoch:  60%|██████    | 60/100 [11:46:05<4:04:08, 366.20s/it]"
          ]
        },
        {
          "name": "stdout",
          "output_type": "stream",
          "text": [
            "[0.0, 0.19232221522970422, 0.25009648784253186, 0.26283526041589356, 0.28138496233951915, 0.3204017216642755, 0.36238789641124564, 0.3710964148973198, 0.4468603392277156, 0.4277652861391165, 0.4661930185955915, 0.5263950398582815, 0.5339153595738384, 0.5394614802870963, 0.546889095725639, 0.5648223896663079, 0.5491479171307642, 0.5654933310411026, 0.5954727418298275, 0.6217919658394631, 0.6187856710959044, 0.6203914626891659, 0.6331974750967437, 0.641559908450495, 0.6412894678737028, 0.6268082397870617, 0.6645934218905032, 0.6545060290390167, 0.6601158250722092, 0.6487068012674083, 0.6459005996309963, 0.6712358859452572, 0.6405333257198327, 0.6785186917937397, 0.6663426071540903, 0.6727622290385545, 0.6802322172051839, 0.6822904437661422, 0.6848425455981513, 0.6917097688553812, 0.6837279804565054, 0.6882636775295079, 0.6917956178635982, 0.6964638570206741, 0.6937111345770268, 0.702957742325499, 0.6905972883840236, 0.7072620790629576, 0.7059730707633904, 0.7004743651877635, 0.6985999386834459, 0.7055892611155075, 0.7115299005787209, 0.7087669989606663, 0.7158316279206726, 0.7110184633710541, 0.7043307261248208, 0.7113947879287017, 0.7049869759455174, 0.7160791816910735]\n",
            "\n",
            "Average train loss: 0.17904979047723568\n",
            "Validation loss: 0.2144942014416059\n",
            "Validation Accuracy: 0.9381988335034991\n",
            "Validation F1-Score: 0.7129957507082153\n"
          ]
        },
        {
          "name": "stderr",
          "output_type": "stream",
          "text": [
            "\r",
            "Epoch:  61%|██████    | 61/100 [11:52:08<3:57:21, 365.17s/it]"
          ]
        },
        {
          "name": "stdout",
          "output_type": "stream",
          "text": [
            "[0.0, 0.19232221522970422, 0.25009648784253186, 0.26283526041589356, 0.28138496233951915, 0.3204017216642755, 0.36238789641124564, 0.3710964148973198, 0.4468603392277156, 0.4277652861391165, 0.4661930185955915, 0.5263950398582815, 0.5339153595738384, 0.5394614802870963, 0.546889095725639, 0.5648223896663079, 0.5491479171307642, 0.5654933310411026, 0.5954727418298275, 0.6217919658394631, 0.6187856710959044, 0.6203914626891659, 0.6331974750967437, 0.641559908450495, 0.6412894678737028, 0.6268082397870617, 0.6645934218905032, 0.6545060290390167, 0.6601158250722092, 0.6487068012674083, 0.6459005996309963, 0.6712358859452572, 0.6405333257198327, 0.6785186917937397, 0.6663426071540903, 0.6727622290385545, 0.6802322172051839, 0.6822904437661422, 0.6848425455981513, 0.6917097688553812, 0.6837279804565054, 0.6882636775295079, 0.6917956178635982, 0.6964638570206741, 0.6937111345770268, 0.702957742325499, 0.6905972883840236, 0.7072620790629576, 0.7059730707633904, 0.7004743651877635, 0.6985999386834459, 0.7055892611155075, 0.7115299005787209, 0.7087669989606663, 0.7158316279206726, 0.7110184633710541, 0.7043307261248208, 0.7113947879287017, 0.7049869759455174, 0.7160791816910735, 0.7129957507082153]\n",
            "\n",
            "Average train loss: 0.17834637778266654\n",
            "Validation loss: 0.21418052519361178\n",
            "Validation Accuracy: 0.9382567036346576\n",
            "Validation F1-Score: 0.7118121790168747\n"
          ]
        },
        {
          "name": "stderr",
          "output_type": "stream",
          "text": [
            "\r",
            "Epoch:  62%|██████▏   | 62/100 [11:58:11<3:50:54, 364.58s/it]"
          ]
        },
        {
          "name": "stdout",
          "output_type": "stream",
          "text": [
            "[0.0, 0.19232221522970422, 0.25009648784253186, 0.26283526041589356, 0.28138496233951915, 0.3204017216642755, 0.36238789641124564, 0.3710964148973198, 0.4468603392277156, 0.4277652861391165, 0.4661930185955915, 0.5263950398582815, 0.5339153595738384, 0.5394614802870963, 0.546889095725639, 0.5648223896663079, 0.5491479171307642, 0.5654933310411026, 0.5954727418298275, 0.6217919658394631, 0.6187856710959044, 0.6203914626891659, 0.6331974750967437, 0.641559908450495, 0.6412894678737028, 0.6268082397870617, 0.6645934218905032, 0.6545060290390167, 0.6601158250722092, 0.6487068012674083, 0.6459005996309963, 0.6712358859452572, 0.6405333257198327, 0.6785186917937397, 0.6663426071540903, 0.6727622290385545, 0.6802322172051839, 0.6822904437661422, 0.6848425455981513, 0.6917097688553812, 0.6837279804565054, 0.6882636775295079, 0.6917956178635982, 0.6964638570206741, 0.6937111345770268, 0.702957742325499, 0.6905972883840236, 0.7072620790629576, 0.7059730707633904, 0.7004743651877635, 0.6985999386834459, 0.7055892611155075, 0.7115299005787209, 0.7087669989606663, 0.7158316279206726, 0.7110184633710541, 0.7043307261248208, 0.7113947879287017, 0.7049869759455174, 0.7160791816910735, 0.7129957507082153, 0.7118121790168747]\n",
            "\n",
            "Average train loss: 0.1770441174705989\n",
            "Validation loss: 0.2063282013932864\n",
            "Validation Accuracy: 0.9403730970027405\n",
            "Validation F1-Score: 0.7230135651763178\n"
          ]
        },
        {
          "name": "stderr",
          "output_type": "stream",
          "text": [
            "\r",
            "Epoch:  63%|██████▎   | 63/100 [12:04:15<3:44:42, 364.38s/it]"
          ]
        },
        {
          "name": "stdout",
          "output_type": "stream",
          "text": [
            "[0.0, 0.19232221522970422, 0.25009648784253186, 0.26283526041589356, 0.28138496233951915, 0.3204017216642755, 0.36238789641124564, 0.3710964148973198, 0.4468603392277156, 0.4277652861391165, 0.4661930185955915, 0.5263950398582815, 0.5339153595738384, 0.5394614802870963, 0.546889095725639, 0.5648223896663079, 0.5491479171307642, 0.5654933310411026, 0.5954727418298275, 0.6217919658394631, 0.6187856710959044, 0.6203914626891659, 0.6331974750967437, 0.641559908450495, 0.6412894678737028, 0.6268082397870617, 0.6645934218905032, 0.6545060290390167, 0.6601158250722092, 0.6487068012674083, 0.6459005996309963, 0.6712358859452572, 0.6405333257198327, 0.6785186917937397, 0.6663426071540903, 0.6727622290385545, 0.6802322172051839, 0.6822904437661422, 0.6848425455981513, 0.6917097688553812, 0.6837279804565054, 0.6882636775295079, 0.6917956178635982, 0.6964638570206741, 0.6937111345770268, 0.702957742325499, 0.6905972883840236, 0.7072620790629576, 0.7059730707633904, 0.7004743651877635, 0.6985999386834459, 0.7055892611155075, 0.7115299005787209, 0.7087669989606663, 0.7158316279206726, 0.7110184633710541, 0.7043307261248208, 0.7113947879287017, 0.7049869759455174, 0.7160791816910735, 0.7129957507082153, 0.7118121790168747, 0.7230135651763178]\n",
            "\n",
            "Average train loss: 0.17638073317252964\n",
            "Validation loss: 0.20595635992785294\n",
            "Validation Accuracy: 0.9406624476585331\n",
            "Validation F1-Score: 0.7236251152553465\n"
          ]
        },
        {
          "name": "stderr",
          "output_type": "stream",
          "text": [
            "\r",
            "Epoch:  64%|██████▍   | 64/100 [12:10:20<3:38:36, 364.36s/it]"
          ]
        },
        {
          "name": "stdout",
          "output_type": "stream",
          "text": [
            "[0.0, 0.19232221522970422, 0.25009648784253186, 0.26283526041589356, 0.28138496233951915, 0.3204017216642755, 0.36238789641124564, 0.3710964148973198, 0.4468603392277156, 0.4277652861391165, 0.4661930185955915, 0.5263950398582815, 0.5339153595738384, 0.5394614802870963, 0.546889095725639, 0.5648223896663079, 0.5491479171307642, 0.5654933310411026, 0.5954727418298275, 0.6217919658394631, 0.6187856710959044, 0.6203914626891659, 0.6331974750967437, 0.641559908450495, 0.6412894678737028, 0.6268082397870617, 0.6645934218905032, 0.6545060290390167, 0.6601158250722092, 0.6487068012674083, 0.6459005996309963, 0.6712358859452572, 0.6405333257198327, 0.6785186917937397, 0.6663426071540903, 0.6727622290385545, 0.6802322172051839, 0.6822904437661422, 0.6848425455981513, 0.6917097688553812, 0.6837279804565054, 0.6882636775295079, 0.6917956178635982, 0.6964638570206741, 0.6937111345770268, 0.702957742325499, 0.6905972883840236, 0.7072620790629576, 0.7059730707633904, 0.7004743651877635, 0.6985999386834459, 0.7055892611155075, 0.7115299005787209, 0.7087669989606663, 0.7158316279206726, 0.7110184633710541, 0.7043307261248208, 0.7113947879287017, 0.7049869759455174, 0.7160791816910735, 0.7129957507082153, 0.7118121790168747, 0.7230135651763178, 0.7236251152553465]\n",
            "\n",
            "Average train loss: 0.17539812490232196\n",
            "Validation loss: 0.21540982191761335\n",
            "Validation Accuracy: 0.9378640134589391\n",
            "Validation F1-Score: 0.7200589318600369\n"
          ]
        },
        {
          "name": "stderr",
          "output_type": "stream",
          "text": [
            "\r",
            "Epoch:  65%|██████▌   | 65/100 [12:16:26<3:32:50, 364.88s/it]"
          ]
        },
        {
          "name": "stdout",
          "output_type": "stream",
          "text": [
            "[0.0, 0.19232221522970422, 0.25009648784253186, 0.26283526041589356, 0.28138496233951915, 0.3204017216642755, 0.36238789641124564, 0.3710964148973198, 0.4468603392277156, 0.4277652861391165, 0.4661930185955915, 0.5263950398582815, 0.5339153595738384, 0.5394614802870963, 0.546889095725639, 0.5648223896663079, 0.5491479171307642, 0.5654933310411026, 0.5954727418298275, 0.6217919658394631, 0.6187856710959044, 0.6203914626891659, 0.6331974750967437, 0.641559908450495, 0.6412894678737028, 0.6268082397870617, 0.6645934218905032, 0.6545060290390167, 0.6601158250722092, 0.6487068012674083, 0.6459005996309963, 0.6712358859452572, 0.6405333257198327, 0.6785186917937397, 0.6663426071540903, 0.6727622290385545, 0.6802322172051839, 0.6822904437661422, 0.6848425455981513, 0.6917097688553812, 0.6837279804565054, 0.6882636775295079, 0.6917956178635982, 0.6964638570206741, 0.6937111345770268, 0.702957742325499, 0.6905972883840236, 0.7072620790629576, 0.7059730707633904, 0.7004743651877635, 0.6985999386834459, 0.7055892611155075, 0.7115299005787209, 0.7087669989606663, 0.7158316279206726, 0.7110184633710541, 0.7043307261248208, 0.7113947879287017, 0.7049869759455174, 0.7160791816910735, 0.7129957507082153, 0.7118121790168747, 0.7230135651763178, 0.7236251152553465, 0.7200589318600369]\n",
            "\n",
            "Average train loss: 0.17358089233434032\n",
            "Validation loss: 0.2105847814679146\n",
            "Validation Accuracy: 0.9401002806701361\n",
            "Validation F1-Score: 0.7230678116671602\n"
          ]
        },
        {
          "name": "stderr",
          "output_type": "stream",
          "text": [
            "\r",
            "Epoch:  66%|██████▌   | 66/100 [12:22:32<3:26:54, 365.14s/it]"
          ]
        },
        {
          "name": "stdout",
          "output_type": "stream",
          "text": [
            "[0.0, 0.19232221522970422, 0.25009648784253186, 0.26283526041589356, 0.28138496233951915, 0.3204017216642755, 0.36238789641124564, 0.3710964148973198, 0.4468603392277156, 0.4277652861391165, 0.4661930185955915, 0.5263950398582815, 0.5339153595738384, 0.5394614802870963, 0.546889095725639, 0.5648223896663079, 0.5491479171307642, 0.5654933310411026, 0.5954727418298275, 0.6217919658394631, 0.6187856710959044, 0.6203914626891659, 0.6331974750967437, 0.641559908450495, 0.6412894678737028, 0.6268082397870617, 0.6645934218905032, 0.6545060290390167, 0.6601158250722092, 0.6487068012674083, 0.6459005996309963, 0.6712358859452572, 0.6405333257198327, 0.6785186917937397, 0.6663426071540903, 0.6727622290385545, 0.6802322172051839, 0.6822904437661422, 0.6848425455981513, 0.6917097688553812, 0.6837279804565054, 0.6882636775295079, 0.6917956178635982, 0.6964638570206741, 0.6937111345770268, 0.702957742325499, 0.6905972883840236, 0.7072620790629576, 0.7059730707633904, 0.7004743651877635, 0.6985999386834459, 0.7055892611155075, 0.7115299005787209, 0.7087669989606663, 0.7158316279206726, 0.7110184633710541, 0.7043307261248208, 0.7113947879287017, 0.7049869759455174, 0.7160791816910735, 0.7129957507082153, 0.7118121790168747, 0.7230135651763178, 0.7236251152553465, 0.7200589318600369, 0.7230678116671602]\n",
            "\n",
            "Average train loss: 0.1733967610996052\n",
            "Validation loss: 0.21467241105933985\n",
            "Validation Accuracy: 0.939079286213268\n",
            "Validation F1-Score: 0.7162582337425032\n"
          ]
        },
        {
          "name": "stderr",
          "output_type": "stream",
          "text": [
            "\r",
            "Epoch:  67%|██████▋   | 67/100 [12:28:38<3:21:06, 365.66s/it]"
          ]
        },
        {
          "name": "stdout",
          "output_type": "stream",
          "text": [
            "[0.0, 0.19232221522970422, 0.25009648784253186, 0.26283526041589356, 0.28138496233951915, 0.3204017216642755, 0.36238789641124564, 0.3710964148973198, 0.4468603392277156, 0.4277652861391165, 0.4661930185955915, 0.5263950398582815, 0.5339153595738384, 0.5394614802870963, 0.546889095725639, 0.5648223896663079, 0.5491479171307642, 0.5654933310411026, 0.5954727418298275, 0.6217919658394631, 0.6187856710959044, 0.6203914626891659, 0.6331974750967437, 0.641559908450495, 0.6412894678737028, 0.6268082397870617, 0.6645934218905032, 0.6545060290390167, 0.6601158250722092, 0.6487068012674083, 0.6459005996309963, 0.6712358859452572, 0.6405333257198327, 0.6785186917937397, 0.6663426071540903, 0.6727622290385545, 0.6802322172051839, 0.6822904437661422, 0.6848425455981513, 0.6917097688553812, 0.6837279804565054, 0.6882636775295079, 0.6917956178635982, 0.6964638570206741, 0.6937111345770268, 0.702957742325499, 0.6905972883840236, 0.7072620790629576, 0.7059730707633904, 0.7004743651877635, 0.6985999386834459, 0.7055892611155075, 0.7115299005787209, 0.7087669989606663, 0.7158316279206726, 0.7110184633710541, 0.7043307261248208, 0.7113947879287017, 0.7049869759455174, 0.7160791816910735, 0.7129957507082153, 0.7118121790168747, 0.7230135651763178, 0.7236251152553465, 0.7200589318600369, 0.7230678116671602, 0.7162582337425032]\n",
            "\n",
            "Average train loss: 0.1726120699249873\n",
            "Validation loss: 0.2073511329293251\n",
            "Validation Accuracy: 0.940199486609265\n",
            "Validation F1-Score: 0.7231421439016823\n"
          ]
        },
        {
          "name": "stderr",
          "output_type": "stream",
          "text": [
            "\r",
            "Epoch:  68%|██████▊   | 68/100 [12:34:46<3:15:15, 366.12s/it]"
          ]
        },
        {
          "name": "stdout",
          "output_type": "stream",
          "text": [
            "[0.0, 0.19232221522970422, 0.25009648784253186, 0.26283526041589356, 0.28138496233951915, 0.3204017216642755, 0.36238789641124564, 0.3710964148973198, 0.4468603392277156, 0.4277652861391165, 0.4661930185955915, 0.5263950398582815, 0.5339153595738384, 0.5394614802870963, 0.546889095725639, 0.5648223896663079, 0.5491479171307642, 0.5654933310411026, 0.5954727418298275, 0.6217919658394631, 0.6187856710959044, 0.6203914626891659, 0.6331974750967437, 0.641559908450495, 0.6412894678737028, 0.6268082397870617, 0.6645934218905032, 0.6545060290390167, 0.6601158250722092, 0.6487068012674083, 0.6459005996309963, 0.6712358859452572, 0.6405333257198327, 0.6785186917937397, 0.6663426071540903, 0.6727622290385545, 0.6802322172051839, 0.6822904437661422, 0.6848425455981513, 0.6917097688553812, 0.6837279804565054, 0.6882636775295079, 0.6917956178635982, 0.6964638570206741, 0.6937111345770268, 0.702957742325499, 0.6905972883840236, 0.7072620790629576, 0.7059730707633904, 0.7004743651877635, 0.6985999386834459, 0.7055892611155075, 0.7115299005787209, 0.7087669989606663, 0.7158316279206726, 0.7110184633710541, 0.7043307261248208, 0.7113947879287017, 0.7049869759455174, 0.7160791816910735, 0.7129957507082153, 0.7118121790168747, 0.7230135651763178, 0.7236251152553465, 0.7200589318600369, 0.7230678116671602, 0.7162582337425032, 0.7231421439016823]\n",
            "\n",
            "Average train loss: 0.17195863287283839\n",
            "Validation loss: 0.21712161287665366\n",
            "Validation Accuracy: 0.9377937425853895\n",
            "Validation F1-Score: 0.7123796059026244\n"
          ]
        },
        {
          "name": "stderr",
          "output_type": "stream",
          "text": [
            "\r",
            "Epoch:  69%|██████▉   | 69/100 [12:40:51<3:09:04, 365.96s/it]"
          ]
        },
        {
          "name": "stdout",
          "output_type": "stream",
          "text": [
            "[0.0, 0.19232221522970422, 0.25009648784253186, 0.26283526041589356, 0.28138496233951915, 0.3204017216642755, 0.36238789641124564, 0.3710964148973198, 0.4468603392277156, 0.4277652861391165, 0.4661930185955915, 0.5263950398582815, 0.5339153595738384, 0.5394614802870963, 0.546889095725639, 0.5648223896663079, 0.5491479171307642, 0.5654933310411026, 0.5954727418298275, 0.6217919658394631, 0.6187856710959044, 0.6203914626891659, 0.6331974750967437, 0.641559908450495, 0.6412894678737028, 0.6268082397870617, 0.6645934218905032, 0.6545060290390167, 0.6601158250722092, 0.6487068012674083, 0.6459005996309963, 0.6712358859452572, 0.6405333257198327, 0.6785186917937397, 0.6663426071540903, 0.6727622290385545, 0.6802322172051839, 0.6822904437661422, 0.6848425455981513, 0.6917097688553812, 0.6837279804565054, 0.6882636775295079, 0.6917956178635982, 0.6964638570206741, 0.6937111345770268, 0.702957742325499, 0.6905972883840236, 0.7072620790629576, 0.7059730707633904, 0.7004743651877635, 0.6985999386834459, 0.7055892611155075, 0.7115299005787209, 0.7087669989606663, 0.7158316279206726, 0.7110184633710541, 0.7043307261248208, 0.7113947879287017, 0.7049869759455174, 0.7160791816910735, 0.7129957507082153, 0.7118121790168747, 0.7230135651763178, 0.7236251152553465, 0.7200589318600369, 0.7230678116671602, 0.7162582337425032, 0.7231421439016823, 0.7123796059026244]\n",
            "\n",
            "Average train loss: 0.17139043412276164\n",
            "Validation loss: 0.20555895272642374\n",
            "Validation Accuracy: 0.9405673753002013\n",
            "Validation F1-Score: 0.7251857651455837\n"
          ]
        },
        {
          "name": "stderr",
          "output_type": "stream",
          "text": [
            "\r",
            "Epoch:  70%|███████   | 70/100 [12:46:53<3:02:21, 364.73s/it]"
          ]
        },
        {
          "name": "stdout",
          "output_type": "stream",
          "text": [
            "[0.0, 0.19232221522970422, 0.25009648784253186, 0.26283526041589356, 0.28138496233951915, 0.3204017216642755, 0.36238789641124564, 0.3710964148973198, 0.4468603392277156, 0.4277652861391165, 0.4661930185955915, 0.5263950398582815, 0.5339153595738384, 0.5394614802870963, 0.546889095725639, 0.5648223896663079, 0.5491479171307642, 0.5654933310411026, 0.5954727418298275, 0.6217919658394631, 0.6187856710959044, 0.6203914626891659, 0.6331974750967437, 0.641559908450495, 0.6412894678737028, 0.6268082397870617, 0.6645934218905032, 0.6545060290390167, 0.6601158250722092, 0.6487068012674083, 0.6459005996309963, 0.6712358859452572, 0.6405333257198327, 0.6785186917937397, 0.6663426071540903, 0.6727622290385545, 0.6802322172051839, 0.6822904437661422, 0.6848425455981513, 0.6917097688553812, 0.6837279804565054, 0.6882636775295079, 0.6917956178635982, 0.6964638570206741, 0.6937111345770268, 0.702957742325499, 0.6905972883840236, 0.7072620790629576, 0.7059730707633904, 0.7004743651877635, 0.6985999386834459, 0.7055892611155075, 0.7115299005787209, 0.7087669989606663, 0.7158316279206726, 0.7110184633710541, 0.7043307261248208, 0.7113947879287017, 0.7049869759455174, 0.7160791816910735, 0.7129957507082153, 0.7118121790168747, 0.7230135651763178, 0.7236251152553465, 0.7200589318600369, 0.7230678116671602, 0.7162582337425032, 0.7231421439016823, 0.7123796059026244, 0.7251857651455837]\n",
            "\n",
            "Average train loss: 0.17039708686282576\n",
            "Validation loss: 0.21017452848454315\n",
            "Validation Accuracy: 0.9396083845552887\n",
            "Validation F1-Score: 0.7244164112237681\n"
          ]
        },
        {
          "name": "stderr",
          "output_type": "stream",
          "text": [
            "\r",
            "Epoch:  71%|███████   | 71/100 [12:52:56<2:56:05, 364.34s/it]"
          ]
        },
        {
          "name": "stdout",
          "output_type": "stream",
          "text": [
            "[0.0, 0.19232221522970422, 0.25009648784253186, 0.26283526041589356, 0.28138496233951915, 0.3204017216642755, 0.36238789641124564, 0.3710964148973198, 0.4468603392277156, 0.4277652861391165, 0.4661930185955915, 0.5263950398582815, 0.5339153595738384, 0.5394614802870963, 0.546889095725639, 0.5648223896663079, 0.5491479171307642, 0.5654933310411026, 0.5954727418298275, 0.6217919658394631, 0.6187856710959044, 0.6203914626891659, 0.6331974750967437, 0.641559908450495, 0.6412894678737028, 0.6268082397870617, 0.6645934218905032, 0.6545060290390167, 0.6601158250722092, 0.6487068012674083, 0.6459005996309963, 0.6712358859452572, 0.6405333257198327, 0.6785186917937397, 0.6663426071540903, 0.6727622290385545, 0.6802322172051839, 0.6822904437661422, 0.6848425455981513, 0.6917097688553812, 0.6837279804565054, 0.6882636775295079, 0.6917956178635982, 0.6964638570206741, 0.6937111345770268, 0.702957742325499, 0.6905972883840236, 0.7072620790629576, 0.7059730707633904, 0.7004743651877635, 0.6985999386834459, 0.7055892611155075, 0.7115299005787209, 0.7087669989606663, 0.7158316279206726, 0.7110184633710541, 0.7043307261248208, 0.7113947879287017, 0.7049869759455174, 0.7160791816910735, 0.7129957507082153, 0.7118121790168747, 0.7230135651763178, 0.7236251152553465, 0.7200589318600369, 0.7230678116671602, 0.7162582337425032, 0.7231421439016823, 0.7123796059026244, 0.7251857651455837, 0.7244164112237681]\n",
            "\n",
            "Average train loss: 0.17023302221032258\n",
            "Validation loss: 0.21989457234740256\n",
            "Validation Accuracy: 0.937520926252785\n",
            "Validation F1-Score: 0.7123247406013933\n"
          ]
        },
        {
          "name": "stderr",
          "output_type": "stream",
          "text": [
            "\r",
            "Epoch:  72%|███████▏  | 72/100 [12:58:58<2:49:36, 363.45s/it]"
          ]
        },
        {
          "name": "stdout",
          "output_type": "stream",
          "text": [
            "[0.0, 0.19232221522970422, 0.25009648784253186, 0.26283526041589356, 0.28138496233951915, 0.3204017216642755, 0.36238789641124564, 0.3710964148973198, 0.4468603392277156, 0.4277652861391165, 0.4661930185955915, 0.5263950398582815, 0.5339153595738384, 0.5394614802870963, 0.546889095725639, 0.5648223896663079, 0.5491479171307642, 0.5654933310411026, 0.5954727418298275, 0.6217919658394631, 0.6187856710959044, 0.6203914626891659, 0.6331974750967437, 0.641559908450495, 0.6412894678737028, 0.6268082397870617, 0.6645934218905032, 0.6545060290390167, 0.6601158250722092, 0.6487068012674083, 0.6459005996309963, 0.6712358859452572, 0.6405333257198327, 0.6785186917937397, 0.6663426071540903, 0.6727622290385545, 0.6802322172051839, 0.6822904437661422, 0.6848425455981513, 0.6917097688553812, 0.6837279804565054, 0.6882636775295079, 0.6917956178635982, 0.6964638570206741, 0.6937111345770268, 0.702957742325499, 0.6905972883840236, 0.7072620790629576, 0.7059730707633904, 0.7004743651877635, 0.6985999386834459, 0.7055892611155075, 0.7115299005787209, 0.7087669989606663, 0.7158316279206726, 0.7110184633710541, 0.7043307261248208, 0.7113947879287017, 0.7049869759455174, 0.7160791816910735, 0.7129957507082153, 0.7118121790168747, 0.7230135651763178, 0.7236251152553465, 0.7200589318600369, 0.7230678116671602, 0.7162582337425032, 0.7231421439016823, 0.7123796059026244, 0.7251857651455837, 0.7244164112237681, 0.7123247406013933]\n",
            "\n",
            "Average train loss: 0.16984653330599894\n",
            "Validation loss: 0.20796018148461978\n",
            "Validation Accuracy: 0.940873260279182\n",
            "Validation F1-Score: 0.7264896545599858\n"
          ]
        },
        {
          "name": "stderr",
          "output_type": "stream",
          "text": [
            "\r",
            "Epoch:  73%|███████▎  | 73/100 [13:05:00<2:43:26, 363.22s/it]"
          ]
        },
        {
          "name": "stdout",
          "output_type": "stream",
          "text": [
            "[0.0, 0.19232221522970422, 0.25009648784253186, 0.26283526041589356, 0.28138496233951915, 0.3204017216642755, 0.36238789641124564, 0.3710964148973198, 0.4468603392277156, 0.4277652861391165, 0.4661930185955915, 0.5263950398582815, 0.5339153595738384, 0.5394614802870963, 0.546889095725639, 0.5648223896663079, 0.5491479171307642, 0.5654933310411026, 0.5954727418298275, 0.6217919658394631, 0.6187856710959044, 0.6203914626891659, 0.6331974750967437, 0.641559908450495, 0.6412894678737028, 0.6268082397870617, 0.6645934218905032, 0.6545060290390167, 0.6601158250722092, 0.6487068012674083, 0.6459005996309963, 0.6712358859452572, 0.6405333257198327, 0.6785186917937397, 0.6663426071540903, 0.6727622290385545, 0.6802322172051839, 0.6822904437661422, 0.6848425455981513, 0.6917097688553812, 0.6837279804565054, 0.6882636775295079, 0.6917956178635982, 0.6964638570206741, 0.6937111345770268, 0.702957742325499, 0.6905972883840236, 0.7072620790629576, 0.7059730707633904, 0.7004743651877635, 0.6985999386834459, 0.7055892611155075, 0.7115299005787209, 0.7087669989606663, 0.7158316279206726, 0.7110184633710541, 0.7043307261248208, 0.7113947879287017, 0.7049869759455174, 0.7160791816910735, 0.7129957507082153, 0.7118121790168747, 0.7230135651763178, 0.7236251152553465, 0.7200589318600369, 0.7230678116671602, 0.7162582337425032, 0.7231421439016823, 0.7123796059026244, 0.7251857651455837, 0.7244164112237681, 0.7123247406013933, 0.7264896545599858]\n",
            "\n",
            "Average train loss: 0.168856087422699\n",
            "Validation loss: 0.20668315902352333\n",
            "Validation Accuracy: 0.9412659504549006\n",
            "Validation F1-Score: 0.7278099515423709\n"
          ]
        },
        {
          "name": "stderr",
          "output_type": "stream",
          "text": [
            "\r",
            "Epoch:  74%|███████▍  | 74/100 [13:11:01<2:37:01, 362.35s/it]"
          ]
        },
        {
          "name": "stdout",
          "output_type": "stream",
          "text": [
            "[0.0, 0.19232221522970422, 0.25009648784253186, 0.26283526041589356, 0.28138496233951915, 0.3204017216642755, 0.36238789641124564, 0.3710964148973198, 0.4468603392277156, 0.4277652861391165, 0.4661930185955915, 0.5263950398582815, 0.5339153595738384, 0.5394614802870963, 0.546889095725639, 0.5648223896663079, 0.5491479171307642, 0.5654933310411026, 0.5954727418298275, 0.6217919658394631, 0.6187856710959044, 0.6203914626891659, 0.6331974750967437, 0.641559908450495, 0.6412894678737028, 0.6268082397870617, 0.6645934218905032, 0.6545060290390167, 0.6601158250722092, 0.6487068012674083, 0.6459005996309963, 0.6712358859452572, 0.6405333257198327, 0.6785186917937397, 0.6663426071540903, 0.6727622290385545, 0.6802322172051839, 0.6822904437661422, 0.6848425455981513, 0.6917097688553812, 0.6837279804565054, 0.6882636775295079, 0.6917956178635982, 0.6964638570206741, 0.6937111345770268, 0.702957742325499, 0.6905972883840236, 0.7072620790629576, 0.7059730707633904, 0.7004743651877635, 0.6985999386834459, 0.7055892611155075, 0.7115299005787209, 0.7087669989606663, 0.7158316279206726, 0.7110184633710541, 0.7043307261248208, 0.7113947879287017, 0.7049869759455174, 0.7160791816910735, 0.7129957507082153, 0.7118121790168747, 0.7230135651763178, 0.7236251152553465, 0.7200589318600369, 0.7230678116671602, 0.7162582337425032, 0.7231421439016823, 0.7123796059026244, 0.7251857651455837, 0.7244164112237681, 0.7123247406013933, 0.7264896545599858, 0.7278099515423709]\n",
            "\n",
            "Average train loss: 0.16746877982678068\n",
            "Validation loss: 0.20372810559968155\n",
            "Validation Accuracy: 0.9414726294947524\n",
            "Validation F1-Score: 0.7299955562138942\n"
          ]
        },
        {
          "name": "stderr",
          "output_type": "stream",
          "text": [
            "\r",
            "Epoch:  75%|███████▌  | 75/100 [13:17:02<2:30:50, 362.02s/it]"
          ]
        },
        {
          "name": "stdout",
          "output_type": "stream",
          "text": [
            "[0.0, 0.19232221522970422, 0.25009648784253186, 0.26283526041589356, 0.28138496233951915, 0.3204017216642755, 0.36238789641124564, 0.3710964148973198, 0.4468603392277156, 0.4277652861391165, 0.4661930185955915, 0.5263950398582815, 0.5339153595738384, 0.5394614802870963, 0.546889095725639, 0.5648223896663079, 0.5491479171307642, 0.5654933310411026, 0.5954727418298275, 0.6217919658394631, 0.6187856710959044, 0.6203914626891659, 0.6331974750967437, 0.641559908450495, 0.6412894678737028, 0.6268082397870617, 0.6645934218905032, 0.6545060290390167, 0.6601158250722092, 0.6487068012674083, 0.6459005996309963, 0.6712358859452572, 0.6405333257198327, 0.6785186917937397, 0.6663426071540903, 0.6727622290385545, 0.6802322172051839, 0.6822904437661422, 0.6848425455981513, 0.6917097688553812, 0.6837279804565054, 0.6882636775295079, 0.6917956178635982, 0.6964638570206741, 0.6937111345770268, 0.702957742325499, 0.6905972883840236, 0.7072620790629576, 0.7059730707633904, 0.7004743651877635, 0.6985999386834459, 0.7055892611155075, 0.7115299005787209, 0.7087669989606663, 0.7158316279206726, 0.7110184633710541, 0.7043307261248208, 0.7113947879287017, 0.7049869759455174, 0.7160791816910735, 0.7129957507082153, 0.7118121790168747, 0.7230135651763178, 0.7236251152553465, 0.7200589318600369, 0.7230678116671602, 0.7162582337425032, 0.7231421439016823, 0.7123796059026244, 0.7251857651455837, 0.7244164112237681, 0.7123247406013933, 0.7264896545599858, 0.7278099515423709, 0.7299955562138942]\n",
            "\n",
            "Average train loss: 0.1674949470488005\n",
            "Validation loss: 0.20927300063272317\n",
            "Validation Accuracy: 0.9402573567404235\n",
            "Validation F1-Score: 0.7237286386222556\n"
          ]
        },
        {
          "name": "stderr",
          "output_type": "stream",
          "text": [
            "\r",
            "Epoch:  76%|███████▌  | 76/100 [13:23:03<2:24:42, 361.78s/it]"
          ]
        },
        {
          "name": "stdout",
          "output_type": "stream",
          "text": [
            "[0.0, 0.19232221522970422, 0.25009648784253186, 0.26283526041589356, 0.28138496233951915, 0.3204017216642755, 0.36238789641124564, 0.3710964148973198, 0.4468603392277156, 0.4277652861391165, 0.4661930185955915, 0.5263950398582815, 0.5339153595738384, 0.5394614802870963, 0.546889095725639, 0.5648223896663079, 0.5491479171307642, 0.5654933310411026, 0.5954727418298275, 0.6217919658394631, 0.6187856710959044, 0.6203914626891659, 0.6331974750967437, 0.641559908450495, 0.6412894678737028, 0.6268082397870617, 0.6645934218905032, 0.6545060290390167, 0.6601158250722092, 0.6487068012674083, 0.6459005996309963, 0.6712358859452572, 0.6405333257198327, 0.6785186917937397, 0.6663426071540903, 0.6727622290385545, 0.6802322172051839, 0.6822904437661422, 0.6848425455981513, 0.6917097688553812, 0.6837279804565054, 0.6882636775295079, 0.6917956178635982, 0.6964638570206741, 0.6937111345770268, 0.702957742325499, 0.6905972883840236, 0.7072620790629576, 0.7059730707633904, 0.7004743651877635, 0.6985999386834459, 0.7055892611155075, 0.7115299005787209, 0.7087669989606663, 0.7158316279206726, 0.7110184633710541, 0.7043307261248208, 0.7113947879287017, 0.7049869759455174, 0.7160791816910735, 0.7129957507082153, 0.7118121790168747, 0.7230135651763178, 0.7236251152553465, 0.7200589318600369, 0.7230678116671602, 0.7162582337425032, 0.7231421439016823, 0.7123796059026244, 0.7251857651455837, 0.7244164112237681, 0.7123247406013933, 0.7264896545599858, 0.7278099515423709, 0.7299955562138942, 0.7237286386222556]\n",
            "\n",
            "Average train loss: 0.16700797506900902\n",
            "Validation loss: 0.20341300529738268\n",
            "Validation Accuracy: 0.9416999764385895\n",
            "Validation F1-Score: 0.7291905728660958\n"
          ]
        },
        {
          "name": "stderr",
          "output_type": "stream",
          "text": [
            "\r",
            "Epoch:  77%|███████▋  | 77/100 [13:29:03<2:18:26, 361.17s/it]"
          ]
        },
        {
          "name": "stdout",
          "output_type": "stream",
          "text": [
            "[0.0, 0.19232221522970422, 0.25009648784253186, 0.26283526041589356, 0.28138496233951915, 0.3204017216642755, 0.36238789641124564, 0.3710964148973198, 0.4468603392277156, 0.4277652861391165, 0.4661930185955915, 0.5263950398582815, 0.5339153595738384, 0.5394614802870963, 0.546889095725639, 0.5648223896663079, 0.5491479171307642, 0.5654933310411026, 0.5954727418298275, 0.6217919658394631, 0.6187856710959044, 0.6203914626891659, 0.6331974750967437, 0.641559908450495, 0.6412894678737028, 0.6268082397870617, 0.6645934218905032, 0.6545060290390167, 0.6601158250722092, 0.6487068012674083, 0.6459005996309963, 0.6712358859452572, 0.6405333257198327, 0.6785186917937397, 0.6663426071540903, 0.6727622290385545, 0.6802322172051839, 0.6822904437661422, 0.6848425455981513, 0.6917097688553812, 0.6837279804565054, 0.6882636775295079, 0.6917956178635982, 0.6964638570206741, 0.6937111345770268, 0.702957742325499, 0.6905972883840236, 0.7072620790629576, 0.7059730707633904, 0.7004743651877635, 0.6985999386834459, 0.7055892611155075, 0.7115299005787209, 0.7087669989606663, 0.7158316279206726, 0.7110184633710541, 0.7043307261248208, 0.7113947879287017, 0.7049869759455174, 0.7160791816910735, 0.7129957507082153, 0.7118121790168747, 0.7230135651763178, 0.7236251152553465, 0.7200589318600369, 0.7230678116671602, 0.7162582337425032, 0.7231421439016823, 0.7123796059026244, 0.7251857651455837, 0.7244164112237681, 0.7123247406013933, 0.7264896545599858, 0.7278099515423709, 0.7299955562138942, 0.7237286386222556, 0.7291905728660958]\n",
            "\n",
            "Average train loss: 0.16599348330057792\n",
            "Validation loss: 0.20925055551032226\n",
            "Validation Accuracy: 0.9403441619371613\n",
            "Validation F1-Score: 0.7231142393714378\n"
          ]
        },
        {
          "name": "stderr",
          "output_type": "stream",
          "text": [
            "\r",
            "Epoch:  78%|███████▊  | 78/100 [13:35:04<2:12:25, 361.14s/it]"
          ]
        },
        {
          "name": "stdout",
          "output_type": "stream",
          "text": [
            "[0.0, 0.19232221522970422, 0.25009648784253186, 0.26283526041589356, 0.28138496233951915, 0.3204017216642755, 0.36238789641124564, 0.3710964148973198, 0.4468603392277156, 0.4277652861391165, 0.4661930185955915, 0.5263950398582815, 0.5339153595738384, 0.5394614802870963, 0.546889095725639, 0.5648223896663079, 0.5491479171307642, 0.5654933310411026, 0.5954727418298275, 0.6217919658394631, 0.6187856710959044, 0.6203914626891659, 0.6331974750967437, 0.641559908450495, 0.6412894678737028, 0.6268082397870617, 0.6645934218905032, 0.6545060290390167, 0.6601158250722092, 0.6487068012674083, 0.6459005996309963, 0.6712358859452572, 0.6405333257198327, 0.6785186917937397, 0.6663426071540903, 0.6727622290385545, 0.6802322172051839, 0.6822904437661422, 0.6848425455981513, 0.6917097688553812, 0.6837279804565054, 0.6882636775295079, 0.6917956178635982, 0.6964638570206741, 0.6937111345770268, 0.702957742325499, 0.6905972883840236, 0.7072620790629576, 0.7059730707633904, 0.7004743651877635, 0.6985999386834459, 0.7055892611155075, 0.7115299005787209, 0.7087669989606663, 0.7158316279206726, 0.7110184633710541, 0.7043307261248208, 0.7113947879287017, 0.7049869759455174, 0.7160791816910735, 0.7129957507082153, 0.7118121790168747, 0.7230135651763178, 0.7236251152553465, 0.7200589318600369, 0.7230678116671602, 0.7162582337425032, 0.7231421439016823, 0.7123796059026244, 0.7251857651455837, 0.7244164112237681, 0.7123247406013933, 0.7264896545599858, 0.7278099515423709, 0.7299955562138942, 0.7237286386222556, 0.7291905728660958, 0.7231142393714378]\n",
            "\n",
            "Average train loss: 0.16564058505613868\n",
            "Validation loss: 0.2030029713610808\n",
            "Validation Accuracy: 0.9421712046494517\n",
            "Validation F1-Score: 0.7321513282732448\n"
          ]
        },
        {
          "name": "stderr",
          "output_type": "stream",
          "text": [
            "\r",
            "Epoch:  79%|███████▉  | 79/100 [13:41:07<2:06:34, 361.62s/it]"
          ]
        },
        {
          "name": "stdout",
          "output_type": "stream",
          "text": [
            "[0.0, 0.19232221522970422, 0.25009648784253186, 0.26283526041589356, 0.28138496233951915, 0.3204017216642755, 0.36238789641124564, 0.3710964148973198, 0.4468603392277156, 0.4277652861391165, 0.4661930185955915, 0.5263950398582815, 0.5339153595738384, 0.5394614802870963, 0.546889095725639, 0.5648223896663079, 0.5491479171307642, 0.5654933310411026, 0.5954727418298275, 0.6217919658394631, 0.6187856710959044, 0.6203914626891659, 0.6331974750967437, 0.641559908450495, 0.6412894678737028, 0.6268082397870617, 0.6645934218905032, 0.6545060290390167, 0.6601158250722092, 0.6487068012674083, 0.6459005996309963, 0.6712358859452572, 0.6405333257198327, 0.6785186917937397, 0.6663426071540903, 0.6727622290385545, 0.6802322172051839, 0.6822904437661422, 0.6848425455981513, 0.6917097688553812, 0.6837279804565054, 0.6882636775295079, 0.6917956178635982, 0.6964638570206741, 0.6937111345770268, 0.702957742325499, 0.6905972883840236, 0.7072620790629576, 0.7059730707633904, 0.7004743651877635, 0.6985999386834459, 0.7055892611155075, 0.7115299005787209, 0.7087669989606663, 0.7158316279206726, 0.7110184633710541, 0.7043307261248208, 0.7113947879287017, 0.7049869759455174, 0.7160791816910735, 0.7129957507082153, 0.7118121790168747, 0.7230135651763178, 0.7236251152553465, 0.7200589318600369, 0.7230678116671602, 0.7162582337425032, 0.7231421439016823, 0.7123796059026244, 0.7251857651455837, 0.7244164112237681, 0.7123247406013933, 0.7264896545599858, 0.7278099515423709, 0.7299955562138942, 0.7237286386222556, 0.7291905728660958, 0.7231142393714378, 0.7321513282732448]\n",
            "\n",
            "Average train loss: 0.16493009258872574\n",
            "Validation loss: 0.21607465654611588\n",
            "Validation Accuracy: 0.9390007481781243\n",
            "Validation F1-Score: 0.7179517259582955\n"
          ]
        },
        {
          "name": "stderr",
          "output_type": "stream",
          "text": [
            "\r",
            "Epoch:  80%|████████  | 80/100 [13:47:08<2:00:29, 361.45s/it]"
          ]
        },
        {
          "name": "stdout",
          "output_type": "stream",
          "text": [
            "[0.0, 0.19232221522970422, 0.25009648784253186, 0.26283526041589356, 0.28138496233951915, 0.3204017216642755, 0.36238789641124564, 0.3710964148973198, 0.4468603392277156, 0.4277652861391165, 0.4661930185955915, 0.5263950398582815, 0.5339153595738384, 0.5394614802870963, 0.546889095725639, 0.5648223896663079, 0.5491479171307642, 0.5654933310411026, 0.5954727418298275, 0.6217919658394631, 0.6187856710959044, 0.6203914626891659, 0.6331974750967437, 0.641559908450495, 0.6412894678737028, 0.6268082397870617, 0.6645934218905032, 0.6545060290390167, 0.6601158250722092, 0.6487068012674083, 0.6459005996309963, 0.6712358859452572, 0.6405333257198327, 0.6785186917937397, 0.6663426071540903, 0.6727622290385545, 0.6802322172051839, 0.6822904437661422, 0.6848425455981513, 0.6917097688553812, 0.6837279804565054, 0.6882636775295079, 0.6917956178635982, 0.6964638570206741, 0.6937111345770268, 0.702957742325499, 0.6905972883840236, 0.7072620790629576, 0.7059730707633904, 0.7004743651877635, 0.6985999386834459, 0.7055892611155075, 0.7115299005787209, 0.7087669989606663, 0.7158316279206726, 0.7110184633710541, 0.7043307261248208, 0.7113947879287017, 0.7049869759455174, 0.7160791816910735, 0.7129957507082153, 0.7118121790168747, 0.7230135651763178, 0.7236251152553465, 0.7200589318600369, 0.7230678116671602, 0.7162582337425032, 0.7231421439016823, 0.7123796059026244, 0.7251857651455837, 0.7244164112237681, 0.7123247406013933, 0.7264896545599858, 0.7278099515423709, 0.7299955562138942, 0.7237286386222556, 0.7291905728660958, 0.7231142393714378, 0.7321513282732448, 0.7179517259582955]\n",
            "\n",
            "Average train loss: 0.16416686857810509\n",
            "Validation loss: 0.20466608310739198\n",
            "Validation Accuracy: 0.9419686591903969\n",
            "Validation F1-Score: 0.7314926915694671\n"
          ]
        },
        {
          "name": "stderr",
          "output_type": "stream",
          "text": [
            "\r",
            "Epoch:  81%|████████  | 81/100 [13:53:10<1:54:30, 361.61s/it]"
          ]
        },
        {
          "name": "stdout",
          "output_type": "stream",
          "text": [
            "[0.0, 0.19232221522970422, 0.25009648784253186, 0.26283526041589356, 0.28138496233951915, 0.3204017216642755, 0.36238789641124564, 0.3710964148973198, 0.4468603392277156, 0.4277652861391165, 0.4661930185955915, 0.5263950398582815, 0.5339153595738384, 0.5394614802870963, 0.546889095725639, 0.5648223896663079, 0.5491479171307642, 0.5654933310411026, 0.5954727418298275, 0.6217919658394631, 0.6187856710959044, 0.6203914626891659, 0.6331974750967437, 0.641559908450495, 0.6412894678737028, 0.6268082397870617, 0.6645934218905032, 0.6545060290390167, 0.6601158250722092, 0.6487068012674083, 0.6459005996309963, 0.6712358859452572, 0.6405333257198327, 0.6785186917937397, 0.6663426071540903, 0.6727622290385545, 0.6802322172051839, 0.6822904437661422, 0.6848425455981513, 0.6917097688553812, 0.6837279804565054, 0.6882636775295079, 0.6917956178635982, 0.6964638570206741, 0.6937111345770268, 0.702957742325499, 0.6905972883840236, 0.7072620790629576, 0.7059730707633904, 0.7004743651877635, 0.6985999386834459, 0.7055892611155075, 0.7115299005787209, 0.7087669989606663, 0.7158316279206726, 0.7110184633710541, 0.7043307261248208, 0.7113947879287017, 0.7049869759455174, 0.7160791816910735, 0.7129957507082153, 0.7118121790168747, 0.7230135651763178, 0.7236251152553465, 0.7200589318600369, 0.7230678116671602, 0.7162582337425032, 0.7231421439016823, 0.7123796059026244, 0.7251857651455837, 0.7244164112237681, 0.7123247406013933, 0.7264896545599858, 0.7278099515423709, 0.7299955562138942, 0.7237286386222556, 0.7291905728660958, 0.7231142393714378, 0.7321513282732448, 0.7179517259582955, 0.7314926915694671]\n",
            "\n",
            "Average train loss: 0.16384791124540632\n",
            "Validation loss: 0.2055353553344806\n",
            "Validation Accuracy: 0.9415594346914902\n",
            "Validation F1-Score: 0.7295090408862864\n"
          ]
        },
        {
          "name": "stderr",
          "output_type": "stream",
          "text": [
            "\r",
            "Epoch:  82%|████████▏ | 82/100 [13:59:10<1:48:19, 361.06s/it]"
          ]
        },
        {
          "name": "stdout",
          "output_type": "stream",
          "text": [
            "[0.0, 0.19232221522970422, 0.25009648784253186, 0.26283526041589356, 0.28138496233951915, 0.3204017216642755, 0.36238789641124564, 0.3710964148973198, 0.4468603392277156, 0.4277652861391165, 0.4661930185955915, 0.5263950398582815, 0.5339153595738384, 0.5394614802870963, 0.546889095725639, 0.5648223896663079, 0.5491479171307642, 0.5654933310411026, 0.5954727418298275, 0.6217919658394631, 0.6187856710959044, 0.6203914626891659, 0.6331974750967437, 0.641559908450495, 0.6412894678737028, 0.6268082397870617, 0.6645934218905032, 0.6545060290390167, 0.6601158250722092, 0.6487068012674083, 0.6459005996309963, 0.6712358859452572, 0.6405333257198327, 0.6785186917937397, 0.6663426071540903, 0.6727622290385545, 0.6802322172051839, 0.6822904437661422, 0.6848425455981513, 0.6917097688553812, 0.6837279804565054, 0.6882636775295079, 0.6917956178635982, 0.6964638570206741, 0.6937111345770268, 0.702957742325499, 0.6905972883840236, 0.7072620790629576, 0.7059730707633904, 0.7004743651877635, 0.6985999386834459, 0.7055892611155075, 0.7115299005787209, 0.7087669989606663, 0.7158316279206726, 0.7110184633710541, 0.7043307261248208, 0.7113947879287017, 0.7049869759455174, 0.7160791816910735, 0.7129957507082153, 0.7118121790168747, 0.7230135651763178, 0.7236251152553465, 0.7200589318600369, 0.7230678116671602, 0.7162582337425032, 0.7231421439016823, 0.7123796059026244, 0.7251857651455837, 0.7244164112237681, 0.7123247406013933, 0.7264896545599858, 0.7278099515423709, 0.7299955562138942, 0.7237286386222556, 0.7291905728660958, 0.7231142393714378, 0.7321513282732448, 0.7179517259582955, 0.7314926915694671, 0.7295090408862864]\n",
            "\n",
            "Average train loss: 0.16431232487737785\n",
            "Validation loss: 0.20131186507642268\n",
            "Validation Accuracy: 0.9427995089306013\n",
            "Validation F1-Score: 0.7362568566658716\n"
          ]
        },
        {
          "name": "stderr",
          "output_type": "stream",
          "text": [
            "\r",
            "Epoch:  83%|████████▎ | 83/100 [14:05:10<1:42:15, 360.91s/it]"
          ]
        },
        {
          "name": "stdout",
          "output_type": "stream",
          "text": [
            "[0.0, 0.19232221522970422, 0.25009648784253186, 0.26283526041589356, 0.28138496233951915, 0.3204017216642755, 0.36238789641124564, 0.3710964148973198, 0.4468603392277156, 0.4277652861391165, 0.4661930185955915, 0.5263950398582815, 0.5339153595738384, 0.5394614802870963, 0.546889095725639, 0.5648223896663079, 0.5491479171307642, 0.5654933310411026, 0.5954727418298275, 0.6217919658394631, 0.6187856710959044, 0.6203914626891659, 0.6331974750967437, 0.641559908450495, 0.6412894678737028, 0.6268082397870617, 0.6645934218905032, 0.6545060290390167, 0.6601158250722092, 0.6487068012674083, 0.6459005996309963, 0.6712358859452572, 0.6405333257198327, 0.6785186917937397, 0.6663426071540903, 0.6727622290385545, 0.6802322172051839, 0.6822904437661422, 0.6848425455981513, 0.6917097688553812, 0.6837279804565054, 0.6882636775295079, 0.6917956178635982, 0.6964638570206741, 0.6937111345770268, 0.702957742325499, 0.6905972883840236, 0.7072620790629576, 0.7059730707633904, 0.7004743651877635, 0.6985999386834459, 0.7055892611155075, 0.7115299005787209, 0.7087669989606663, 0.7158316279206726, 0.7110184633710541, 0.7043307261248208, 0.7113947879287017, 0.7049869759455174, 0.7160791816910735, 0.7129957507082153, 0.7118121790168747, 0.7230135651763178, 0.7236251152553465, 0.7200589318600369, 0.7230678116671602, 0.7162582337425032, 0.7231421439016823, 0.7123796059026244, 0.7251857651455837, 0.7244164112237681, 0.7123247406013933, 0.7264896545599858, 0.7278099515423709, 0.7299955562138942, 0.7237286386222556, 0.7291905728660958, 0.7231142393714378, 0.7321513282732448, 0.7179517259582955, 0.7314926915694671, 0.7295090408862864, 0.7362568566658716]\n",
            "\n",
            "Average train loss: 0.16296382190611483\n",
            "Validation loss: 0.20056425561507543\n",
            "Validation Accuracy: 0.9425762955675613\n",
            "Validation F1-Score: 0.7349591556854093\n"
          ]
        },
        {
          "name": "stderr",
          "output_type": "stream",
          "text": [
            "\r",
            "Epoch:  84%|████████▍ | 84/100 [14:11:11<1:36:15, 360.98s/it]"
          ]
        },
        {
          "name": "stdout",
          "output_type": "stream",
          "text": [
            "[0.0, 0.19232221522970422, 0.25009648784253186, 0.26283526041589356, 0.28138496233951915, 0.3204017216642755, 0.36238789641124564, 0.3710964148973198, 0.4468603392277156, 0.4277652861391165, 0.4661930185955915, 0.5263950398582815, 0.5339153595738384, 0.5394614802870963, 0.546889095725639, 0.5648223896663079, 0.5491479171307642, 0.5654933310411026, 0.5954727418298275, 0.6217919658394631, 0.6187856710959044, 0.6203914626891659, 0.6331974750967437, 0.641559908450495, 0.6412894678737028, 0.6268082397870617, 0.6645934218905032, 0.6545060290390167, 0.6601158250722092, 0.6487068012674083, 0.6459005996309963, 0.6712358859452572, 0.6405333257198327, 0.6785186917937397, 0.6663426071540903, 0.6727622290385545, 0.6802322172051839, 0.6822904437661422, 0.6848425455981513, 0.6917097688553812, 0.6837279804565054, 0.6882636775295079, 0.6917956178635982, 0.6964638570206741, 0.6937111345770268, 0.702957742325499, 0.6905972883840236, 0.7072620790629576, 0.7059730707633904, 0.7004743651877635, 0.6985999386834459, 0.7055892611155075, 0.7115299005787209, 0.7087669989606663, 0.7158316279206726, 0.7110184633710541, 0.7043307261248208, 0.7113947879287017, 0.7049869759455174, 0.7160791816910735, 0.7129957507082153, 0.7118121790168747, 0.7230135651763178, 0.7236251152553465, 0.7200589318600369, 0.7230678116671602, 0.7162582337425032, 0.7231421439016823, 0.7123796059026244, 0.7251857651455837, 0.7244164112237681, 0.7123247406013933, 0.7264896545599858, 0.7278099515423709, 0.7299955562138942, 0.7237286386222556, 0.7291905728660958, 0.7231142393714378, 0.7321513282732448, 0.7179517259582955, 0.7314926915694671, 0.7295090408862864, 0.7362568566658716, 0.7349591556854093]\n",
            "\n",
            "Average train loss: 0.16263083873737644\n",
            "Validation loss: 0.20402098407347996\n",
            "Validation Accuracy: 0.942092666614308\n",
            "Validation F1-Score: 0.7325157735714921\n"
          ]
        },
        {
          "name": "stderr",
          "output_type": "stream",
          "text": [
            "\r",
            "Epoch:  85%|████████▌ | 85/100 [14:17:13<1:30:15, 361.04s/it]"
          ]
        },
        {
          "name": "stdout",
          "output_type": "stream",
          "text": [
            "[0.0, 0.19232221522970422, 0.25009648784253186, 0.26283526041589356, 0.28138496233951915, 0.3204017216642755, 0.36238789641124564, 0.3710964148973198, 0.4468603392277156, 0.4277652861391165, 0.4661930185955915, 0.5263950398582815, 0.5339153595738384, 0.5394614802870963, 0.546889095725639, 0.5648223896663079, 0.5491479171307642, 0.5654933310411026, 0.5954727418298275, 0.6217919658394631, 0.6187856710959044, 0.6203914626891659, 0.6331974750967437, 0.641559908450495, 0.6412894678737028, 0.6268082397870617, 0.6645934218905032, 0.6545060290390167, 0.6601158250722092, 0.6487068012674083, 0.6459005996309963, 0.6712358859452572, 0.6405333257198327, 0.6785186917937397, 0.6663426071540903, 0.6727622290385545, 0.6802322172051839, 0.6822904437661422, 0.6848425455981513, 0.6917097688553812, 0.6837279804565054, 0.6882636775295079, 0.6917956178635982, 0.6964638570206741, 0.6937111345770268, 0.702957742325499, 0.6905972883840236, 0.7072620790629576, 0.7059730707633904, 0.7004743651877635, 0.6985999386834459, 0.7055892611155075, 0.7115299005787209, 0.7087669989606663, 0.7158316279206726, 0.7110184633710541, 0.7043307261248208, 0.7113947879287017, 0.7049869759455174, 0.7160791816910735, 0.7129957507082153, 0.7118121790168747, 0.7230135651763178, 0.7236251152553465, 0.7200589318600369, 0.7230678116671602, 0.7162582337425032, 0.7231421439016823, 0.7123796059026244, 0.7251857651455837, 0.7244164112237681, 0.7123247406013933, 0.7264896545599858, 0.7278099515423709, 0.7299955562138942, 0.7237286386222556, 0.7291905728660958, 0.7231142393714378, 0.7321513282732448, 0.7179517259582955, 0.7314926915694671, 0.7295090408862864, 0.7362568566658716, 0.7349591556854093, 0.7325157735714921]\n",
            "\n",
            "Average train loss: 0.1620052011188017\n",
            "Validation loss: 0.20482901977996032\n",
            "Validation Accuracy: 0.9413858242980147\n",
            "Validation F1-Score: 0.728815556865056\n"
          ]
        },
        {
          "name": "stderr",
          "output_type": "stream",
          "text": [
            "\r",
            "Epoch:  86%|████████▌ | 86/100 [14:23:13<1:24:13, 360.95s/it]"
          ]
        },
        {
          "name": "stdout",
          "output_type": "stream",
          "text": [
            "[0.0, 0.19232221522970422, 0.25009648784253186, 0.26283526041589356, 0.28138496233951915, 0.3204017216642755, 0.36238789641124564, 0.3710964148973198, 0.4468603392277156, 0.4277652861391165, 0.4661930185955915, 0.5263950398582815, 0.5339153595738384, 0.5394614802870963, 0.546889095725639, 0.5648223896663079, 0.5491479171307642, 0.5654933310411026, 0.5954727418298275, 0.6217919658394631, 0.6187856710959044, 0.6203914626891659, 0.6331974750967437, 0.641559908450495, 0.6412894678737028, 0.6268082397870617, 0.6645934218905032, 0.6545060290390167, 0.6601158250722092, 0.6487068012674083, 0.6459005996309963, 0.6712358859452572, 0.6405333257198327, 0.6785186917937397, 0.6663426071540903, 0.6727622290385545, 0.6802322172051839, 0.6822904437661422, 0.6848425455981513, 0.6917097688553812, 0.6837279804565054, 0.6882636775295079, 0.6917956178635982, 0.6964638570206741, 0.6937111345770268, 0.702957742325499, 0.6905972883840236, 0.7072620790629576, 0.7059730707633904, 0.7004743651877635, 0.6985999386834459, 0.7055892611155075, 0.7115299005787209, 0.7087669989606663, 0.7158316279206726, 0.7110184633710541, 0.7043307261248208, 0.7113947879287017, 0.7049869759455174, 0.7160791816910735, 0.7129957507082153, 0.7118121790168747, 0.7230135651763178, 0.7236251152553465, 0.7200589318600369, 0.7230678116671602, 0.7162582337425032, 0.7231421439016823, 0.7123796059026244, 0.7251857651455837, 0.7244164112237681, 0.7123247406013933, 0.7264896545599858, 0.7278099515423709, 0.7299955562138942, 0.7237286386222556, 0.7291905728660958, 0.7231142393714378, 0.7321513282732448, 0.7179517259582955, 0.7314926915694671, 0.7295090408862864, 0.7362568566658716, 0.7349591556854093, 0.7325157735714921, 0.728815556865056]\n",
            "\n",
            "Average train loss: 0.16125460424840302\n",
            "Validation loss: 0.2025693457076947\n",
            "Validation Accuracy: 0.9419025218976442\n",
            "Validation F1-Score: 0.7311083496064856\n"
          ]
        },
        {
          "name": "stderr",
          "output_type": "stream",
          "text": [
            "\r",
            "Epoch:  87%|████████▋ | 87/100 [14:29:14<1:18:11, 360.88s/it]"
          ]
        },
        {
          "name": "stdout",
          "output_type": "stream",
          "text": [
            "[0.0, 0.19232221522970422, 0.25009648784253186, 0.26283526041589356, 0.28138496233951915, 0.3204017216642755, 0.36238789641124564, 0.3710964148973198, 0.4468603392277156, 0.4277652861391165, 0.4661930185955915, 0.5263950398582815, 0.5339153595738384, 0.5394614802870963, 0.546889095725639, 0.5648223896663079, 0.5491479171307642, 0.5654933310411026, 0.5954727418298275, 0.6217919658394631, 0.6187856710959044, 0.6203914626891659, 0.6331974750967437, 0.641559908450495, 0.6412894678737028, 0.6268082397870617, 0.6645934218905032, 0.6545060290390167, 0.6601158250722092, 0.6487068012674083, 0.6459005996309963, 0.6712358859452572, 0.6405333257198327, 0.6785186917937397, 0.6663426071540903, 0.6727622290385545, 0.6802322172051839, 0.6822904437661422, 0.6848425455981513, 0.6917097688553812, 0.6837279804565054, 0.6882636775295079, 0.6917956178635982, 0.6964638570206741, 0.6937111345770268, 0.702957742325499, 0.6905972883840236, 0.7072620790629576, 0.7059730707633904, 0.7004743651877635, 0.6985999386834459, 0.7055892611155075, 0.7115299005787209, 0.7087669989606663, 0.7158316279206726, 0.7110184633710541, 0.7043307261248208, 0.7113947879287017, 0.7049869759455174, 0.7160791816910735, 0.7129957507082153, 0.7118121790168747, 0.7230135651763178, 0.7236251152553465, 0.7200589318600369, 0.7230678116671602, 0.7162582337425032, 0.7231421439016823, 0.7123796059026244, 0.7251857651455837, 0.7244164112237681, 0.7123247406013933, 0.7264896545599858, 0.7278099515423709, 0.7299955562138942, 0.7237286386222556, 0.7291905728660958, 0.7231142393714378, 0.7321513282732448, 0.7179517259582955, 0.7314926915694671, 0.7295090408862864, 0.7362568566658716, 0.7349591556854093, 0.7325157735714921, 0.728815556865056, 0.7311083496064856]\n",
            "\n",
            "Average train loss: 0.16095633809147922\n",
            "Validation loss: 0.2089074367036422\n",
            "Validation Accuracy: 0.9411295422885984\n",
            "Validation F1-Score: 0.7280328568694705\n"
          ]
        },
        {
          "name": "stderr",
          "output_type": "stream",
          "text": [
            "\r",
            "Epoch:  88%|████████▊ | 88/100 [14:35:16<1:12:13, 361.14s/it]"
          ]
        },
        {
          "name": "stdout",
          "output_type": "stream",
          "text": [
            "[0.0, 0.19232221522970422, 0.25009648784253186, 0.26283526041589356, 0.28138496233951915, 0.3204017216642755, 0.36238789641124564, 0.3710964148973198, 0.4468603392277156, 0.4277652861391165, 0.4661930185955915, 0.5263950398582815, 0.5339153595738384, 0.5394614802870963, 0.546889095725639, 0.5648223896663079, 0.5491479171307642, 0.5654933310411026, 0.5954727418298275, 0.6217919658394631, 0.6187856710959044, 0.6203914626891659, 0.6331974750967437, 0.641559908450495, 0.6412894678737028, 0.6268082397870617, 0.6645934218905032, 0.6545060290390167, 0.6601158250722092, 0.6487068012674083, 0.6459005996309963, 0.6712358859452572, 0.6405333257198327, 0.6785186917937397, 0.6663426071540903, 0.6727622290385545, 0.6802322172051839, 0.6822904437661422, 0.6848425455981513, 0.6917097688553812, 0.6837279804565054, 0.6882636775295079, 0.6917956178635982, 0.6964638570206741, 0.6937111345770268, 0.702957742325499, 0.6905972883840236, 0.7072620790629576, 0.7059730707633904, 0.7004743651877635, 0.6985999386834459, 0.7055892611155075, 0.7115299005787209, 0.7087669989606663, 0.7158316279206726, 0.7110184633710541, 0.7043307261248208, 0.7113947879287017, 0.7049869759455174, 0.7160791816910735, 0.7129957507082153, 0.7118121790168747, 0.7230135651763178, 0.7236251152553465, 0.7200589318600369, 0.7230678116671602, 0.7162582337425032, 0.7231421439016823, 0.7123796059026244, 0.7251857651455837, 0.7244164112237681, 0.7123247406013933, 0.7264896545599858, 0.7278099515423709, 0.7299955562138942, 0.7237286386222556, 0.7291905728660958, 0.7231142393714378, 0.7321513282732448, 0.7179517259582955, 0.7314926915694671, 0.7295090408862864, 0.7362568566658716, 0.7349591556854093, 0.7325157735714921, 0.728815556865056, 0.7311083496064856, 0.7280328568694705]\n",
            "\n",
            "Average train loss: 0.16096943439146794\n",
            "Validation loss: 0.20180902322133382\n",
            "Validation Accuracy: 0.9423902844316946\n",
            "Validation F1-Score: 0.7340257361088541\n"
          ]
        },
        {
          "name": "stderr",
          "output_type": "stream",
          "text": [
            "\r",
            "Epoch:  89%|████████▉ | 89/100 [14:41:18<1:06:15, 361.39s/it]"
          ]
        },
        {
          "name": "stdout",
          "output_type": "stream",
          "text": [
            "[0.0, 0.19232221522970422, 0.25009648784253186, 0.26283526041589356, 0.28138496233951915, 0.3204017216642755, 0.36238789641124564, 0.3710964148973198, 0.4468603392277156, 0.4277652861391165, 0.4661930185955915, 0.5263950398582815, 0.5339153595738384, 0.5394614802870963, 0.546889095725639, 0.5648223896663079, 0.5491479171307642, 0.5654933310411026, 0.5954727418298275, 0.6217919658394631, 0.6187856710959044, 0.6203914626891659, 0.6331974750967437, 0.641559908450495, 0.6412894678737028, 0.6268082397870617, 0.6645934218905032, 0.6545060290390167, 0.6601158250722092, 0.6487068012674083, 0.6459005996309963, 0.6712358859452572, 0.6405333257198327, 0.6785186917937397, 0.6663426071540903, 0.6727622290385545, 0.6802322172051839, 0.6822904437661422, 0.6848425455981513, 0.6917097688553812, 0.6837279804565054, 0.6882636775295079, 0.6917956178635982, 0.6964638570206741, 0.6937111345770268, 0.702957742325499, 0.6905972883840236, 0.7072620790629576, 0.7059730707633904, 0.7004743651877635, 0.6985999386834459, 0.7055892611155075, 0.7115299005787209, 0.7087669989606663, 0.7158316279206726, 0.7110184633710541, 0.7043307261248208, 0.7113947879287017, 0.7049869759455174, 0.7160791816910735, 0.7129957507082153, 0.7118121790168747, 0.7230135651763178, 0.7236251152553465, 0.7200589318600369, 0.7230678116671602, 0.7162582337425032, 0.7231421439016823, 0.7123796059026244, 0.7251857651455837, 0.7244164112237681, 0.7123247406013933, 0.7264896545599858, 0.7278099515423709, 0.7299955562138942, 0.7237286386222556, 0.7291905728660958, 0.7231142393714378, 0.7321513282732448, 0.7179517259582955, 0.7314926915694671, 0.7295090408862864, 0.7362568566658716, 0.7349591556854093, 0.7325157735714921, 0.728815556865056, 0.7311083496064856, 0.7280328568694705, 0.7340257361088541]\n",
            "\n",
            "Average train loss: 0.16021364744600403\n",
            "Validation loss: 0.20437293196717898\n",
            "Validation Accuracy: 0.9415801025954754\n",
            "Validation F1-Score: 0.7303189997490516\n"
          ]
        },
        {
          "name": "stderr",
          "output_type": "stream",
          "text": [
            "\r",
            "Epoch:  90%|█████████ | 90/100 [14:47:17<1:00:07, 360.75s/it]"
          ]
        },
        {
          "name": "stdout",
          "output_type": "stream",
          "text": [
            "[0.0, 0.19232221522970422, 0.25009648784253186, 0.26283526041589356, 0.28138496233951915, 0.3204017216642755, 0.36238789641124564, 0.3710964148973198, 0.4468603392277156, 0.4277652861391165, 0.4661930185955915, 0.5263950398582815, 0.5339153595738384, 0.5394614802870963, 0.546889095725639, 0.5648223896663079, 0.5491479171307642, 0.5654933310411026, 0.5954727418298275, 0.6217919658394631, 0.6187856710959044, 0.6203914626891659, 0.6331974750967437, 0.641559908450495, 0.6412894678737028, 0.6268082397870617, 0.6645934218905032, 0.6545060290390167, 0.6601158250722092, 0.6487068012674083, 0.6459005996309963, 0.6712358859452572, 0.6405333257198327, 0.6785186917937397, 0.6663426071540903, 0.6727622290385545, 0.6802322172051839, 0.6822904437661422, 0.6848425455981513, 0.6917097688553812, 0.6837279804565054, 0.6882636775295079, 0.6917956178635982, 0.6964638570206741, 0.6937111345770268, 0.702957742325499, 0.6905972883840236, 0.7072620790629576, 0.7059730707633904, 0.7004743651877635, 0.6985999386834459, 0.7055892611155075, 0.7115299005787209, 0.7087669989606663, 0.7158316279206726, 0.7110184633710541, 0.7043307261248208, 0.7113947879287017, 0.7049869759455174, 0.7160791816910735, 0.7129957507082153, 0.7118121790168747, 0.7230135651763178, 0.7236251152553465, 0.7200589318600369, 0.7230678116671602, 0.7162582337425032, 0.7231421439016823, 0.7123796059026244, 0.7251857651455837, 0.7244164112237681, 0.7123247406013933, 0.7264896545599858, 0.7278099515423709, 0.7299955562138942, 0.7237286386222556, 0.7291905728660958, 0.7231142393714378, 0.7321513282732448, 0.7179517259582955, 0.7314926915694671, 0.7295090408862864, 0.7362568566658716, 0.7349591556854093, 0.7325157735714921, 0.728815556865056, 0.7311083496064856, 0.7280328568694705, 0.7340257361088541, 0.7303189997490516]\n",
            "\n",
            "Average train loss: 0.15999663683016466\n",
            "Validation loss: 0.20702878373364608\n",
            "Validation Accuracy: 0.9412328818085243\n",
            "Validation F1-Score: 0.7275411966215817\n"
          ]
        },
        {
          "name": "stderr",
          "output_type": "stream",
          "text": [
            "\r",
            "Epoch:  91%|█████████ | 91/100 [14:53:16<54:03, 360.37s/it]  "
          ]
        },
        {
          "name": "stdout",
          "output_type": "stream",
          "text": [
            "[0.0, 0.19232221522970422, 0.25009648784253186, 0.26283526041589356, 0.28138496233951915, 0.3204017216642755, 0.36238789641124564, 0.3710964148973198, 0.4468603392277156, 0.4277652861391165, 0.4661930185955915, 0.5263950398582815, 0.5339153595738384, 0.5394614802870963, 0.546889095725639, 0.5648223896663079, 0.5491479171307642, 0.5654933310411026, 0.5954727418298275, 0.6217919658394631, 0.6187856710959044, 0.6203914626891659, 0.6331974750967437, 0.641559908450495, 0.6412894678737028, 0.6268082397870617, 0.6645934218905032, 0.6545060290390167, 0.6601158250722092, 0.6487068012674083, 0.6459005996309963, 0.6712358859452572, 0.6405333257198327, 0.6785186917937397, 0.6663426071540903, 0.6727622290385545, 0.6802322172051839, 0.6822904437661422, 0.6848425455981513, 0.6917097688553812, 0.6837279804565054, 0.6882636775295079, 0.6917956178635982, 0.6964638570206741, 0.6937111345770268, 0.702957742325499, 0.6905972883840236, 0.7072620790629576, 0.7059730707633904, 0.7004743651877635, 0.6985999386834459, 0.7055892611155075, 0.7115299005787209, 0.7087669989606663, 0.7158316279206726, 0.7110184633710541, 0.7043307261248208, 0.7113947879287017, 0.7049869759455174, 0.7160791816910735, 0.7129957507082153, 0.7118121790168747, 0.7230135651763178, 0.7236251152553465, 0.7200589318600369, 0.7230678116671602, 0.7162582337425032, 0.7231421439016823, 0.7123796059026244, 0.7251857651455837, 0.7244164112237681, 0.7123247406013933, 0.7264896545599858, 0.7278099515423709, 0.7299955562138942, 0.7237286386222556, 0.7291905728660958, 0.7231142393714378, 0.7321513282732448, 0.7179517259582955, 0.7314926915694671, 0.7295090408862864, 0.7362568566658716, 0.7349591556854093, 0.7325157735714921, 0.728815556865056, 0.7311083496064856, 0.7280328568694705, 0.7340257361088541, 0.7303189997490516, 0.7275411966215817]\n",
            "\n",
            "Average train loss: 0.16012945728340777\n",
            "Validation loss: 0.20222361117601395\n",
            "Validation Accuracy: 0.9424770896284325\n",
            "Validation F1-Score: 0.7356046490994588\n"
          ]
        },
        {
          "name": "stderr",
          "output_type": "stream",
          "text": [
            "\r",
            "Epoch:  92%|█████████▏| 92/100 [14:59:17<48:04, 360.55s/it]"
          ]
        },
        {
          "name": "stdout",
          "output_type": "stream",
          "text": [
            "[0.0, 0.19232221522970422, 0.25009648784253186, 0.26283526041589356, 0.28138496233951915, 0.3204017216642755, 0.36238789641124564, 0.3710964148973198, 0.4468603392277156, 0.4277652861391165, 0.4661930185955915, 0.5263950398582815, 0.5339153595738384, 0.5394614802870963, 0.546889095725639, 0.5648223896663079, 0.5491479171307642, 0.5654933310411026, 0.5954727418298275, 0.6217919658394631, 0.6187856710959044, 0.6203914626891659, 0.6331974750967437, 0.641559908450495, 0.6412894678737028, 0.6268082397870617, 0.6645934218905032, 0.6545060290390167, 0.6601158250722092, 0.6487068012674083, 0.6459005996309963, 0.6712358859452572, 0.6405333257198327, 0.6785186917937397, 0.6663426071540903, 0.6727622290385545, 0.6802322172051839, 0.6822904437661422, 0.6848425455981513, 0.6917097688553812, 0.6837279804565054, 0.6882636775295079, 0.6917956178635982, 0.6964638570206741, 0.6937111345770268, 0.702957742325499, 0.6905972883840236, 0.7072620790629576, 0.7059730707633904, 0.7004743651877635, 0.6985999386834459, 0.7055892611155075, 0.7115299005787209, 0.7087669989606663, 0.7158316279206726, 0.7110184633710541, 0.7043307261248208, 0.7113947879287017, 0.7049869759455174, 0.7160791816910735, 0.7129957507082153, 0.7118121790168747, 0.7230135651763178, 0.7236251152553465, 0.7200589318600369, 0.7230678116671602, 0.7162582337425032, 0.7231421439016823, 0.7123796059026244, 0.7251857651455837, 0.7244164112237681, 0.7123247406013933, 0.7264896545599858, 0.7278099515423709, 0.7299955562138942, 0.7237286386222556, 0.7291905728660958, 0.7231142393714378, 0.7321513282732448, 0.7179517259582955, 0.7314926915694671, 0.7295090408862864, 0.7362568566658716, 0.7349591556854093, 0.7325157735714921, 0.728815556865056, 0.7311083496064856, 0.7280328568694705, 0.7340257361088541, 0.7303189997490516, 0.7275411966215817, 0.7356046490994588]\n",
            "\n",
            "Average train loss: 0.1597325649171496\n",
            "Validation loss: 0.20417216608921687\n",
            "Validation Accuracy: 0.9425060246940117\n",
            "Validation F1-Score: 0.7345602181128498\n"
          ]
        },
        {
          "name": "stderr",
          "output_type": "stream",
          "text": [
            "\r",
            "Epoch:  93%|█████████▎| 93/100 [15:05:18<42:04, 360.64s/it]"
          ]
        },
        {
          "name": "stdout",
          "output_type": "stream",
          "text": [
            "[0.0, 0.19232221522970422, 0.25009648784253186, 0.26283526041589356, 0.28138496233951915, 0.3204017216642755, 0.36238789641124564, 0.3710964148973198, 0.4468603392277156, 0.4277652861391165, 0.4661930185955915, 0.5263950398582815, 0.5339153595738384, 0.5394614802870963, 0.546889095725639, 0.5648223896663079, 0.5491479171307642, 0.5654933310411026, 0.5954727418298275, 0.6217919658394631, 0.6187856710959044, 0.6203914626891659, 0.6331974750967437, 0.641559908450495, 0.6412894678737028, 0.6268082397870617, 0.6645934218905032, 0.6545060290390167, 0.6601158250722092, 0.6487068012674083, 0.6459005996309963, 0.6712358859452572, 0.6405333257198327, 0.6785186917937397, 0.6663426071540903, 0.6727622290385545, 0.6802322172051839, 0.6822904437661422, 0.6848425455981513, 0.6917097688553812, 0.6837279804565054, 0.6882636775295079, 0.6917956178635982, 0.6964638570206741, 0.6937111345770268, 0.702957742325499, 0.6905972883840236, 0.7072620790629576, 0.7059730707633904, 0.7004743651877635, 0.6985999386834459, 0.7055892611155075, 0.7115299005787209, 0.7087669989606663, 0.7158316279206726, 0.7110184633710541, 0.7043307261248208, 0.7113947879287017, 0.7049869759455174, 0.7160791816910735, 0.7129957507082153, 0.7118121790168747, 0.7230135651763178, 0.7236251152553465, 0.7200589318600369, 0.7230678116671602, 0.7162582337425032, 0.7231421439016823, 0.7123796059026244, 0.7251857651455837, 0.7244164112237681, 0.7123247406013933, 0.7264896545599858, 0.7278099515423709, 0.7299955562138942, 0.7237286386222556, 0.7291905728660958, 0.7231142393714378, 0.7321513282732448, 0.7179517259582955, 0.7314926915694671, 0.7295090408862864, 0.7362568566658716, 0.7349591556854093, 0.7325157735714921, 0.728815556865056, 0.7311083496064856, 0.7280328568694705, 0.7340257361088541, 0.7303189997490516, 0.7275411966215817, 0.7356046490994588, 0.7345602181128498]\n",
            "\n",
            "Average train loss: 0.15848663273742042\n",
            "Validation loss: 0.20191791740556558\n",
            "Validation Accuracy: 0.9424564217244472\n",
            "Validation F1-Score: 0.7338956262278615\n"
          ]
        },
        {
          "name": "stderr",
          "output_type": "stream",
          "text": [
            "\r",
            "Epoch:  94%|█████████▍| 94/100 [15:11:20<36:05, 360.94s/it]"
          ]
        },
        {
          "name": "stdout",
          "output_type": "stream",
          "text": [
            "[0.0, 0.19232221522970422, 0.25009648784253186, 0.26283526041589356, 0.28138496233951915, 0.3204017216642755, 0.36238789641124564, 0.3710964148973198, 0.4468603392277156, 0.4277652861391165, 0.4661930185955915, 0.5263950398582815, 0.5339153595738384, 0.5394614802870963, 0.546889095725639, 0.5648223896663079, 0.5491479171307642, 0.5654933310411026, 0.5954727418298275, 0.6217919658394631, 0.6187856710959044, 0.6203914626891659, 0.6331974750967437, 0.641559908450495, 0.6412894678737028, 0.6268082397870617, 0.6645934218905032, 0.6545060290390167, 0.6601158250722092, 0.6487068012674083, 0.6459005996309963, 0.6712358859452572, 0.6405333257198327, 0.6785186917937397, 0.6663426071540903, 0.6727622290385545, 0.6802322172051839, 0.6822904437661422, 0.6848425455981513, 0.6917097688553812, 0.6837279804565054, 0.6882636775295079, 0.6917956178635982, 0.6964638570206741, 0.6937111345770268, 0.702957742325499, 0.6905972883840236, 0.7072620790629576, 0.7059730707633904, 0.7004743651877635, 0.6985999386834459, 0.7055892611155075, 0.7115299005787209, 0.7087669989606663, 0.7158316279206726, 0.7110184633710541, 0.7043307261248208, 0.7113947879287017, 0.7049869759455174, 0.7160791816910735, 0.7129957507082153, 0.7118121790168747, 0.7230135651763178, 0.7236251152553465, 0.7200589318600369, 0.7230678116671602, 0.7162582337425032, 0.7231421439016823, 0.7123796059026244, 0.7251857651455837, 0.7244164112237681, 0.7123247406013933, 0.7264896545599858, 0.7278099515423709, 0.7299955562138942, 0.7237286386222556, 0.7291905728660958, 0.7231142393714378, 0.7321513282732448, 0.7179517259582955, 0.7314926915694671, 0.7295090408862864, 0.7362568566658716, 0.7349591556854093, 0.7325157735714921, 0.728815556865056, 0.7311083496064856, 0.7280328568694705, 0.7340257361088541, 0.7303189997490516, 0.7275411966215817, 0.7356046490994588, 0.7345602181128498, 0.7338956262278615]\n",
            "\n",
            "Average train loss: 0.15878242153901176\n",
            "Validation loss: 0.20098173223435878\n",
            "Validation Accuracy: 0.942758173122631\n",
            "Validation F1-Score: 0.7347446336047373\n"
          ]
        },
        {
          "name": "stderr",
          "output_type": "stream",
          "text": [
            "\r",
            "Epoch:  95%|█████████▌| 95/100 [15:17:20<30:02, 360.57s/it]"
          ]
        },
        {
          "name": "stdout",
          "output_type": "stream",
          "text": [
            "[0.0, 0.19232221522970422, 0.25009648784253186, 0.26283526041589356, 0.28138496233951915, 0.3204017216642755, 0.36238789641124564, 0.3710964148973198, 0.4468603392277156, 0.4277652861391165, 0.4661930185955915, 0.5263950398582815, 0.5339153595738384, 0.5394614802870963, 0.546889095725639, 0.5648223896663079, 0.5491479171307642, 0.5654933310411026, 0.5954727418298275, 0.6217919658394631, 0.6187856710959044, 0.6203914626891659, 0.6331974750967437, 0.641559908450495, 0.6412894678737028, 0.6268082397870617, 0.6645934218905032, 0.6545060290390167, 0.6601158250722092, 0.6487068012674083, 0.6459005996309963, 0.6712358859452572, 0.6405333257198327, 0.6785186917937397, 0.6663426071540903, 0.6727622290385545, 0.6802322172051839, 0.6822904437661422, 0.6848425455981513, 0.6917097688553812, 0.6837279804565054, 0.6882636775295079, 0.6917956178635982, 0.6964638570206741, 0.6937111345770268, 0.702957742325499, 0.6905972883840236, 0.7072620790629576, 0.7059730707633904, 0.7004743651877635, 0.6985999386834459, 0.7055892611155075, 0.7115299005787209, 0.7087669989606663, 0.7158316279206726, 0.7110184633710541, 0.7043307261248208, 0.7113947879287017, 0.7049869759455174, 0.7160791816910735, 0.7129957507082153, 0.7118121790168747, 0.7230135651763178, 0.7236251152553465, 0.7200589318600369, 0.7230678116671602, 0.7162582337425032, 0.7231421439016823, 0.7123796059026244, 0.7251857651455837, 0.7244164112237681, 0.7123247406013933, 0.7264896545599858, 0.7278099515423709, 0.7299955562138942, 0.7237286386222556, 0.7291905728660958, 0.7231142393714378, 0.7321513282732448, 0.7179517259582955, 0.7314926915694671, 0.7295090408862864, 0.7362568566658716, 0.7349591556854093, 0.7325157735714921, 0.728815556865056, 0.7311083496064856, 0.7280328568694705, 0.7340257361088541, 0.7303189997490516, 0.7275411966215817, 0.7356046490994588, 0.7345602181128498, 0.7338956262278615, 0.7347446336047373]\n",
            "\n",
            "Average train loss: 0.15878204383061667\n",
            "Validation loss: 0.2029785181581974\n",
            "Validation Accuracy: 0.9422414755230013\n",
            "Validation F1-Score: 0.7322536792954666\n"
          ]
        },
        {
          "name": "stderr",
          "output_type": "stream",
          "text": [
            "\r",
            "Epoch:  96%|█████████▌| 96/100 [15:23:21<24:03, 360.83s/it]"
          ]
        },
        {
          "name": "stdout",
          "output_type": "stream",
          "text": [
            "[0.0, 0.19232221522970422, 0.25009648784253186, 0.26283526041589356, 0.28138496233951915, 0.3204017216642755, 0.36238789641124564, 0.3710964148973198, 0.4468603392277156, 0.4277652861391165, 0.4661930185955915, 0.5263950398582815, 0.5339153595738384, 0.5394614802870963, 0.546889095725639, 0.5648223896663079, 0.5491479171307642, 0.5654933310411026, 0.5954727418298275, 0.6217919658394631, 0.6187856710959044, 0.6203914626891659, 0.6331974750967437, 0.641559908450495, 0.6412894678737028, 0.6268082397870617, 0.6645934218905032, 0.6545060290390167, 0.6601158250722092, 0.6487068012674083, 0.6459005996309963, 0.6712358859452572, 0.6405333257198327, 0.6785186917937397, 0.6663426071540903, 0.6727622290385545, 0.6802322172051839, 0.6822904437661422, 0.6848425455981513, 0.6917097688553812, 0.6837279804565054, 0.6882636775295079, 0.6917956178635982, 0.6964638570206741, 0.6937111345770268, 0.702957742325499, 0.6905972883840236, 0.7072620790629576, 0.7059730707633904, 0.7004743651877635, 0.6985999386834459, 0.7055892611155075, 0.7115299005787209, 0.7087669989606663, 0.7158316279206726, 0.7110184633710541, 0.7043307261248208, 0.7113947879287017, 0.7049869759455174, 0.7160791816910735, 0.7129957507082153, 0.7118121790168747, 0.7230135651763178, 0.7236251152553465, 0.7200589318600369, 0.7230678116671602, 0.7162582337425032, 0.7231421439016823, 0.7123796059026244, 0.7251857651455837, 0.7244164112237681, 0.7123247406013933, 0.7264896545599858, 0.7278099515423709, 0.7299955562138942, 0.7237286386222556, 0.7291905728660958, 0.7231142393714378, 0.7321513282732448, 0.7179517259582955, 0.7314926915694671, 0.7295090408862864, 0.7362568566658716, 0.7349591556854093, 0.7325157735714921, 0.728815556865056, 0.7311083496064856, 0.7280328568694705, 0.7340257361088541, 0.7303189997490516, 0.7275411966215817, 0.7356046490994588, 0.7345602181128498, 0.7338956262278615, 0.7347446336047373, 0.7322536792954666]\n",
            "\n",
            "Average train loss: 0.1580087150213269\n",
            "Validation loss: 0.20111589543521405\n",
            "Validation Accuracy: 0.9426755015066902\n",
            "Validation F1-Score: 0.7351895734597157\n"
          ]
        },
        {
          "name": "stderr",
          "output_type": "stream",
          "text": [
            "\r",
            "Epoch:  97%|█████████▋| 97/100 [15:29:23<18:03, 361.06s/it]"
          ]
        },
        {
          "name": "stdout",
          "output_type": "stream",
          "text": [
            "[0.0, 0.19232221522970422, 0.25009648784253186, 0.26283526041589356, 0.28138496233951915, 0.3204017216642755, 0.36238789641124564, 0.3710964148973198, 0.4468603392277156, 0.4277652861391165, 0.4661930185955915, 0.5263950398582815, 0.5339153595738384, 0.5394614802870963, 0.546889095725639, 0.5648223896663079, 0.5491479171307642, 0.5654933310411026, 0.5954727418298275, 0.6217919658394631, 0.6187856710959044, 0.6203914626891659, 0.6331974750967437, 0.641559908450495, 0.6412894678737028, 0.6268082397870617, 0.6645934218905032, 0.6545060290390167, 0.6601158250722092, 0.6487068012674083, 0.6459005996309963, 0.6712358859452572, 0.6405333257198327, 0.6785186917937397, 0.6663426071540903, 0.6727622290385545, 0.6802322172051839, 0.6822904437661422, 0.6848425455981513, 0.6917097688553812, 0.6837279804565054, 0.6882636775295079, 0.6917956178635982, 0.6964638570206741, 0.6937111345770268, 0.702957742325499, 0.6905972883840236, 0.7072620790629576, 0.7059730707633904, 0.7004743651877635, 0.6985999386834459, 0.7055892611155075, 0.7115299005787209, 0.7087669989606663, 0.7158316279206726, 0.7110184633710541, 0.7043307261248208, 0.7113947879287017, 0.7049869759455174, 0.7160791816910735, 0.7129957507082153, 0.7118121790168747, 0.7230135651763178, 0.7236251152553465, 0.7200589318600369, 0.7230678116671602, 0.7162582337425032, 0.7231421439016823, 0.7123796059026244, 0.7251857651455837, 0.7244164112237681, 0.7123247406013933, 0.7264896545599858, 0.7278099515423709, 0.7299955562138942, 0.7237286386222556, 0.7291905728660958, 0.7231142393714378, 0.7321513282732448, 0.7179517259582955, 0.7314926915694671, 0.7295090408862864, 0.7362568566658716, 0.7349591556854093, 0.7325157735714921, 0.728815556865056, 0.7311083496064856, 0.7280328568694705, 0.7340257361088541, 0.7303189997490516, 0.7275411966215817, 0.7356046490994588, 0.7345602181128498, 0.7338956262278615, 0.7347446336047373, 0.7322536792954666, 0.7351895734597157]\n",
            "\n",
            "Average train loss: 0.15825283378238375\n",
            "Validation loss: 0.20210857289532821\n",
            "Validation Accuracy: 0.9423820172701006\n",
            "Validation F1-Score: 0.7336757804982755\n"
          ]
        },
        {
          "name": "stderr",
          "output_type": "stream",
          "text": [
            "\r",
            "Epoch:  98%|█████████▊| 98/100 [15:35:23<12:01, 360.91s/it]"
          ]
        },
        {
          "name": "stdout",
          "output_type": "stream",
          "text": [
            "[0.0, 0.19232221522970422, 0.25009648784253186, 0.26283526041589356, 0.28138496233951915, 0.3204017216642755, 0.36238789641124564, 0.3710964148973198, 0.4468603392277156, 0.4277652861391165, 0.4661930185955915, 0.5263950398582815, 0.5339153595738384, 0.5394614802870963, 0.546889095725639, 0.5648223896663079, 0.5491479171307642, 0.5654933310411026, 0.5954727418298275, 0.6217919658394631, 0.6187856710959044, 0.6203914626891659, 0.6331974750967437, 0.641559908450495, 0.6412894678737028, 0.6268082397870617, 0.6645934218905032, 0.6545060290390167, 0.6601158250722092, 0.6487068012674083, 0.6459005996309963, 0.6712358859452572, 0.6405333257198327, 0.6785186917937397, 0.6663426071540903, 0.6727622290385545, 0.6802322172051839, 0.6822904437661422, 0.6848425455981513, 0.6917097688553812, 0.6837279804565054, 0.6882636775295079, 0.6917956178635982, 0.6964638570206741, 0.6937111345770268, 0.702957742325499, 0.6905972883840236, 0.7072620790629576, 0.7059730707633904, 0.7004743651877635, 0.6985999386834459, 0.7055892611155075, 0.7115299005787209, 0.7087669989606663, 0.7158316279206726, 0.7110184633710541, 0.7043307261248208, 0.7113947879287017, 0.7049869759455174, 0.7160791816910735, 0.7129957507082153, 0.7118121790168747, 0.7230135651763178, 0.7236251152553465, 0.7200589318600369, 0.7230678116671602, 0.7162582337425032, 0.7231421439016823, 0.7123796059026244, 0.7251857651455837, 0.7244164112237681, 0.7123247406013933, 0.7264896545599858, 0.7278099515423709, 0.7299955562138942, 0.7237286386222556, 0.7291905728660958, 0.7231142393714378, 0.7321513282732448, 0.7179517259582955, 0.7314926915694671, 0.7295090408862864, 0.7362568566658716, 0.7349591556854093, 0.7325157735714921, 0.728815556865056, 0.7311083496064856, 0.7280328568694705, 0.7340257361088541, 0.7303189997490516, 0.7275411966215817, 0.7356046490994588, 0.7345602181128498, 0.7338956262278615, 0.7347446336047373, 0.7322536792954666, 0.7351895734597157, 0.7336757804982755]\n",
            "\n",
            "Average train loss: 0.15810876887126998\n",
            "Validation loss: 0.20180017677446208\n",
            "Validation Accuracy: 0.9426134977947347\n",
            "Validation F1-Score: 0.7346280233281033\n"
          ]
        },
        {
          "name": "stderr",
          "output_type": "stream",
          "text": [
            "\r",
            "Epoch:  99%|█████████▉| 99/100 [15:41:25<06:01, 361.16s/it]"
          ]
        },
        {
          "name": "stdout",
          "output_type": "stream",
          "text": [
            "[0.0, 0.19232221522970422, 0.25009648784253186, 0.26283526041589356, 0.28138496233951915, 0.3204017216642755, 0.36238789641124564, 0.3710964148973198, 0.4468603392277156, 0.4277652861391165, 0.4661930185955915, 0.5263950398582815, 0.5339153595738384, 0.5394614802870963, 0.546889095725639, 0.5648223896663079, 0.5491479171307642, 0.5654933310411026, 0.5954727418298275, 0.6217919658394631, 0.6187856710959044, 0.6203914626891659, 0.6331974750967437, 0.641559908450495, 0.6412894678737028, 0.6268082397870617, 0.6645934218905032, 0.6545060290390167, 0.6601158250722092, 0.6487068012674083, 0.6459005996309963, 0.6712358859452572, 0.6405333257198327, 0.6785186917937397, 0.6663426071540903, 0.6727622290385545, 0.6802322172051839, 0.6822904437661422, 0.6848425455981513, 0.6917097688553812, 0.6837279804565054, 0.6882636775295079, 0.6917956178635982, 0.6964638570206741, 0.6937111345770268, 0.702957742325499, 0.6905972883840236, 0.7072620790629576, 0.7059730707633904, 0.7004743651877635, 0.6985999386834459, 0.7055892611155075, 0.7115299005787209, 0.7087669989606663, 0.7158316279206726, 0.7110184633710541, 0.7043307261248208, 0.7113947879287017, 0.7049869759455174, 0.7160791816910735, 0.7129957507082153, 0.7118121790168747, 0.7230135651763178, 0.7236251152553465, 0.7200589318600369, 0.7230678116671602, 0.7162582337425032, 0.7231421439016823, 0.7123796059026244, 0.7251857651455837, 0.7244164112237681, 0.7123247406013933, 0.7264896545599858, 0.7278099515423709, 0.7299955562138942, 0.7237286386222556, 0.7291905728660958, 0.7231142393714378, 0.7321513282732448, 0.7179517259582955, 0.7314926915694671, 0.7295090408862864, 0.7362568566658716, 0.7349591556854093, 0.7325157735714921, 0.728815556865056, 0.7311083496064856, 0.7280328568694705, 0.7340257361088541, 0.7303189997490516, 0.7275411966215817, 0.7356046490994588, 0.7345602181128498, 0.7338956262278615, 0.7347446336047373, 0.7322536792954666, 0.7351895734597157, 0.7336757804982755, 0.7346280233281033]\n",
            "\n",
            "Average train loss: 0.1575551599332499\n",
            "Validation loss: 0.20195251459876695\n",
            "Validation Accuracy: 0.9424646888860413\n",
            "Validation F1-Score: 0.7339259259259258\n"
          ]
        },
        {
          "name": "stderr",
          "output_type": "stream",
          "text": [
            "Epoch: 100%|██████████| 100/100 [15:47:25<00:00, 568.45s/it]"
          ]
        },
        {
          "name": "stdout",
          "output_type": "stream",
          "text": [
            "[0.0, 0.19232221522970422, 0.25009648784253186, 0.26283526041589356, 0.28138496233951915, 0.3204017216642755, 0.36238789641124564, 0.3710964148973198, 0.4468603392277156, 0.4277652861391165, 0.4661930185955915, 0.5263950398582815, 0.5339153595738384, 0.5394614802870963, 0.546889095725639, 0.5648223896663079, 0.5491479171307642, 0.5654933310411026, 0.5954727418298275, 0.6217919658394631, 0.6187856710959044, 0.6203914626891659, 0.6331974750967437, 0.641559908450495, 0.6412894678737028, 0.6268082397870617, 0.6645934218905032, 0.6545060290390167, 0.6601158250722092, 0.6487068012674083, 0.6459005996309963, 0.6712358859452572, 0.6405333257198327, 0.6785186917937397, 0.6663426071540903, 0.6727622290385545, 0.6802322172051839, 0.6822904437661422, 0.6848425455981513, 0.6917097688553812, 0.6837279804565054, 0.6882636775295079, 0.6917956178635982, 0.6964638570206741, 0.6937111345770268, 0.702957742325499, 0.6905972883840236, 0.7072620790629576, 0.7059730707633904, 0.7004743651877635, 0.6985999386834459, 0.7055892611155075, 0.7115299005787209, 0.7087669989606663, 0.7158316279206726, 0.7110184633710541, 0.7043307261248208, 0.7113947879287017, 0.7049869759455174, 0.7160791816910735, 0.7129957507082153, 0.7118121790168747, 0.7230135651763178, 0.7236251152553465, 0.7200589318600369, 0.7230678116671602, 0.7162582337425032, 0.7231421439016823, 0.7123796059026244, 0.7251857651455837, 0.7244164112237681, 0.7123247406013933, 0.7264896545599858, 0.7278099515423709, 0.7299955562138942, 0.7237286386222556, 0.7291905728660958, 0.7231142393714378, 0.7321513282732448, 0.7179517259582955, 0.7314926915694671, 0.7295090408862864, 0.7362568566658716, 0.7349591556854093, 0.7325157735714921, 0.728815556865056, 0.7311083496064856, 0.7280328568694705, 0.7340257361088541, 0.7303189997490516, 0.7275411966215817, 0.7356046490994588, 0.7345602181128498, 0.7338956262278615, 0.7347446336047373, 0.7322536792954666, 0.7351895734597157, 0.7336757804982755, 0.7346280233281033, 0.7339259259259258]\n",
            "\n"
          ]
        },
        {
          "name": "stderr",
          "output_type": "stream",
          "text": [
            "\n"
          ]
        }
      ]
    },
    {
      "cell_type": "code",
      "metadata": {
        "id": "G0SlUNZFksLE"
      },
      "source": [
        "PATH = \"ModelBT100E38KNERDATASET.pt\"\n",
        "torch.save(nermodel.state_dict(), PATH)"
      ],
      "execution_count": null,
      "outputs": []
    },
    {
      "cell_type": "code",
      "metadata": {
        "colab": {
          "base_uri": "https://localhost:8080/",
          "height": 427
        },
        "id": "XzcPZ7x2urzJ",
        "outputId": "b703551f-1c14-46dd-ee7f-540bc0ced652"
      },
      "source": [
        "import matplotlib.pyplot as plt\n",
        "%matplotlib inline\n",
        "\n",
        "import seaborn as sns\n",
        "\n",
        "# Use plot styling from seaborn.\n",
        "sns.set(style='darkgrid')\n",
        "\n",
        "# Increase the plot size and font size.\n",
        "sns.set(font_scale=1.5)\n",
        "plt.rcParams[\"figure.figsize\"] = (12,6)\n",
        "\n",
        "# Plot the learning curve.\n",
        "plt.plot(loss_values, 'b-o', label=\"training loss\")\n",
        "plt.plot(validation_loss_values, 'r-o', label=\"validation loss\")\n",
        "plt.plot(f1_scores, 'y-o', label=\"f1\")\n",
        "# Label the plot.\n",
        "plt.title(\"Learning curve\")\n",
        "plt.xlabel(\"Epoch\")\n",
        "plt.ylabel(\"Loss\")\n",
        "plt.legend()\n",
        "\n",
        "plt.show()\n"
      ],
      "execution_count": null,
      "outputs": [
        {
          "data": {
            "image/png": "[encoded data removed]",
            "text/plain": [
              "<Figure size 864x432 with 1 Axes>"
            ]
          },
          "metadata": {},
          "output_type": "display_data"
        }
      ]
    },
    {
      "cell_type": "code",
      "metadata": {
        "id": "c9q2lX5UXmFL"
      },
      "source": [
        "#nermodel.load_state_dict(torch.load(\"ModelWithBertTokenizer50E38K.pt\"))"
      ],
      "execution_count": null,
      "outputs": []
    },
    {
      "cell_type": "code",
      "metadata": {
        "id": "dyIV2Z2VXmFM"
      },
      "source": [
        "#nermodel.eval()"
      ],
      "execution_count": null,
      "outputs": []
    },
    {
      "cell_type": "code",
      "metadata": {
        "id": "nuAaH6BburzJ"
      },
      "source": [
        "#test_sentence = \"The Joint Coordination and Monitoring Board Monday , says insurgent violence has killed 3700 people so far this year , most of them rebels.\"\n",
        "#test_sentence = \"Thousands of demonstrators have marched through London to protest the war in Iraq and demand the withdrawal of British troops from that country.\"\n",
        "test_sentence = \"Who are the developers of Skype?\""
      ],
      "execution_count": null,
      "outputs": []
    },
    {
      "cell_type": "code",
      "metadata": {
        "id": "1jHgOunTurzK"
      },
      "source": [
        "tokenized_sentence = tokenizer.encode(test_sentence)\n",
        "input_ids = torch.tensor([tokenized_sentence])"
      ],
      "execution_count": null,
      "outputs": []
    },
    {
      "cell_type": "code",
      "metadata": {
        "id": "WffN2WEWurzK"
      },
      "source": [
        "with torch.no_grad():\n",
        "    output = nermodel(input_ids.to(device))\n",
        "label_indices = np.argmax(output[0].to('cpu').numpy(), axis=2)\n",
        "print(label_indices)"
      ],
      "execution_count": null,
      "outputs": []
    },
    {
      "cell_type": "code",
      "metadata": {
        "id": "1b9sGaZQurzK"
      },
      "source": [
        "tokens = tokenizer.convert_ids_to_tokens(input_ids.numpy()[0])\n",
        "print(tokens)\n",
        "\n",
        "new_tokens, new_labels = [], []\n",
        "for token, label_idx in zip(tokens, label_indices[0]):\n",
        "    if token.startswith(\"##\"):\n",
        "        new_tokens[-1] = new_tokens[-1] + token[2:]\n",
        "    else: \n",
        "        new_labels.append(tag_values[label_idx])\n",
        "        new_tokens.append(token)\n",
        "print(new_labels)"
      ],
      "execution_count": null,
      "outputs": []
    },
    {
      "cell_type": "code",
      "metadata": {
        "colab": {
          "base_uri": "https://localhost:8080/"
        },
        "id": "kOnNXdB_urzK",
        "scrolled": true,
        "outputId": "8dbb3c22-718c-4677-a265-c7ae642f6f51"
      },
      "source": [
        "entities = []\n",
        "for token, label in zip(new_tokens, new_labels):\n",
        "    if label != \"O\":\n",
        "        print(\"{}\\t{}\".format(label, token))\n",
        "        entities.append(token.lower())\n",
        "        #entities.append(token)\n",
        "print(test_sentence)\n",
        "print(entities)        \n",
        "        "
      ],
      "execution_count": null,
      "outputs": [
        {
          "name": "stdout",
          "output_type": "stream",
          "text": [
            "B-org\tSkype\n",
            "Who are the developers of Skype\n",
            "['skype']\n"
          ]
        }
      ]
    }
  ]
}